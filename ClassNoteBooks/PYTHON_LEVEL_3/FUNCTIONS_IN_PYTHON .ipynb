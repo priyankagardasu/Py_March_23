{
 "cells": [
  {
   "cell_type": "code",
   "execution_count": 17,
   "metadata": {},
   "outputs": [],
   "source": [
    "from IPython.core.interactiveshell import InteractiveShell\n",
    "InteractiveShell.ast_node_interactivity = \"all\""
   ]
  },
  {
   "cell_type": "markdown",
   "metadata": {},
   "source": [
    "### Functions\n",
    "\n",
    "- A function is a block of code which only runs when it is called.\n",
    "\n",
    "- In simple terms , grouping a set of lines of code , place it under a container.\n",
    "\n",
    "- It Performs the Specific Task \n",
    "- Its another level of Abstraction\n",
    "- Functions accept the Data in the form of parameters / agruments\n",
    "- In Python Functions return something as result\n",
    "- By default it returns None type\n",
    "\n",
    "- A function is a block of organized, reusable code that is used to perform a single, related action. Functions provide better modularity for your application and a high degree of code reusing.\n",
    "\n",
    "- In Python def Keyword is used to declare the Functions\n",
    "- syntax:\n",
    "\n",
    "def functionName(arg1, arg2):\n",
    "\n",
    "\n",
    "    //body\n",
    "    return \n",
    "    \n",
    "    \n",
    "\n",
    "- two phases of functions\n",
    " \n",
    " 1.Declaration \n",
    " \n",
    " 2.Invoking / Calling\n",
    " \n",
    "- A function Must Declare before calling it\n",
    "\n",
    "#### Advantages:\n",
    "\n",
    "- Perform a specific Action\n",
    "- Code Resuability\n",
    "- Modularity\n"
   ]
  },
  {
   "cell_type": "code",
   "execution_count": null,
   "metadata": {},
   "outputs": [],
   "source": []
  },
  {
   "cell_type": "markdown",
   "metadata": {},
   "source": [
    "<img src =\" https://swcarpentry.github.io/python-novice-inflammation/fig/python-function.svg\">"
   ]
  },
  {
   "cell_type": "code",
   "execution_count": 19,
   "metadata": {},
   "outputs": [
    {
     "name": "stdout",
     "output_type": "stream",
     "text": [
      "hello\n",
      "None\n"
     ]
    }
   ],
   "source": [
    "a = print('hello')\n",
    "print(a)"
   ]
  },
  {
   "cell_type": "code",
   "execution_count": 22,
   "metadata": {},
   "outputs": [
    {
     "name": "stdout",
     "output_type": "stream",
     "text": [
      "hello\n",
      "None\n"
     ]
    }
   ],
   "source": [
    "print(print(\"hello\"))"
   ]
  },
  {
   "cell_type": "markdown",
   "metadata": {},
   "source": [
    "### Note\n",
    "\n",
    "- whenever we store fun calling in variable or calling from another function/method always it will expect the return value.\n",
    "- If the function is not returning any value , by default it will return None Type"
   ]
  },
  {
   "cell_type": "code",
   "execution_count": 23,
   "metadata": {},
   "outputs": [],
   "source": [
    "def fahrToCelsisus(t):\n",
    "    res = ((t-32) * (5/9))\n",
    "    return (res)\n",
    "    \n",
    "    "
   ]
  },
  {
   "cell_type": "code",
   "execution_count": 24,
   "metadata": {},
   "outputs": [
    {
     "name": "stdout",
     "output_type": "stream",
     "text": [
      "38.88888888888889\n"
     ]
    }
   ],
   "source": [
    "print(fahrToCelsisus(102))\n"
   ]
  },
  {
   "cell_type": "code",
   "execution_count": 16,
   "metadata": {},
   "outputs": [
    {
     "data": {
      "text/plain": [
       "10"
      ]
     },
     "execution_count": 16,
     "metadata": {},
     "output_type": "execute_result"
    }
   ],
   "source": []
  },
  {
   "cell_type": "markdown",
   "metadata": {},
   "source": [
    "### Types \n",
    "   - PreBuild\n",
    "   - UserBuild"
   ]
  },
  {
   "cell_type": "code",
   "execution_count": null,
   "metadata": {},
   "outputs": [],
   "source": [
    "\n",
    "# prebuild methods/functions \n",
    "print() , range() , type() , dir() , id() , max() , min()\n",
    "\n",
    "sum()  , round() , pow() , input() , int() , float() , complex() . \n",
    "\n",
    "#prebuild methods code written by python language developer.\n",
    "\n",
    "#  if you want to define your own methods , we have to write the user defined functions.\n",
    "\n",
    "#  method/functions to  do a specific task."
   ]
  },
  {
   "cell_type": "code",
   "execution_count": 25,
   "metadata": {},
   "outputs": [
    {
     "name": "stdout",
     "output_type": "stream",
     "text": [
      "AKAKAKAKAKAKAKAKAKAK\n"
     ]
    }
   ],
   "source": []
  },
  {
   "cell_type": "code",
   "execution_count": 26,
   "metadata": {
    "scrolled": true
   },
   "outputs": [
    {
     "name": "stdout",
     "output_type": "stream",
     "text": [
      "Ak Ak Ak Ak Ak Ak Ak Ak Ak Ak "
     ]
    }
   ],
   "source": [
    "name=\"Ak\"\n",
    "for i in range(10):\n",
    "    print(name,end=\" \")"
   ]
  },
  {
   "cell_type": "code",
   "execution_count": 27,
   "metadata": {
    "scrolled": true
   },
   "outputs": [
    {
     "name": "stdout",
     "output_type": "stream",
     "text": [
      "swati swati swati swati swati swati swati swati swati swati "
     ]
    }
   ],
   "source": [
    "name=\"swati\"\n",
    "for i in range(10):\n",
    "    print(name,end=\" \")"
   ]
  },
  {
   "cell_type": "code",
   "execution_count": 28,
   "metadata": {
    "scrolled": true
   },
   "outputs": [
    {
     "name": "stdout",
     "output_type": "stream",
     "text": [
      "Ganesh Ganesh Ganesh Ganesh Ganesh Ganesh Ganesh Ganesh Ganesh Ganesh "
     ]
    }
   ],
   "source": [
    "name=\"Ganesh\"\n",
    "for i in range(10):\n",
    "    print(name,end=\" \")"
   ]
  },
  {
   "cell_type": "code",
   "execution_count": null,
   "metadata": {
    "scrolled": true
   },
   "outputs": [],
   "source": []
  },
  {
   "cell_type": "code",
   "execution_count": null,
   "metadata": {
    "scrolled": true
   },
   "outputs": [],
   "source": [
    "name=\"Eddie the Eagle\"\n",
    "for i in range(10):\n",
    "    print(name,end=\" \")"
   ]
  },
  {
   "cell_type": "code",
   "execution_count": 29,
   "metadata": {
    "scrolled": true
   },
   "outputs": [],
   "source": [
    "# Declaration\n",
    "def userPrint(name):\n",
    "    for i in range(10):\n",
    "        print(name , end=\" \")"
   ]
  },
  {
   "cell_type": "code",
   "execution_count": 30,
   "metadata": {
    "scrolled": true
   },
   "outputs": [
    {
     "name": "stdout",
     "output_type": "stream",
     "text": [
      "Ganesh Ganesh Ganesh Ganesh Ganesh Ganesh Ganesh Ganesh Ganesh Ganesh "
     ]
    }
   ],
   "source": [
    "userPrint(\"Ganesh\") #calling"
   ]
  },
  {
   "cell_type": "code",
   "execution_count": 31,
   "metadata": {
    "scrolled": true
   },
   "outputs": [
    {
     "name": "stdout",
     "output_type": "stream",
     "text": [
      "Rajamoni Rajamoni Rajamoni Rajamoni Rajamoni Rajamoni Rajamoni Rajamoni Rajamoni Rajamoni "
     ]
    }
   ],
   "source": [
    "userPrint(\"Rajamoni\")"
   ]
  },
  {
   "cell_type": "code",
   "execution_count": null,
   "metadata": {
    "scrolled": true
   },
   "outputs": [],
   "source": []
  },
  {
   "cell_type": "code",
   "execution_count": 32,
   "metadata": {
    "scrolled": true
   },
   "outputs": [
    {
     "name": "stdout",
     "output_type": "stream",
     "text": [
      "hello hello hello hello hello hello hello hello hello hello None <class 'NoneType'>\n"
     ]
    }
   ],
   "source": [
    "r = userPrint(\"hello\") #calling\n",
    "print(r , type(r))\n",
    "\n",
    "#if you want have return statement , by default it will return None"
   ]
  },
  {
   "cell_type": "code",
   "execution_count": 33,
   "metadata": {
    "scrolled": true
   },
   "outputs": [
    {
     "name": "stdout",
     "output_type": "stream",
     "text": [
      "20\n"
     ]
    }
   ],
   "source": [
    "def myFun(a,b):\n",
    "    return b\n",
    "\n",
    "r = myFun(10,20)\n",
    "\n",
    "print(r)"
   ]
  },
  {
   "cell_type": "code",
   "execution_count": null,
   "metadata": {},
   "outputs": [],
   "source": []
  },
  {
   "cell_type": "code",
   "execution_count": 34,
   "metadata": {
    "scrolled": true
   },
   "outputs": [
    {
     "name": "stdout",
     "output_type": "stream",
     "text": [
      "230\n"
     ]
    }
   ],
   "source": [
    "print(myFun(10,230))"
   ]
  },
  {
   "cell_type": "code",
   "execution_count": 35,
   "metadata": {
    "scrolled": true
   },
   "outputs": [],
   "source": [
    "def calculation(a,b,op):\n",
    "    if op==\"+\":\n",
    "        return a+b\n",
    "    elif op==\"*\":\n",
    "        return a*b\n",
    "    else:\n",
    "        return \"Invalid operator\"\n",
    "\n",
    "def power(num):\n",
    "    return num**num"
   ]
  },
  {
   "cell_type": "code",
   "execution_count": 36,
   "metadata": {
    "scrolled": true
   },
   "outputs": [
    {
     "name": "stdout",
     "output_type": "stream",
     "text": [
      "40\n"
     ]
    }
   ],
   "source": [
    "res = calculation(10,30,\"+\")\n",
    "print(res)"
   ]
  },
  {
   "cell_type": "code",
   "execution_count": 37,
   "metadata": {
    "scrolled": true
   },
   "outputs": [
    {
     "name": "stdout",
     "output_type": "stream",
     "text": [
      "370\n"
     ]
    }
   ],
   "source": [
    "print(calculation(10,360,\"+\"))"
   ]
  },
  {
   "cell_type": "code",
   "execution_count": 38,
   "metadata": {
    "scrolled": true
   },
   "outputs": [
    {
     "name": "stdout",
     "output_type": "stream",
     "text": [
      "4\n",
      "256 4\n"
     ]
    }
   ],
   "source": [
    "res = calculation(2,2,'*')\n",
    "print(res)\n",
    "\n",
    "power_res = power(res)\n",
    "print(power_res,res)"
   ]
  },
  {
   "cell_type": "code",
   "execution_count": null,
   "metadata": {
    "scrolled": true
   },
   "outputs": [],
   "source": []
  },
  {
   "cell_type": "code",
   "execution_count": 47,
   "metadata": {
    "scrolled": true
   },
   "outputs": [
    {
     "ename": "NameError",
     "evalue": "name 'c' is not defined",
     "output_type": "error",
     "traceback": [
      "\u001b[1;31m---------------------------------------------------------------------------\u001b[0m",
      "\u001b[1;31mNameError\u001b[0m                                 Traceback (most recent call last)",
      "Cell \u001b[1;32mIn[47], line 4\u001b[0m\n\u001b[0;32m      1\u001b[0m \u001b[38;5;28;01mdef\u001b[39;00m \u001b[38;5;21msimple\u001b[39m(n, c): \u001b[38;5;66;03m#params\u001b[39;00m\n\u001b[0;32m      2\u001b[0m     \u001b[38;5;28mprint\u001b[39m(\u001b[38;5;124mf\u001b[39m\u001b[38;5;124m\"\u001b[39m\u001b[38;5;124mHey Hi Welcome to functions \u001b[39m\u001b[38;5;132;01m{\u001b[39;00mn\u001b[38;5;132;01m}\u001b[39;00m\u001b[38;5;124m and course \u001b[39m\u001b[38;5;132;01m{\u001b[39;00mc\u001b[38;5;132;01m}\u001b[39;00m\u001b[38;5;124m\"\u001b[39m)\n\u001b[1;32m----> 4\u001b[0m \u001b[38;5;28mprint\u001b[39m(\u001b[43mc\u001b[49m)\n",
      "\u001b[1;31mNameError\u001b[0m: name 'c' is not defined"
     ]
    }
   ],
   "source": [
    "def simple(n, c): #params\n",
    "    print(f\"Hey Hi Welcome to functions {n} and course {c}\")\n",
    "\n"
   ]
  },
  {
   "cell_type": "code",
   "execution_count": 44,
   "metadata": {
    "scrolled": true
   },
   "outputs": [
    {
     "name": "stdout",
     "output_type": "stream",
     "text": [
      "Hey Hi Welcome to functions Hemanth and course Java\n"
     ]
    }
   ],
   "source": [
    "simple(\"Hemanth\",\"Java\") # arg values"
   ]
  },
  {
   "cell_type": "code",
   "execution_count": 45,
   "metadata": {
    "scrolled": true
   },
   "outputs": [
    {
     "name": "stdout",
     "output_type": "stream",
     "text": [
      "Hey Hi Welcome to functions Radha and course Python\n"
     ]
    }
   ],
   "source": [
    "simple(\"Radha\",\"Python\")"
   ]
  },
  {
   "cell_type": "code",
   "execution_count": null,
   "metadata": {},
   "outputs": [],
   "source": []
  },
  {
   "cell_type": "code",
   "execution_count": 49,
   "metadata": {
    "scrolled": true
   },
   "outputs": [
    {
     "data": {
      "text/plain": [
       "True"
      ]
     },
     "execution_count": 49,
     "metadata": {},
     "output_type": "execute_result"
    }
   ],
   "source": [
    "bool([])"
   ]
  },
  {
   "cell_type": "code",
   "execution_count": 50,
   "metadata": {
    "scrolled": true
   },
   "outputs": [
    {
     "name": "stdout",
     "output_type": "stream",
     "text": [
      "snjksnksnks\n"
     ]
    }
   ],
   "source": [
    "if [10]:\n",
    "    print(\"snjksnksnks\")\n",
    "else:\n",
    "    print(\"elseeee\")"
   ]
  },
  {
   "cell_type": "code",
   "execution_count": 52,
   "metadata": {
    "scrolled": true
   },
   "outputs": [],
   "source": [
    "for i in range(10):\n",
    "    pass\n"
   ]
  },
  {
   "cell_type": "code",
   "execution_count": 53,
   "metadata": {
    "scrolled": true
   },
   "outputs": [
    {
     "name": "stdout",
     "output_type": "stream",
     "text": [
      "None\n"
     ]
    }
   ],
   "source": [
    "def simple1():\n",
    "    pass\n",
    "    \n",
    "a = simple1()\n",
    "print(a)"
   ]
  },
  {
   "cell_type": "code",
   "execution_count": null,
   "metadata": {
    "scrolled": true
   },
   "outputs": [],
   "source": []
  },
  {
   "cell_type": "code",
   "execution_count": 54,
   "metadata": {
    "scrolled": true
   },
   "outputs": [
    {
     "name": "stdout",
     "output_type": "stream",
     "text": [
      "7.222222222222222\n"
     ]
    }
   ],
   "source": [
    "#declare\n",
    "def fahr_to_celsius(temp):\n",
    "    r = ((temp-32) * (5/9))\n",
    "    return r\n",
    "    \n",
    "\n",
    "    \n",
    "#calling\n",
    "print(fahr_to_celsius(45))\n"
   ]
  },
  {
   "cell_type": "code",
   "execution_count": null,
   "metadata": {
    "scrolled": true
   },
   "outputs": [],
   "source": []
  },
  {
   "cell_type": "code",
   "execution_count": 55,
   "metadata": {
    "scrolled": true
   },
   "outputs": [
    {
     "name": "stdout",
     "output_type": "stream",
     "text": [
      "37.77777777777778\n"
     ]
    }
   ],
   "source": [
    "a=fahr_to_celsius(100)\n",
    "print(a)"
   ]
  },
  {
   "cell_type": "code",
   "execution_count": 62,
   "metadata": {
    "scrolled": true
   },
   "outputs": [],
   "source": [
    "#declaration\n",
    "def myFunction2():\n",
    "    print(\"Hello from a function\") \n",
    "    return 10+20"
   ]
  },
  {
   "cell_type": "code",
   "execution_count": 63,
   "metadata": {
    "scrolled": true
   },
   "outputs": [
    {
     "name": "stdout",
     "output_type": "stream",
     "text": [
      "Hello from a function\n"
     ]
    },
    {
     "data": {
      "text/plain": [
       "30"
      ]
     },
     "execution_count": 63,
     "metadata": {},
     "output_type": "execute_result"
    }
   ],
   "source": [
    "#calling \n",
    "myFunction2()"
   ]
  },
  {
   "cell_type": "code",
   "execution_count": 64,
   "metadata": {
    "scrolled": true
   },
   "outputs": [
    {
     "name": "stdout",
     "output_type": "stream",
     "text": [
      "Hello from a function\n",
      "30\n"
     ]
    }
   ],
   "source": [
    "a = myFunction2() #calling function storing in var always stores return value \n",
    "\n",
    "print(a)"
   ]
  },
  {
   "cell_type": "code",
   "execution_count": null,
   "metadata": {},
   "outputs": [],
   "source": []
  },
  {
   "cell_type": "markdown",
   "metadata": {},
   "source": [
    "### Inputs to the Functions"
   ]
  },
  {
   "cell_type": "markdown",
   "metadata": {},
   "source": [
    "- Data to the functions is  passed  as arguments.\n",
    "\n",
    "- Arguments are specified after the function name, inside the parentheses. You can add as many arguments as you want, just separate them with a comma.\n",
    "\n",
    "A parameter is the variable listed inside the parentheses in the function definition.\n",
    "\n",
    "An argument is the value that is sent to the function when it is called."
   ]
  },
  {
   "cell_type": "code",
   "execution_count": 75,
   "metadata": {
    "scrolled": true
   },
   "outputs": [],
   "source": [
    "def greet(name,age): #parameters\n",
    "    print(f\"Hey Hi {name}  am {age} years old !\")"
   ]
  },
  {
   "cell_type": "code",
   "execution_count": 76,
   "metadata": {
    "scrolled": true
   },
   "outputs": [
    {
     "name": "stdout",
     "output_type": "stream",
     "text": [
      "Hey Hi John  am 10 years old !\n"
     ]
    }
   ],
   "source": [
    "greet(\"John\",10) #arguments\n",
    "\n",
    "\n",
    "#no params == no args"
   ]
  },
  {
   "cell_type": "code",
   "execution_count": 78,
   "metadata": {},
   "outputs": [
    {
     "ename": "TypeError",
     "evalue": "greet() missing 1 required positional argument: 'age'",
     "output_type": "error",
     "traceback": [
      "\u001b[1;31m---------------------------------------------------------------------------\u001b[0m",
      "\u001b[1;31mTypeError\u001b[0m                                 Traceback (most recent call last)",
      "Cell \u001b[1;32mIn[78], line 1\u001b[0m\n\u001b[1;32m----> 1\u001b[0m \u001b[43mgreet\u001b[49m\u001b[43m(\u001b[49m\u001b[38;5;241;43m10\u001b[39;49m\u001b[43m)\u001b[49m\n\u001b[0;32m      2\u001b[0m greet(\u001b[38;5;124m\"\u001b[39m\u001b[38;5;124mKumar\u001b[39m\u001b[38;5;124m\"\u001b[39m)\n",
      "\u001b[1;31mTypeError\u001b[0m: greet() missing 1 required positional argument: 'age'"
     ]
    }
   ],
   "source": [
    "greet(10)\n",
    "greet(\"Kumar\")"
   ]
  },
  {
   "cell_type": "code",
   "execution_count": 79,
   "metadata": {
    "scrolled": true
   },
   "outputs": [],
   "source": [
    "\n",
    "\n",
    "def addition(num1,num2):\n",
    "    add = num1+num2\n",
    "    print(f'{num1} + {num2} and result is {add}')"
   ]
  },
  {
   "cell_type": "code",
   "execution_count": 80,
   "metadata": {
    "scrolled": true
   },
   "outputs": [
    {
     "name": "stdout",
     "output_type": "stream",
     "text": [
      "1 + 2 and result is 3\n",
      "a + b and result is ab\n",
      "1.2 + 8.5 and result is 9.7\n",
      "(10+2j) + (3+4j) and result is (13+6j)\n",
      "[1, 2] + [3, 4] and result is [1, 2, 3, 4]\n",
      "(10, 20) + (30, 40) and result is (10, 20, 30, 40)\n"
     ]
    }
   ],
   "source": [
    "addition(1,2) #int \n",
    "addition('a','b') #str\n",
    "addition(1.2,8.5) #float\n",
    "addition(10+2j,3+4j) #complex\n",
    "addition([1,2],[3,4]) # list\n",
    "addition((10,20),(30,40)) #tuple\n"
   ]
  },
  {
   "cell_type": "code",
   "execution_count": null,
   "metadata": {},
   "outputs": [],
   "source": []
  },
  {
   "cell_type": "code",
   "execution_count": null,
   "metadata": {},
   "outputs": [],
   "source": []
  },
  {
   "cell_type": "code",
   "execution_count": null,
   "metadata": {
    "scrolled": false
   },
   "outputs": [],
   "source": [
    "def fun_name(fname,lname): #declaration\n",
    "    print(fname+' '+lname)\n",
    "    fun_name('Akumar' , \"K\") #recursive call\n",
    "\n",
    "    \n",
    "fun_name('Kumar','R') #calling "
   ]
  },
  {
   "cell_type": "code",
   "execution_count": null,
   "metadata": {
    "scrolled": false
   },
   "outputs": [],
   "source": []
  },
  {
   "cell_type": "code",
   "execution_count": 1,
   "metadata": {
    "scrolled": true
   },
   "outputs": [
    {
     "name": "stdout",
     "output_type": "stream",
     "text": [
      "Hi Hi google\n",
      "Hi Hi amazon\n",
      "Hi Hi paypal\n"
     ]
    }
   ],
   "source": [
    "def fun(name):\n",
    "    print(f\"Hi Hi {name}\")\n",
    "    \n",
    "for i in [\"google\",\"amazon\",\"paypal\"]:\n",
    "    fun(i)"
   ]
  },
  {
   "cell_type": "markdown",
   "metadata": {},
   "source": [
    "### Even Or Odd \n"
   ]
  },
  {
   "cell_type": "code",
   "execution_count": 4,
   "metadata": {},
   "outputs": [
    {
     "name": "stdout",
     "output_type": "stream",
     "text": [
      "0 2 4 6 8 10 12 14 16 18 20 22 24 26 28 30 32 34 36 38 40 42 44 46 48 50 52 54 56 58 60 62 64 66 68 70 72 74 76 78 80 82 84 86 88 90 92 94 96 98 "
     ]
    }
   ],
   "source": [
    "def evenoddchecker(num):\n",
    "    return num%2 == 0\n",
    "\n",
    "\n",
    "for i in range(100):\n",
    "    if evenoddchecker(i):\n",
    "        print(i , end = ' ')\n",
    "    "
   ]
  },
  {
   "cell_type": "markdown",
   "metadata": {},
   "source": [
    "### Prime numbers\n",
    "- A number having two factors , one and itself.\n",
    "\n",
    "ex: 2 , 3, 5 , 7 , 11 , 13, 17"
   ]
  },
  {
   "cell_type": "code",
   "execution_count": 16,
   "metadata": {},
   "outputs": [
    {
     "data": {
      "text/plain": [
       "False"
      ]
     },
     "execution_count": 16,
     "metadata": {},
     "output_type": "execute_result"
    }
   ],
   "source": [
    "def primeChecker(num):\n",
    "    factors = 0\n",
    "    for i in range(1,num+1):\n",
    "        if num%i == 0:\n",
    "            factors+=1\n",
    "    return factors == 2\n",
    "\n",
    "\n",
    "\n",
    "primeChecker(1000)    #O(n)  , optimized O(sqrt(n))"
   ]
  },
  {
   "cell_type": "code",
   "execution_count": 7,
   "metadata": {},
   "outputs": [
    {
     "data": {
      "text/plain": [
       "10000.0"
      ]
     },
     "execution_count": 7,
     "metadata": {},
     "output_type": "execute_result"
    }
   ],
   "source": [
    "import math\n",
    "math.sqrt(100000000)"
   ]
  },
  {
   "cell_type": "code",
   "execution_count": null,
   "metadata": {},
   "outputs": [],
   "source": []
  },
  {
   "cell_type": "code",
   "execution_count": 21,
   "metadata": {},
   "outputs": [
    {
     "name": "stdout",
     "output_type": "stream",
     "text": [
      "time taken 15.799450397491455\n"
     ]
    }
   ],
   "source": [
    "import time \n",
    "\n",
    "def primeChecker(num):\n",
    "    factors = 0\n",
    "    for i in range(1,num+1):\n",
    "        if num%i == 0:\n",
    "            factors+=1\n",
    "    return factors == 2\n",
    "\n",
    "\n",
    "s  = time.time()\n",
    "\n",
    "primeChecker(100000000)    #O(n)\n",
    "\n",
    "e = time.time()\n",
    "\n",
    "print(f'time taken {e-s}')"
   ]
  },
  {
   "cell_type": "code",
   "execution_count": 8,
   "metadata": {},
   "outputs": [
    {
     "name": "stdout",
     "output_type": "stream",
     "text": [
      "2 3 5 7 11 13 17 19 23 29 31 37 41 43 47 53 59 61 67 71 73 79 83 89 97 "
     ]
    }
   ],
   "source": [
    "#  1-100\n",
    "for i in range(1,101):\n",
    "    if primeChecker(i) == True:\n",
    "        print(i , end=\" \")"
   ]
  },
  {
   "cell_type": "code",
   "execution_count": null,
   "metadata": {},
   "outputs": [],
   "source": []
  },
  {
   "cell_type": "code",
   "execution_count": 9,
   "metadata": {
    "scrolled": true
   },
   "outputs": [],
   "source": [
    "#passing the LIST , Tuple , Set , Dictionary  Sequences \n",
    "# iterating through them , to print the values\n",
    "\n",
    "def sequences(seq):\n",
    "    if type(seq)==list:\n",
    "        print(\"LIST\")\n",
    "        for item in seq:\n",
    "            print(item,end=\" \")\n",
    "    \n",
    "    elif type(seq)==tuple:\n",
    "        print(\"TUPLE\")\n",
    "        for item in seq:\n",
    "            print(item,end=\" \")\n",
    "    \n",
    "    elif type(seq)==set:\n",
    "        print(\"SET\")\n",
    "        for item in seq:\n",
    "            print(item,end=\" \")\n",
    "    \n",
    "    elif type(seq)==dict:\n",
    "        print(\"Dictionary\")\n",
    "        for key,val in seq.items():\n",
    "            print(key,val)\n",
    "    else:\n",
    "        print(\"Invalid Type\")"
   ]
  },
  {
   "cell_type": "code",
   "execution_count": 10,
   "metadata": {
    "scrolled": true
   },
   "outputs": [
    {
     "name": "stdout",
     "output_type": "stream",
     "text": [
      "TUPLE\n",
      "1 2 3 "
     ]
    }
   ],
   "source": [
    "sequences((1,2,3))"
   ]
  },
  {
   "cell_type": "code",
   "execution_count": 11,
   "metadata": {
    "scrolled": true
   },
   "outputs": [
    {
     "name": "stdout",
     "output_type": "stream",
     "text": [
      "Dictionary\n",
      "Name Vemuri\n",
      "class Python\n",
      "Country usa\n"
     ]
    }
   ],
   "source": [
    "sequences({\"Name\":\"Vemuri\",\"class\":\"Python\",\"Country\":\"usa\"})"
   ]
  },
  {
   "cell_type": "code",
   "execution_count": 12,
   "metadata": {
    "scrolled": true
   },
   "outputs": [
    {
     "name": "stdout",
     "output_type": "stream",
     "text": [
      "TUPLE\n",
      "IND USA UK "
     ]
    }
   ],
   "source": [
    "sequences((\"IND\",\"USA\",\"UK\"))"
   ]
  },
  {
   "cell_type": "code",
   "execution_count": 13,
   "metadata": {
    "scrolled": true
   },
   "outputs": [
    {
     "name": "stdout",
     "output_type": "stream",
     "text": [
      "SET\n",
      "Roshan Rita roshan Bubu "
     ]
    }
   ],
   "source": [
    "sequences({\"Rita\",\"Bubu\",\"Roshan\",\"roshan\",\"Rita\",\"Bubu\"})"
   ]
  },
  {
   "cell_type": "code",
   "execution_count": 14,
   "metadata": {
    "scrolled": true
   },
   "outputs": [
    {
     "name": "stdout",
     "output_type": "stream",
     "text": [
      "Dictionary\n",
      "name Mixie\n",
      "Company MS\n",
      "Role Azure Analyst\n"
     ]
    }
   ],
   "source": [
    "developer ={\n",
    "    \"name\":\"Mixie\",\n",
    "    \"Company\":\"MS\",\n",
    "    \"Role\":\"Azure Analyst\"\n",
    "}\n",
    "sequences(developer)"
   ]
  },
  {
   "cell_type": "code",
   "execution_count": 15,
   "metadata": {
    "scrolled": true
   },
   "outputs": [
    {
     "name": "stdout",
     "output_type": "stream",
     "text": [
      "Invalid Type\n"
     ]
    }
   ],
   "source": [
    "sequences(10)"
   ]
  },
  {
   "cell_type": "code",
   "execution_count": 19,
   "metadata": {
    "scrolled": true
   },
   "outputs": [
    {
     "data": {
      "text/plain": [
       "True"
      ]
     },
     "execution_count": 19,
     "metadata": {},
     "output_type": "execute_result"
    },
    {
     "data": {
      "text/plain": [
       "False"
      ]
     },
     "execution_count": 19,
     "metadata": {},
     "output_type": "execute_result"
    },
    {
     "data": {
      "text/plain": [
       "False"
      ]
     },
     "execution_count": 19,
     "metadata": {},
     "output_type": "execute_result"
    },
    {
     "data": {
      "text/plain": [
       "False"
      ]
     },
     "execution_count": 19,
     "metadata": {},
     "output_type": "execute_result"
    },
    {
     "data": {
      "text/plain": [
       "False"
      ]
     },
     "execution_count": 19,
     "metadata": {},
     "output_type": "execute_result"
    },
    {
     "data": {
      "text/plain": [
       "False"
      ]
     },
     "execution_count": 19,
     "metadata": {},
     "output_type": "execute_result"
    },
    {
     "data": {
      "text/plain": [
       "True"
      ]
     },
     "execution_count": 19,
     "metadata": {},
     "output_type": "execute_result"
    }
   ],
   "source": [
    "bool(\"False\")\n",
    "bool(\"\")\n",
    "bool([])\n",
    "bool({})\n",
    "bool(0)\n",
    "bool(0.0)\n",
    "bool(\"Vemuri\")"
   ]
  },
  {
   "cell_type": "code",
   "execution_count": 18,
   "metadata": {
    "scrolled": true
   },
   "outputs": [
    {
     "data": {
      "text/plain": [
       "False"
      ]
     },
     "execution_count": 18,
     "metadata": {},
     "output_type": "execute_result"
    }
   ],
   "source": [
    "bool(False)"
   ]
  },
  {
   "cell_type": "markdown",
   "metadata": {},
   "source": [
    "### types of Args\n",
    "\n",
    "- *args\n",
    "- keyword args\n",
    "- default"
   ]
  },
  {
   "cell_type": "code",
   "execution_count": 24,
   "metadata": {
    "scrolled": true
   },
   "outputs": [
    {
     "ename": "TypeError",
     "evalue": "addition() takes 4 positional arguments but 9 were given",
     "output_type": "error",
     "traceback": [
      "\u001b[1;31m---------------------------------------------------------------------------\u001b[0m",
      "\u001b[1;31mTypeError\u001b[0m                                 Traceback (most recent call last)",
      "Cell \u001b[1;32mIn[24], line 4\u001b[0m\n\u001b[0;32m      1\u001b[0m \u001b[38;5;28;01mdef\u001b[39;00m \u001b[38;5;21maddition\u001b[39m(a,b,c,d): \u001b[38;5;66;03m#params #required postional args\u001b[39;00m\n\u001b[0;32m      2\u001b[0m     \u001b[38;5;28;01mreturn\u001b[39;00m a\u001b[38;5;241m+\u001b[39mb\u001b[38;5;241m+\u001b[39mc\n\u001b[1;32m----> 4\u001b[0m r \u001b[38;5;241m=\u001b[39m \u001b[43maddition\u001b[49m\u001b[43m(\u001b[49m\u001b[38;5;241;43m10\u001b[39;49m\u001b[43m,\u001b[49m\u001b[38;5;241;43m203\u001b[39;49m\u001b[43m,\u001b[49m\u001b[38;5;241;43m1289\u001b[39;49m\u001b[43m,\u001b[49m\u001b[38;5;241;43m10\u001b[39;49m\u001b[43m,\u001b[49m\u001b[38;5;241;43m10\u001b[39;49m\u001b[43m,\u001b[49m\u001b[38;5;241;43m20\u001b[39;49m\u001b[43m,\u001b[49m\u001b[38;5;241;43m30\u001b[39;49m\u001b[43m,\u001b[49m\u001b[38;5;241;43m40\u001b[39;49m\u001b[43m,\u001b[49m\u001b[38;5;241;43m30\u001b[39;49m\u001b[43m)\u001b[49m \u001b[38;5;66;03m#args \u001b[39;00m\n\u001b[0;32m      6\u001b[0m \u001b[38;5;28mprint\u001b[39m(r)\n",
      "\u001b[1;31mTypeError\u001b[0m: addition() takes 4 positional arguments but 9 were given"
     ]
    }
   ],
   "source": [
    "def addition(a,b,c,d): #params #required postional args\n",
    "    return a+b+c\n",
    "\n",
    "r = addition(10,203,1289,10,10,20,30,40,30) #args \n",
    "\n",
    "print(r)\n",
    "\n",
    "#  no of params == no of args "
   ]
  },
  {
   "cell_type": "code",
   "execution_count": 27,
   "metadata": {},
   "outputs": [
    {
     "name": "stdout",
     "output_type": "stream",
     "text": [
      "<class 'tuple'>\n"
     ]
    }
   ],
   "source": [
    "k = 10,10\n",
    "print(type(k))"
   ]
  },
  {
   "cell_type": "code",
   "execution_count": 31,
   "metadata": {
    "scrolled": true
   },
   "outputs": [
    {
     "name": "stdout",
     "output_type": "stream",
     "text": [
      "(10, 203, 1289, 10, 20, 30, 40, 40, 30, 30, 30, 202, 330, 30, [10, 20])\n",
      "<class 'tuple'>\n",
      "None\n"
     ]
    }
   ],
   "source": [
    "def addition(*a): #params #required postional args\n",
    "    print(a)\n",
    "    print(type(a))\n",
    "\n",
    "r = addition(10,203,1289,10,20,30,40,40,30,30,30,202,330,30,[10,20]) #args \n",
    "\n",
    "print(r)"
   ]
  },
  {
   "cell_type": "code",
   "execution_count": 34,
   "metadata": {},
   "outputs": [
    {
     "name": "stdout",
     "output_type": "stream",
     "text": [
      "([10, 20], [10, 20])\n",
      "<class 'tuple'>\n"
     ]
    }
   ],
   "source": []
  },
  {
   "cell_type": "code",
   "execution_count": null,
   "metadata": {},
   "outputs": [],
   "source": []
  },
  {
   "cell_type": "markdown",
   "metadata": {},
   "source": [
    "##### * args \n",
    "\n",
    "If you do not know how many arguments that will be passed into your function, \n",
    "add a * before the parameter name in the function definition.\n",
    "\n",
    "The Functions receive the list of args as Tuple Type"
   ]
  },
  {
   "cell_type": "code",
   "execution_count": 35,
   "metadata": {
    "scrolled": true
   },
   "outputs": [
    {
     "name": "stdout",
     "output_type": "stream",
     "text": [
      "(10, 20, 4, 0, 2, [1, 10], {'A', 'B'}, (1, 2, 3, 5))\n",
      "<class 'tuple'>\n",
      "{'A', 'B'}\n"
     ]
    }
   ],
   "source": [
    "def simple(*k):\n",
    "    print(k)\n",
    "    print(type(k))\n",
    "    print(k[6])\n",
    "\n",
    "simple(10,20,4,0,2,[1,10],{\"A\",\"B\"},(1,2,3,5))"
   ]
  },
  {
   "cell_type": "code",
   "execution_count": 36,
   "metadata": {
    "scrolled": false
   },
   "outputs": [
    {
     "name": "stdout",
     "output_type": "stream",
     "text": [
      "(['Emil', 'Tobias', 'Linus'], 10, 20)\n",
      "<class 'tuple'>\n",
      "['Emil', 'Tobias', 'Linus']\n"
     ]
    }
   ],
   "source": [
    "def my_function(*args):\n",
    "    print(args)\n",
    "    print(type(args))\n",
    "    print(args[0])\n",
    "    \n",
    "my_function([\"Emil\", \"Tobias\", \"Linus\"],10,20 ) "
   ]
  },
  {
   "cell_type": "markdown",
   "metadata": {},
   "source": [
    "### Try these"
   ]
  },
  {
   "cell_type": "code",
   "execution_count": 37,
   "metadata": {
    "scrolled": true
   },
   "outputs": [
    {
     "name": "stdout",
     "output_type": "stream",
     "text": [
      "32\n"
     ]
    }
   ],
   "source": [
    "#pass list of [10,9,7,6] to function \n",
    "# calculate the sum  , by iterating through each value(loop) \n",
    "# return sum from the function \n",
    "# print res\n",
    "\n"
   ]
  },
  {
   "cell_type": "markdown",
   "metadata": {},
   "source": [
    "#### Keyword\n",
    "You can also send arguments with the key = value syntax.\n",
    "\n",
    "This way the order of the arguments does not matter.\n",
    "\n",
    "If you do not know how many keyword arguments that will be passed into your function, add two asterisk: ** before the parameter name in the function definition.\n",
    "\n",
    "- type of arguments received are Dict"
   ]
  },
  {
   "cell_type": "code",
   "execution_count": 46,
   "metadata": {
    "scrolled": true
   },
   "outputs": [
    {
     "name": "stdout",
     "output_type": "stream",
     "text": [
      "10 20 30\n",
      "700 200 500\n"
     ]
    }
   ],
   "source": [
    "def calculator(a,b,c):\n",
    "    print(a,b,c)\n",
    "\n",
    "calculator(10,20,30)\n",
    "calculator(b=200,c=500,a=700)"
   ]
  },
  {
   "cell_type": "code",
   "execution_count": 42,
   "metadata": {
    "scrolled": true
   },
   "outputs": [],
   "source": [
    "def my_function(**ab):\n",
    "    print(ab)\n",
    "    print(type(ab))\n",
    "    print(f' role is {ab[\"Role\"]} ')"
   ]
  },
  {
   "cell_type": "code",
   "execution_count": 43,
   "metadata": {
    "scrolled": true
   },
   "outputs": [
    {
     "name": "stdout",
     "output_type": "stream",
     "text": [
      "{'name': 'swati', 'Comp': 'Google', 'Role': 'SDE'}\n",
      "<class 'dict'>\n",
      " role is SDE \n"
     ]
    }
   ],
   "source": [
    "my_function(name=\"swati\",Comp=\"Google\",Role=\"SDE\")\n"
   ]
  },
  {
   "cell_type": "code",
   "execution_count": 44,
   "metadata": {
    "scrolled": true
   },
   "outputs": [
    {
     "name": "stdout",
     "output_type": "stream",
     "text": [
      "{'name': 'AKR', 'course': 'python', 'Role': 'Data Eng'}\n",
      "<class 'dict'>\n",
      " role is Data Eng \n"
     ]
    }
   ],
   "source": [
    "my_function(name=\"AKR\",course=\"python\",Role=\"Data Eng\")\n"
   ]
  },
  {
   "cell_type": "markdown",
   "metadata": {},
   "source": [
    "#### Default Arguments\n",
    "when ever If we call the function without argument, it uses the default value:"
   ]
  },
  {
   "cell_type": "code",
   "execution_count": 50,
   "metadata": {
    "scrolled": true
   },
   "outputs": [
    {
     "ename": "TypeError",
     "evalue": "addition() missing 1 required positional argument: 'num2'",
     "output_type": "error",
     "traceback": [
      "\u001b[1;31m---------------------------------------------------------------------------\u001b[0m",
      "\u001b[1;31mTypeError\u001b[0m                                 Traceback (most recent call last)",
      "Cell \u001b[1;32mIn[50], line 4\u001b[0m\n\u001b[0;32m      1\u001b[0m \u001b[38;5;28;01mdef\u001b[39;00m \u001b[38;5;21maddition\u001b[39m(num1,num2): \u001b[38;5;66;03m#required positional args\u001b[39;00m\n\u001b[0;32m      2\u001b[0m     \u001b[38;5;28;01mreturn\u001b[39;00m num1\u001b[38;5;241m+\u001b[39mnum2\n\u001b[1;32m----> 4\u001b[0m res \u001b[38;5;241m=\u001b[39m \u001b[43maddition\u001b[49m\u001b[43m(\u001b[49m\u001b[38;5;241;43m10\u001b[39;49m\u001b[43m)\u001b[49m\n\u001b[0;32m      6\u001b[0m \u001b[38;5;28mprint\u001b[39m(res)\n",
      "\u001b[1;31mTypeError\u001b[0m: addition() missing 1 required positional argument: 'num2'"
     ]
    }
   ],
   "source": [
    "def addition(num1,num2): #required positional args\n",
    "    return num1+num2\n",
    "\n",
    "res = addition(10)\n",
    "\n",
    "print(res)"
   ]
  },
  {
   "cell_type": "code",
   "execution_count": 56,
   "metadata": {},
   "outputs": [
    {
     "name": "stdout",
     "output_type": "stream",
     "text": [
      "610\n"
     ]
    }
   ],
   "source": [
    "def addition(num1,num2=600): #required positional args\n",
    "    return num1+num2\n",
    "\n",
    "res = addition(10)\n",
    "\n",
    "print(res)"
   ]
  },
  {
   "cell_type": "code",
   "execution_count": null,
   "metadata": {},
   "outputs": [],
   "source": []
  },
  {
   "cell_type": "code",
   "execution_count": null,
   "metadata": {
    "scrolled": true
   },
   "outputs": [],
   "source": [
    "addition()"
   ]
  },
  {
   "cell_type": "code",
   "execution_count": 57,
   "metadata": {
    "scrolled": true
   },
   "outputs": [
    {
     "name": "stdout",
     "output_type": "stream",
     "text": [
      "30\n",
      "40\n"
     ]
    }
   ],
   "source": [
    "def simple(a=40):  #default\n",
    "    print(a)\n",
    "    \n",
    "simple(30)\n",
    "simple()"
   ]
  },
  {
   "cell_type": "code",
   "execution_count": 58,
   "metadata": {
    "scrolled": true
   },
   "outputs": [
    {
     "name": "stdout",
     "output_type": "stream",
     "text": [
      "I like  C\n",
      "I like  Ruby\n",
      "I like  Python\n",
      "I like  Java\n",
      "I like  Python\n"
     ]
    }
   ],
   "source": [
    "def my_function(lang=\"Python\"):\n",
    "    print(\"I like  \" + lang)\n",
    "\n",
    "my_function(\"C\")\n",
    "my_function(\"Ruby\")\n",
    "my_function()\n",
    "my_function(\"Java\") \n",
    "my_function()"
   ]
  },
  {
   "cell_type": "code",
   "execution_count": 59,
   "metadata": {
    "scrolled": true
   },
   "outputs": [
    {
     "name": "stdout",
     "output_type": "stream",
     "text": [
      "110\n"
     ]
    }
   ],
   "source": [
    "#Note \n",
    "\n",
    "# when ever we use both required & Default Arguments\n",
    "\n",
    "# non-default argument follows default argument\n",
    "\n",
    "def func(a,b=10):\n",
    "    print(a+b)\n",
    "    \n",
    "func(100)"
   ]
  },
  {
   "cell_type": "code",
   "execution_count": 62,
   "metadata": {
    "scrolled": true
   },
   "outputs": [
    {
     "ename": "SyntaxError",
     "evalue": "non-default argument follows default argument (4071259045.py, line 1)",
     "output_type": "error",
     "traceback": [
      "\u001b[1;36m  Cell \u001b[1;32mIn[62], line 1\u001b[1;36m\u001b[0m\n\u001b[1;33m    def func(b=10,a):\u001b[0m\n\u001b[1;37m                  ^\u001b[0m\n\u001b[1;31mSyntaxError\u001b[0m\u001b[1;31m:\u001b[0m non-default argument follows default argument\n"
     ]
    }
   ],
   "source": [
    "def func(b=10,a):\n",
    "    print(a+b)\n",
    "    \n",
    "func(100)"
   ]
  },
  {
   "cell_type": "code",
   "execution_count": 63,
   "metadata": {
    "scrolled": true
   },
   "outputs": [
    {
     "name": "stdout",
     "output_type": "stream",
     "text": [
      "10 20 10 10\n"
     ]
    }
   ],
   "source": [
    "def func(x,y,a=10,b=10):\n",
    "    print(x,y,a,b)\n",
    "    \n",
    "func(10,20)"
   ]
  },
  {
   "cell_type": "code",
   "execution_count": 64,
   "metadata": {
    "scrolled": true
   },
   "outputs": [
    {
     "ename": "SyntaxError",
     "evalue": "non-default argument follows default argument (54092590.py, line 1)",
     "output_type": "error",
     "traceback": [
      "\u001b[1;36m  Cell \u001b[1;32mIn[64], line 1\u001b[1;36m\u001b[0m\n\u001b[1;33m    def func(b=10,a):\u001b[0m\n\u001b[1;37m                  ^\u001b[0m\n\u001b[1;31mSyntaxError\u001b[0m\u001b[1;31m:\u001b[0m non-default argument follows default argument\n"
     ]
    }
   ],
   "source": [
    "def func(b=10,a):\n",
    "    print(a+b)\n",
    "    \n",
    "func(100,200)"
   ]
  },
  {
   "cell_type": "code",
   "execution_count": 66,
   "metadata": {
    "scrolled": true
   },
   "outputs": [
    {
     "name": "stdout",
     "output_type": "stream",
     "text": [
      "Hey\n",
      "Welcome\n",
      "hello\n",
      "Python\n"
     ]
    }
   ],
   "source": [
    "def f1():\n",
    "    print(\"Hey\")\n",
    "    f2()\n",
    "    print(\"Python\")\n",
    "    \n",
    "    \n",
    "def f2():\n",
    "    f3()\n",
    "    print(\"hello\")\n",
    "    \n",
    "def f3():\n",
    "    print(\"Welcome\")\n",
    "  \n",
    "f1()"
   ]
  },
  {
   "cell_type": "code",
   "execution_count": null,
   "metadata": {},
   "outputs": [],
   "source": []
  },
  {
   "cell_type": "markdown",
   "metadata": {},
   "source": [
    "#### Returning Values\n",
    "\n",
    "- Functions in Python Always returns some Value type\n",
    "- By default ,it returns None type\n",
    "- To let a function return a value, use the return statement:"
   ]
  },
  {
   "cell_type": "code",
   "execution_count": 67,
   "metadata": {
    "scrolled": true
   },
   "outputs": [
    {
     "name": "stdout",
     "output_type": "stream",
     "text": [
      "26\n",
      "res :  None\n"
     ]
    }
   ],
   "source": [
    "def addition(num1,num2):\n",
    "    add=num1+num2\n",
    "    print(add)\n",
    "\n",
    "res = addition(14,12) # it returns some value , so we need to store it in some variable\n",
    "\n",
    "print(\"res : \" ,res)"
   ]
  },
  {
   "cell_type": "code",
   "execution_count": 68,
   "metadata": {
    "scrolled": true
   },
   "outputs": [
    {
     "name": "stdout",
     "output_type": "stream",
     "text": [
      "30\n",
      "None\n"
     ]
    }
   ],
   "source": [
    "print(addition(10,20))"
   ]
  },
  {
   "cell_type": "code",
   "execution_count": 69,
   "metadata": {
    "scrolled": true
   },
   "outputs": [
    {
     "name": "stdout",
     "output_type": "stream",
     "text": [
      "Hello Ak\n",
      "None\n"
     ]
    },
    {
     "ename": "NameError",
     "evalue": "name 'str1' is not defined",
     "output_type": "error",
     "traceback": [
      "\u001b[1;31m---------------------------------------------------------------------------\u001b[0m",
      "\u001b[1;31mNameError\u001b[0m                                 Traceback (most recent call last)",
      "Cell \u001b[1;32mIn[69], line 7\u001b[0m\n\u001b[0;32m      5\u001b[0m res \u001b[38;5;241m=\u001b[39m fun(\u001b[38;5;124m\"\u001b[39m\u001b[38;5;124mHello\u001b[39m\u001b[38;5;124m\"\u001b[39m,\u001b[38;5;124m\"\u001b[39m\u001b[38;5;124mAk\u001b[39m\u001b[38;5;124m\"\u001b[39m)\n\u001b[0;32m      6\u001b[0m \u001b[38;5;28mprint\u001b[39m(res)\n\u001b[1;32m----> 7\u001b[0m \u001b[38;5;28mprint\u001b[39m(\u001b[43mstr1\u001b[49m)\n",
      "\u001b[1;31mNameError\u001b[0m: name 'str1' is not defined"
     ]
    }
   ],
   "source": [
    "def fun(str1,str2):\n",
    "    print(str1,str2)\n",
    "   \n",
    "    \n",
    "res = fun(\"Hello\",\"Ak\")\n",
    "print(res)\n",
    "print(str1) "
   ]
  },
  {
   "cell_type": "code",
   "execution_count": null,
   "metadata": {
    "scrolled": true
   },
   "outputs": [],
   "source": []
  },
  {
   "cell_type": "code",
   "execution_count": 70,
   "metadata": {
    "scrolled": true
   },
   "outputs": [
    {
     "name": "stdout",
     "output_type": "stream",
     "text": [
      "None\n"
     ]
    }
   ],
   "source": [
    "print(res) #None , because there is no return value from the function"
   ]
  },
  {
   "cell_type": "code",
   "execution_count": null,
   "metadata": {
    "scrolled": true
   },
   "outputs": [],
   "source": []
  },
  {
   "cell_type": "code",
   "execution_count": 71,
   "metadata": {
    "scrolled": true
   },
   "outputs": [
    {
     "name": "stdout",
     "output_type": "stream",
     "text": [
      "Simple Function\n",
      "Hi\n",
      "<class 'str'>\n"
     ]
    }
   ],
   "source": [
    "def simple():\n",
    "    print(\"Simple Function\")\n",
    "    return \"Hi\"\n",
    "\n",
    "res = simple()\n",
    "print(res)\n",
    "print(type(res))"
   ]
  },
  {
   "cell_type": "code",
   "execution_count": 73,
   "metadata": {
    "scrolled": true
   },
   "outputs": [
    {
     "name": "stdout",
     "output_type": "stream",
     "text": [
      "Simple Function\n",
      "('Hi', 10)\n",
      "<class 'tuple'>\n"
     ]
    }
   ],
   "source": [
    "def simple():\n",
    "    print(\"Simple Function\")\n",
    "    return \"Hi\",10\n",
    "\n",
    "res = simple()\n",
    "print(res)\n",
    "print(type(res))"
   ]
  },
  {
   "cell_type": "markdown",
   "metadata": {},
   "source": [
    "#### pass by reference "
   ]
  },
  {
   "cell_type": "code",
   "execution_count": 80,
   "metadata": {},
   "outputs": [
    {
     "name": "stdout",
     "output_type": "stream",
     "text": [
      "2329508589440\n",
      "2329508589440\n",
      "[11, 21, 31]\n"
     ]
    }
   ],
   "source": [
    "def sumOfList(lst):\n",
    "    print(id(lst))\n",
    "    \n",
    "    for i in range(len(lst)):\n",
    "        lst[i] = lst[i]+1\n",
    "\n",
    "a = [10,20,30]  \n",
    "print(id(a))\n",
    "\n",
    "\n",
    "sumOfList(a) \n",
    "print(a)\n",
    "\n",
    "# list , set, dictionary -- pass by reference."
   ]
  },
  {
   "cell_type": "code",
   "execution_count": 78,
   "metadata": {},
   "outputs": [
    {
     "name": "stdout",
     "output_type": "stream",
     "text": [
      "['kumar', 20, 30] ['kumar', 20, 30]\n",
      "2329508234624 2329508234624\n"
     ]
    }
   ],
   "source": [
    "lst1 = [10,20,30]\n",
    "\n",
    "lst2 = lst1\n",
    "\n",
    "lst2[0] = 'kumar'\n",
    "\n",
    "print(lst1 , lst2)\n",
    "print(id(lst1) , id(lst2))"
   ]
  },
  {
   "cell_type": "code",
   "execution_count": null,
   "metadata": {},
   "outputs": [],
   "source": []
  },
  {
   "cell_type": "markdown",
   "metadata": {},
   "source": [
    "#### pass by value"
   ]
  },
  {
   "cell_type": "code",
   "execution_count": 95,
   "metadata": {},
   "outputs": [
    {
     "name": "stdout",
     "output_type": "stream",
     "text": [
      "2329390809616\n",
      "2329390809648\n",
      "10\n"
     ]
    }
   ],
   "source": [
    "def update(num):\n",
    "    num = num+1\n",
    "    print(id(num))\n",
    "\n",
    "a = 10 \n",
    "print(id(a))\n",
    "update(a) \n",
    "\n",
    "print(a)\n",
    "\n",
    "# int , float , str, complex , boolean ---> pass by value"
   ]
  },
  {
   "cell_type": "code",
   "execution_count": 94,
   "metadata": {},
   "outputs": [
    {
     "name": "stdout",
     "output_type": "stream",
     "text": [
      "2329390809616 2329390809616\n",
      "2329390809616 2329390809648\n"
     ]
    }
   ],
   "source": [
    "a = 10\n",
    "b = 10\n",
    "\n",
    "print(id(a) , id(b))\n",
    "\n",
    "b = b+1\n",
    "\n",
    "print(id(a) , id(b))"
   ]
  },
  {
   "cell_type": "code",
   "execution_count": 96,
   "metadata": {
    "scrolled": true
   },
   "outputs": [
    {
     "name": "stdout",
     "output_type": "stream",
     "text": [
      "('Hi', 'World', 10, 20) <class 'tuple'>\n"
     ]
    }
   ],
   "source": [
    "a = \"Hi\",\"World\",10,20\n",
    "\n",
    "print(a , type(a))"
   ]
  },
  {
   "cell_type": "markdown",
   "metadata": {},
   "source": [
    "### Variables Scope In Functions\n",
    "\n",
    "- Local Variables : Their Scope is limited to function Body , they Cant be accessed outside the functions block\n",
    "\n",
    "\n",
    "- Global Variable : scope is avaiable through out the whole program.they can be accessed anywhere in the program"
   ]
  },
  {
   "cell_type": "code",
   "execution_count": 97,
   "metadata": {
    "scrolled": true
   },
   "outputs": [
    {
     "name": "stdout",
     "output_type": "stream",
     "text": [
      "1225\n",
      "1729\n",
      "1729\n"
     ]
    },
    {
     "ename": "NameError",
     "evalue": "name 'x' is not defined",
     "output_type": "error",
     "traceback": [
      "\u001b[1;31m---------------------------------------------------------------------------\u001b[0m",
      "\u001b[1;31mNameError\u001b[0m                                 Traceback (most recent call last)",
      "Cell \u001b[1;32mIn[97], line 12\u001b[0m\n\u001b[0;32m     10\u001b[0m fun()\n\u001b[0;32m     11\u001b[0m \u001b[38;5;28mprint\u001b[39m(num)\n\u001b[1;32m---> 12\u001b[0m \u001b[38;5;28mprint\u001b[39m(\u001b[43mx\u001b[49m)\n",
      "\u001b[1;31mNameError\u001b[0m: name 'x' is not defined"
     ]
    }
   ],
   "source": [
    "#global\n",
    "num = 1729\n",
    "\n",
    "def fun():\n",
    "    x = 1225\n",
    "    \n",
    "    print(x)\n",
    "    print(num)\n",
    "\n",
    "fun()\n",
    "print(num)\n",
    "print(x) "
   ]
  },
  {
   "cell_type": "code",
   "execution_count": 98,
   "metadata": {
    "scrolled": true
   },
   "outputs": [
    {
     "name": "stdout",
     "output_type": "stream",
     "text": [
      "1225\n",
      "1000\n",
      "1729\n"
     ]
    }
   ],
   "source": [
    "#global\n",
    "num = 1729\n",
    "\n",
    "def fun():\n",
    "    x = 1225\n",
    "    print(x)\n",
    "    num=1000\n",
    "    print(num)\n",
    "\n",
    "fun()\n",
    "print(num) \n"
   ]
  },
  {
   "cell_type": "code",
   "execution_count": 99,
   "metadata": {
    "scrolled": true
   },
   "outputs": [
    {
     "name": "stdout",
     "output_type": "stream",
     "text": [
      "1225\n",
      "1000\n",
      "1010\n"
     ]
    }
   ],
   "source": [
    "#global\n",
    "num = 1729\n",
    "\n",
    "def fun():\n",
    "    x = 1225\n",
    "    print(x)\n",
    "    global num\n",
    "    num=1000\n",
    "    \n",
    "    print(num)\n",
    "    num+=10\n",
    "\n",
    "fun()\n",
    "print(num) "
   ]
  },
  {
   "cell_type": "code",
   "execution_count": null,
   "metadata": {
    "scrolled": true
   },
   "outputs": [],
   "source": []
  },
  {
   "cell_type": "markdown",
   "metadata": {},
   "source": [
    "### Nested functions\n",
    "- A Function written inside a another functions"
   ]
  },
  {
   "cell_type": "code",
   "execution_count": 100,
   "metadata": {
    "scrolled": true
   },
   "outputs": [],
   "source": [
    "def funa():\n",
    "    pass\n",
    "\n",
    "funa()\n"
   ]
  },
  {
   "cell_type": "code",
   "execution_count": 101,
   "metadata": {
    "scrolled": true
   },
   "outputs": [
    {
     "name": "stdout",
     "output_type": "stream",
     "text": [
      "Hi\n"
     ]
    }
   ],
   "source": [
    "def greet():\n",
    "    print(\"Hi\")\n",
    "\n",
    "greet()\n",
    "\n"
   ]
  },
  {
   "cell_type": "code",
   "execution_count": 102,
   "metadata": {
    "scrolled": true
   },
   "outputs": [
    {
     "name": "stdout",
     "output_type": "stream",
     "text": [
      "this function is for addition of two names.\n",
      "Kumar Rajamoni\n"
     ]
    }
   ],
   "source": [
    "def NameAddition(fname,lname):\n",
    "    print(\"this function is for addition of two names.\")\n",
    "    return fname +\" \" +lname\n",
    "\n",
    "\n",
    "res = NameAddition(\"Kumar\",\"Rajamoni\")\n",
    "\n",
    "print(res)"
   ]
  },
  {
   "cell_type": "code",
   "execution_count": null,
   "metadata": {
    "scrolled": true
   },
   "outputs": [],
   "source": []
  },
  {
   "cell_type": "code",
   "execution_count": 103,
   "metadata": {
    "scrolled": true
   },
   "outputs": [
    {
     "name": "stdout",
     "output_type": "stream",
     "text": [
      "(10, 20, 30, 404, 20, 1.29) <class 'tuple'>\n",
      "485.29\n"
     ]
    }
   ],
   "source": [
    "def funB(*args): #tuple\n",
    "    print(args , type(args))\n",
    "    result=0\n",
    "    \n",
    "    for data in args:\n",
    "        result = result+data\n",
    "        \n",
    "    return result\n",
    "\n",
    "res = funB(10,20,30,404,20,1.290)\n",
    "print(res)"
   ]
  },
  {
   "cell_type": "code",
   "execution_count": 104,
   "metadata": {
    "scrolled": true
   },
   "outputs": [
    {
     "name": "stdout",
     "output_type": "stream",
     "text": [
      "{'name': 'Kumar', 'role': 'SDEII', 'team': 'SE', 'salary': '1927282'} <class 'dict'>\n",
      "name : Kumar\n",
      "role : SDEII\n",
      "team : SE\n",
      "salary : 1927282\n"
     ]
    }
   ],
   "source": [
    "def funC(**kwargs): #dict\n",
    "    print(kwargs,type(kwargs))\n",
    "    \n",
    "    for key in kwargs.keys():\n",
    "        print(key,kwargs[key] , sep =\" : \")\n",
    "        \n",
    "funC(name=\"Kumar\",role=\"SDEII\",team=\"SE\",salary=\"1927282\")"
   ]
  },
  {
   "cell_type": "code",
   "execution_count": 105,
   "metadata": {
    "scrolled": true
   },
   "outputs": [
    {
     "name": "stdout",
     "output_type": "stream",
     "text": [
      "30\n",
      "50\n"
     ]
    }
   ],
   "source": [
    "def funD(a,b=20):\n",
    "    print(a+b)\n",
    "    \n",
    "funD(10)\n",
    "funD(10,40)"
   ]
  },
  {
   "cell_type": "code",
   "execution_count": null,
   "metadata": {
    "scrolled": true
   },
   "outputs": [],
   "source": []
  },
  {
   "cell_type": "code",
   "execution_count": null,
   "metadata": {
    "scrolled": true
   },
   "outputs": [],
   "source": []
  },
  {
   "cell_type": "code",
   "execution_count": null,
   "metadata": {
    "scrolled": true
   },
   "outputs": [],
   "source": []
  },
  {
   "cell_type": "code",
   "execution_count": 108,
   "metadata": {
    "scrolled": true
   },
   "outputs": [
    {
     "name": "stdout",
     "output_type": "stream",
     "text": [
      "__main__\n"
     ]
    }
   ],
   "source": [
    "print(__name__) #magic var"
   ]
  },
  {
   "cell_type": "code",
   "execution_count": null,
   "metadata": {},
   "outputs": [],
   "source": []
  },
  {
   "cell_type": "code",
   "execution_count": 111,
   "metadata": {
    "scrolled": true
   },
   "outputs": [
    {
     "name": "stdout",
     "output_type": "stream",
     "text": [
      "Hey ! World ,Hey ! World ,Hey ! World ,Hey ! World ,Hey ! World ,Hey ! World ,Hey ! World ,Hey ! World ,Hey ! World ,Hey ! World ,\n"
     ]
    }
   ],
   "source": [
    "def outerFunction(text): \n",
    "    text = text + \" World ,\"\n",
    "    \n",
    "    def innerFunction(): \n",
    "        print(text * 10) \n",
    "    \n",
    "    innerFunction() \n",
    "    \n",
    "if __name__ == '__main__': \n",
    "    outerFunction('Hey !') \n"
   ]
  },
  {
   "cell_type": "code",
   "execution_count": null,
   "metadata": {
    "scrolled": true
   },
   "outputs": [],
   "source": [
    "def calculator(a,b):\n",
    "    \n",
    "    def addition(a):\n",
    "        return a+10\n",
    "    \n",
    "    def mutliplication(a,b):\n",
    "        return a*b\n",
    "    \n",
    "    add_ret = addition(a)\n",
    "    mul_ret = mutliplication(a,b)\n",
    "    \n",
    "    return add_ret + mul_ret\n",
    "    \n",
    "ret = calculator(10,30)\n",
    "    \n",
    "print(ret)"
   ]
  },
  {
   "cell_type": "code",
   "execution_count": null,
   "metadata": {
    "scrolled": true
   },
   "outputs": [],
   "source": [
    "def print_msg(msg):\n",
    "    def printer(name):\n",
    "        print(msg,name)\n",
    "        def third(a):\n",
    "            return a*10\n",
    "        res = third(10)\n",
    "        return res+10\n",
    "        \n",
    "    res1 = printer(\"Python User\") #calling inner function\n",
    "    print(\"Outside function\")\n",
    "    res2 = printer(\"AK\")    ##calling inner function\n",
    "    return res1*res2\n",
    "    \n",
    "    \n",
    "final_res = print_msg(\"Hello\")\n",
    "print(final_res)\n"
   ]
  },
  {
   "cell_type": "code",
   "execution_count": null,
   "metadata": {
    "scrolled": true
   },
   "outputs": [],
   "source": [
    "final_res = print_msg(\"Hello\")\n",
    "print(final_res)"
   ]
  },
  {
   "cell_type": "code",
   "execution_count": null,
   "metadata": {
    "scrolled": true
   },
   "outputs": [],
   "source": [
    "def print_msg(msg):\n",
    "    def printer(name): \n",
    "        return msg+\" \"+name\n",
    "    \n",
    "    a=printer(\"Python\")\n",
    "    print(a)\n",
    "    a+= \" Lang\"\n",
    "    return a\n",
    "\n",
    "res = print_msg(\"Hello\")\n",
    "print(res)"
   ]
  },
  {
   "cell_type": "code",
   "execution_count": null,
   "metadata": {},
   "outputs": [],
   "source": [
    "# Caculator \n",
    "    addition\n",
    "    sub\n",
    "    mult\n",
    "    div\n",
    "    modulus\n",
    "    expo"
   ]
  },
  {
   "cell_type": "code",
   "execution_count": null,
   "metadata": {},
   "outputs": [],
   "source": [
    "def add(num1,num2):\n",
    "    '''this functions returns addition of two numbers , written by @kumar'''\n",
    "    if type(num1) in [int,float] and type(num2) in [int,float]:\n",
    "        return num1+num2\n",
    "    else:\n",
    "        return \"provide valid numbers\"\n",
    "\n",
    "add(10,'a')"
   ]
  },
  {
   "cell_type": "code",
   "execution_count": null,
   "metadata": {},
   "outputs": [],
   "source": [
    "def add(num1,num2):\n",
    "    '''This code handles the addition of integers and float values..by @raviteja'''\n",
    "    if type(num1) in [int,float] and type(num2) in [int,float]:\n",
    "        return  f'The addition of {num1} + {num2} is {num1+num2}'\n",
    "    else:\n",
    "        return \"Not Valid Input\"\n",
    "\n",
    "def sub(num1,num2):\n",
    "    '''This code handles the difference of integers and float values..by @raviteja'''\n",
    "    if type(num1) in [int,float] and type(num2) in [int,float]:\n",
    "        return f'The difference of {num1} - {num2} is {num1-num2}'\n",
    "    else:\n",
    "        return\"Not Valid Input\"\n",
    "\n",
    "def multi(num1,num2):\n",
    "    '''This code handles the multiplication of integers and float values..by @raviteja'''\n",
    "    if type(num1) in [int,float] and type(num2) in [int,float]:\n",
    "        return f'The addition of {num1} * {num2} is {num1*num2}'\n",
    "    else:\n",
    "        return \"Not Valid Input\"\n",
    "\n",
    "def divide(*num1):\n",
    "    '''This code handles the division of integers and float values..by @raviteja'''\n",
    "    return sum(num1)\n",
    "\n",
    "\n",
    "print(divide(10,20,20,20,202,2872,2))\n"
   ]
  },
  {
   "cell_type": "code",
   "execution_count": null,
   "metadata": {},
   "outputs": [],
   "source": [
    "print(int in [int,float])"
   ]
  },
  {
   "cell_type": "code",
   "execution_count": null,
   "metadata": {},
   "outputs": [],
   "source": [
    "import math"
   ]
  },
  {
   "cell_type": "code",
   "execution_count": null,
   "metadata": {},
   "outputs": [],
   "source": [
    "dir(math)"
   ]
  },
  {
   "cell_type": "code",
   "execution_count": null,
   "metadata": {},
   "outputs": [],
   "source": []
  },
  {
   "cell_type": "code",
   "execution_count": null,
   "metadata": {
    "scrolled": true
   },
   "outputs": [],
   "source": [
    "def print_msg(msg):\n",
    "    # This is the outer enclosing function\n",
    "\n",
    "    def printer(name):\n",
    "        # This is the nested function\n",
    "        return msg+\" \"+name\n",
    "    \n",
    "\n",
    "    return printer(\"Kumar\") #calling inner function\n",
    "    \n",
    "\n",
    "a= print_msg(\"Hello\")\n",
    "print(a)"
   ]
  },
  {
   "cell_type": "code",
   "execution_count": null,
   "metadata": {},
   "outputs": [],
   "source": [
    "printer(\"Hello\")"
   ]
  },
  {
   "cell_type": "code",
   "execution_count": null,
   "metadata": {},
   "outputs": [],
   "source": [
    "def add(a,b):\n",
    "    return a+b\n",
    "\n",
    "print(add(10,20))"
   ]
  },
  {
   "cell_type": "code",
   "execution_count": null,
   "metadata": {},
   "outputs": [],
   "source": [
    "abc = add\n",
    "\n",
    "print(abc)\n",
    "print(id(abc) , id(add))\n",
    "print(abc(10,20))"
   ]
  },
  {
   "cell_type": "code",
   "execution_count": null,
   "metadata": {},
   "outputs": [],
   "source": []
  },
  {
   "cell_type": "code",
   "execution_count": null,
   "metadata": {
    "scrolled": true
   },
   "outputs": [],
   "source": [
    "def make_multiplier_of(n): #3\n",
    "    def multiplier(x):\n",
    "        return x * n\n",
    "    \n",
    "    return multiplier #inner calling , return the inner function to the outside of the func \n",
    "\n",
    "\n",
    "\n",
    "times3 = make_multiplier_of(10)\n",
    "\n",
    "times5 = make_multiplier_of(20)\n",
    "\n",
    "# print(times3 ,times5, sep=\"\\n\")\n",
    "\n",
    "print(times3(9))\n",
    "\n",
    "print(times5(3))\n",
    "\n",
    "print(times5(times3(2)))"
   ]
  },
  {
   "cell_type": "code",
   "execution_count": null,
   "metadata": {
    "scrolled": true
   },
   "outputs": [],
   "source": [
    "times3(9)"
   ]
  },
  {
   "cell_type": "code",
   "execution_count": null,
   "metadata": {
    "scrolled": true
   },
   "outputs": [],
   "source": [
    "times5(5)"
   ]
  },
  {
   "cell_type": "code",
   "execution_count": null,
   "metadata": {
    "scrolled": true
   },
   "outputs": [],
   "source": [
    "times5(times3(2)) #5*6"
   ]
  },
  {
   "cell_type": "code",
   "execution_count": null,
   "metadata": {
    "scrolled": true
   },
   "outputs": [],
   "source": [
    "#All function objects have a __closure__ attribute that returns a tuple of cell objects \n",
    "# if it is a closure function."
   ]
  },
  {
   "cell_type": "code",
   "execution_count": null,
   "metadata": {
    "scrolled": true
   },
   "outputs": [],
   "source": [
    " make_multiplier_of.__closure__ "
   ]
  },
  {
   "cell_type": "code",
   "execution_count": null,
   "metadata": {
    "scrolled": true
   },
   "outputs": [],
   "source": [
    "times3.__closure__"
   ]
  },
  {
   "cell_type": "code",
   "execution_count": null,
   "metadata": {
    "scrolled": true
   },
   "outputs": [],
   "source": [
    "times3.__closure__[0].cell_contents"
   ]
  },
  {
   "cell_type": "code",
   "execution_count": null,
   "metadata": {
    "scrolled": true
   },
   "outputs": [],
   "source": [
    "times5.__closure__[0].cell_contents"
   ]
  },
  {
   "cell_type": "markdown",
   "metadata": {},
   "source": [
    "#### Recursion\n",
    "\n",
    "- A Function calling itself , in order to peform the next level of action\n",
    "- Recursion uses the Stack to keep trace of function calls\n",
    "- We use Recursion to slove problem like Factorial , Fibonacci series, Dynamic Programming\n",
    "- We need to define Base condition , to exit"
   ]
  },
  {
   "cell_type": "code",
   "execution_count": null,
   "metadata": {},
   "outputs": [],
   "source": [
    "ind = 1\n",
    "while ind<5:\n",
    "    print(ind)\n",
    "    ind = ind+1"
   ]
  },
  {
   "cell_type": "code",
   "execution_count": null,
   "metadata": {},
   "outputs": [],
   "source": [
    "i=0\n",
    "while True:\n",
    "    print(\"Hello world\")\n",
    "    i+=1\n",
    "    if(i==5):break"
   ]
  },
  {
   "cell_type": "code",
   "execution_count": null,
   "metadata": {
    "scrolled": true
   },
   "outputs": [],
   "source": [
    "def fun(name):\n",
    "    print(name)\n",
    "    fun(\"python\")\n",
    "\n",
    "fun(\"AK\")"
   ]
  },
  {
   "cell_type": "code",
   "execution_count": null,
   "metadata": {
    "scrolled": true
   },
   "outputs": [],
   "source": []
  },
  {
   "cell_type": "code",
   "execution_count": null,
   "metadata": {
    "scrolled": true
   },
   "outputs": [],
   "source": [
    "def fun(name,n):\n",
    "    if(n>1): #base condition to exit\n",
    "        print(name , n)\n",
    "        fun(name,n-2)\n",
    "\n",
    "fun(\"AK\",10)"
   ]
  },
  {
   "cell_type": "code",
   "execution_count": null,
   "metadata": {
    "scrolled": true
   },
   "outputs": [],
   "source": [
    "def fun(name,n):\n",
    "    if(n<=0): #base condition to exit\n",
    "        return \n",
    "    else:\n",
    "        print(name,n)\n",
    "        fun(name , n-2)\n",
    "\n",
    "fun(\"AK\",10)"
   ]
  },
  {
   "cell_type": "code",
   "execution_count": null,
   "metadata": {
    "scrolled": true
   },
   "outputs": [],
   "source": [
    "def fun(name,n):\n",
    "    if n==10: #base condition to exit\n",
    "        return \n",
    "    else:\n",
    "        print(name,n)\n",
    "        fun(name,n+2)\n",
    "\n",
    "fun(\"AK\",0)"
   ]
  },
  {
   "cell_type": "code",
   "execution_count": null,
   "metadata": {
    "scrolled": true
   },
   "outputs": [],
   "source": [
    "def fun(num):\n",
    "    if(num>0): #base condition\n",
    "        print(num ,end=\" \")\n",
    "        fun(num-1)\n",
    "\n",
    "        \n",
    "#calling function        \n",
    "res = fun(4)\n",
    "print(res)"
   ]
  },
  {
   "cell_type": "code",
   "execution_count": null,
   "metadata": {
    "scrolled": true
   },
   "outputs": [],
   "source": [
    "def fun(num):\n",
    "    if(num>0): #base condition\n",
    "        fun(num-1)\n",
    "        print(num ,end=\" \")\n",
    "        \n",
    "\n",
    "        \n",
    "#calling function        \n",
    "fun(4)"
   ]
  },
  {
   "cell_type": "code",
   "execution_count": null,
   "metadata": {
    "scrolled": true
   },
   "outputs": [],
   "source": [
    "def fun(num):\n",
    "    if(num>0): #base condition\n",
    "        print(num ,end=\" \")\n",
    "        fun(num-1)\n",
    "        print(num ,end = \" \")\n",
    "\n",
    "        \n",
    "#calling function        \n",
    "fun(4)"
   ]
  },
  {
   "cell_type": "code",
   "execution_count": null,
   "metadata": {
    "scrolled": true
   },
   "outputs": [],
   "source": [
    "def fun(num):\n",
    "    if(num>0): #base condition\n",
    "        fun(num-1)\n",
    "        print(num)\n",
    "\n",
    "        \n",
    "#calling function        \n",
    "fun(4)\n",
    "\n"
   ]
  },
  {
   "cell_type": "code",
   "execution_count": null,
   "metadata": {
    "scrolled": true
   },
   "outputs": [],
   "source": [
    "n=4\n",
    "1+2+3+4 = 10\n",
    "n*(n+1)/2  = 10 #O(1)\n",
    "# sum of n natural ."
   ]
  },
  {
   "cell_type": "code",
   "execution_count": null,
   "metadata": {
    "scrolled": true
   },
   "outputs": [],
   "source": [
    "def SumofN(n): #O(1)\n",
    "    return (n*(n+1))/2\n",
    "\n",
    "SumofN(10)"
   ]
  },
  {
   "cell_type": "code",
   "execution_count": null,
   "metadata": {
    "scrolled": true
   },
   "outputs": [],
   "source": [
    "# sum of natural numbers up to the n\n",
    "num= int(input())\n",
    "res=0\n",
    "for i in range(1,num+1): #O(n)\n",
    "    res = res+i\n",
    "    #print(res , i )\n",
    "print(res)\n",
    "    \n",
    "# res = 0+1 = 1\n",
    "# res = 1+2 = 3\n",
    "# res = 3+3 = 6\n",
    "#res = 6+4 = 10\n",
    "#res = 10+5 = 15\n",
    "#1+2+3+4+5 = for loop\n",
    "# recursive 5+4+3+2+1+0 = 15"
   ]
  },
  {
   "cell_type": "code",
   "execution_count": null,
   "metadata": {
    "scrolled": true
   },
   "outputs": [],
   "source": [
    "def sumRecur(num): #O(n)\n",
    "    if num==1:\n",
    "        return num\n",
    "    else:\n",
    "        return num+sumRecur(num-1)"
   ]
  },
  {
   "cell_type": "code",
   "execution_count": null,
   "metadata": {
    "scrolled": true
   },
   "outputs": [],
   "source": [
    "sumRecur(5)"
   ]
  },
  {
   "cell_type": "code",
   "execution_count": null,
   "metadata": {
    "scrolled": true
   },
   "outputs": [],
   "source": []
  },
  {
   "cell_type": "code",
   "execution_count": null,
   "metadata": {
    "scrolled": true
   },
   "outputs": [],
   "source": []
  },
  {
   "cell_type": "code",
   "execution_count": null,
   "metadata": {
    "scrolled": true
   },
   "outputs": [],
   "source": []
  },
  {
   "cell_type": "code",
   "execution_count": null,
   "metadata": {
    "scrolled": true
   },
   "outputs": [],
   "source": [
    "#n=5 \n",
    "#1+2+3+4+5 = 15\n",
    "\n",
    "def sumOfN(num):\n",
    "    if(num==0):\n",
    "        return 1\n",
    "    return num+sumOfN(num-1)\n",
    "\n",
    "\n",
    "a=sumOfN(5)\n",
    "print(a)  \n",
    "\n",
    "# 5+sumOfN(4)\n",
    "#5+4+sumOfN(3)\n",
    "#5+4+3+sumOfN(2)\n",
    "#5+4+3+2+sumOfN(1)\n",
    "#5+4+3+2+1+sumOfN(0)\n",
    "#5+4+3+2+1+0 = 15"
   ]
  },
  {
   "cell_type": "code",
   "execution_count": null,
   "metadata": {
    "scrolled": true
   },
   "outputs": [],
   "source": [
    "\n",
    "\n",
    "def sumOfN(num):\n",
    "    if(num==1):\n",
    "        return 1\n",
    "    return num*sumOfN(num-1)\n",
    "\n",
    "\n",
    "a=sumOfN(5)\n",
    "print(a)  \n",
    "# 1*2*3*4*5 = sum of n natural"
   ]
  },
  {
   "cell_type": "code",
   "execution_count": null,
   "metadata": {
    "scrolled": true
   },
   "outputs": [],
   "source": [
    "#DP \n",
    "\n",
    "lst = [0]\n",
    "\n",
    "n = 5\n",
    "\n",
    "for i in range(1,n+1):\n",
    "    lst.append(i+lst[i-1])\n",
    "\n",
    "print(lst)\n",
    "print(lst[-1])\n"
   ]
  },
  {
   "cell_type": "code",
   "execution_count": null,
   "metadata": {
    "scrolled": true
   },
   "outputs": [],
   "source": [
    "#factorial = product of n Intergers from 1 to n\n",
    "# n= 4 \n",
    "#1*2*3*4 = 24\n",
    "#n=6\n",
    "#720\n",
    "r=int(input())\n",
    "res=1\n",
    "for i in range(1,r+1):\n",
    "    print(f\"res: {res} i: {i}  = {res*i}\")\n",
    "    res = res*i\n",
    "    \n",
    "print(res)\n",
    "    \n",
    "#  res = 1*1 = 1\n",
    "#  res = 1*2 = = 2\n",
    "#  res = 2*3 = 6\n",
    "# res = 6*4  = 24\n",
    "#  res =24*5=120\n"
   ]
  },
  {
   "cell_type": "code",
   "execution_count": null,
   "metadata": {
    "scrolled": true
   },
   "outputs": [],
   "source": [
    "#O(1)  - formula\n",
    "#O(n) --- for loop\n"
   ]
  },
  {
   "cell_type": "code",
   "execution_count": null,
   "metadata": {
    "scrolled": true
   },
   "outputs": [],
   "source": [
    "def factorial(num):\n",
    "    #base condition\n",
    "    if num==1:\n",
    "        return num\n",
    "    else:\n",
    "        return num * factorial(num-1)\n",
    "\n",
    "factorial(4)\n",
    "\n",
    "\n",
    "# 5*4*3*2*1=120\n",
    "\n",
    "# 5*fac(4)\n",
    "# 5*4*fac(3)\n",
    "# 5*4*3*2*fac(1)\n",
    "# 5*4*3*2*fac(1)\n",
    "# 5*4*3*2*1=120\n"
   ]
  },
  {
   "cell_type": "markdown",
   "metadata": {},
   "source": [
    "#### Factorial using DP\n"
   ]
  },
  {
   "cell_type": "code",
   "execution_count": null,
   "metadata": {
    "scrolled": true
   },
   "outputs": [],
   "source": [
    "def factorial_dp(n):\n",
    "    fact = [1]\n",
    "    for i in range(2, n+1):\n",
    "        fact.append(i*fact[i-2])\n",
    "        print(fact)\n",
    "    return fact[n-1]\n",
    "\n",
    "\n",
    "factorial_dp(5)"
   ]
  },
  {
   "cell_type": "code",
   "execution_count": null,
   "metadata": {
    "scrolled": true
   },
   "outputs": [],
   "source": [
    "# for loop\n",
    "# normal fun\n",
    "#  recursion fun\n",
    "#  DP \n",
    "\n",
    "# SUM on NATURAL \n",
    "#  formula\n",
    "#  for loop\n",
    "# fun and recu fun\n",
    "#  DP?\n"
   ]
  },
  {
   "cell_type": "markdown",
   "metadata": {},
   "source": [
    "### Fibonacci Series\n",
    "The Fibonacci Sequence is the series of numbers:\n",
    "\n",
    "0, 1, 1, 2, 3, 5, 8, 13, 21, 34, ...\n",
    "\n",
    "The next number is found by adding up the two numbers before it:\n",
    "\n",
    "the 2 is found by adding the two numbers before it (1+1),\n",
    "the 3 is found by adding the two numbers before it (1+2),\n",
    "the 5 is (2+3),"
   ]
  },
  {
   "cell_type": "code",
   "execution_count": null,
   "metadata": {
    "scrolled": true
   },
   "outputs": [],
   "source": [
    "#n=5\n",
    "#0 1 1 2 3 \n",
    "n=int(input())\n",
    "first=0\n",
    "second=1\n",
    "for i in range(n):\n",
    "    print(first, end=\" \")\n",
    "    third = first+second\n",
    "    first= second\n",
    "    second = third\n",
    "# print(first)\n",
    "\n",
    "# O(n)\n",
    "\n"
   ]
  },
  {
   "cell_type": "markdown",
   "metadata": {},
   "source": [
    "<img src = \"https://blog.penjee.com/wp-content/uploads/2015/06/fibonacci-recursion-demonstration-animation-python.gif\">"
   ]
  },
  {
   "cell_type": "code",
   "execution_count": null,
   "metadata": {
    "scrolled": true
   },
   "outputs": [],
   "source": [
    "def fibnacci(num):\n",
    "    if num==0 or num==1:\n",
    "        return num\n",
    "    return fibnacci(num-1)+fibnacci(num-2)"
   ]
  },
  {
   "cell_type": "code",
   "execution_count": null,
   "metadata": {
    "scrolled": true
   },
   "outputs": [],
   "source": [
    "fibnacci(5) # n th term"
   ]
  },
  {
   "cell_type": "code",
   "execution_count": null,
   "metadata": {
    "scrolled": true
   },
   "outputs": [],
   "source": [
    " 0 1 1 2 3 5 8 13 "
   ]
  },
  {
   "cell_type": "code",
   "execution_count": null,
   "metadata": {
    "scrolled": true
   },
   "outputs": [],
   "source": [
    "\n",
    "# Fibonacci Series using Dynamic Programming\n",
    "def fibonacci(n):\n",
    "     \n",
    "    # Taking 1st two fibonacci numbers as 0 and 1\n",
    "    f = [0, 1]\n",
    "     \n",
    "     \n",
    "    for i in range(2, n+1):\n",
    "        f.append(f[i-1] + f[i-2])\n",
    "    return f[n] , f\n",
    "\n",
    "     \n",
    "print(fibonacci(5))"
   ]
  },
  {
   "cell_type": "code",
   "execution_count": null,
   "metadata": {
    "scrolled": true
   },
   "outputs": [],
   "source": []
  },
  {
   "cell_type": "code",
   "execution_count": null,
   "metadata": {
    "scrolled": true
   },
   "outputs": [],
   "source": [
    "arr=[]\n",
    "for i in range(10):\n",
    "    inp = int(input())\n",
    "    arr.append(inp)\n",
    "\n",
    "print(arr)\n",
    "    \n",
    "a=int(input())\n",
    "b=int(input())\n",
    "c=int(input())\n",
    "d=int(input())\n",
    "\n",
    "arr1=[a,b,c,d]"
   ]
  },
  {
   "cell_type": "code",
   "execution_count": null,
   "metadata": {
    "scrolled": true
   },
   "outputs": [],
   "source": [
    "arr"
   ]
  },
  {
   "cell_type": "code",
   "execution_count": null,
   "metadata": {
    "scrolled": true
   },
   "outputs": [],
   "source": [
    "sum_count=0\n",
    "for i in arr:\n",
    "    sum_count+=i\n",
    "print(sum_count)"
   ]
  },
  {
   "cell_type": "code",
   "execution_count": null,
   "metadata": {
    "scrolled": true
   },
   "outputs": [],
   "source": [
    "#develop calculate \n",
    "# if the user enters addition\n",
    "# it should ask for  , enter the num1 and num2\n",
    "# print addittion "
   ]
  },
  {
   "cell_type": "code",
   "execution_count": null,
   "metadata": {
    "scrolled": true
   },
   "outputs": [],
   "source": [
    "lst.pop()"
   ]
  },
  {
   "cell_type": "code",
   "execution_count": null,
   "metadata": {
    "scrolled": true
   },
   "outputs": [],
   "source": []
  },
  {
   "cell_type": "code",
   "execution_count": null,
   "metadata": {
    "scrolled": true
   },
   "outputs": [],
   "source": [
    "def add():\n",
    "    ''' addition of two numbers , this function is written by User'''\n",
    "    n1 = int(input(\"Enter Num1= \"))\n",
    "    n2 = int(input(\"Enter Num2 = \"))\n",
    "    return n1+n2\n",
    "\n",
    "def sub():\n",
    "    ''' Subtraction of two numbers'''\n",
    "    n1 = int(input(\"Enter Num1= \"))\n",
    "    n2 = int(input(\"Enter Num2= \"))\n",
    "    return n1-n2\n",
    "\n",
    "def mult():\n",
    "    ''' multiplication of two numbers by vemuri'''\n",
    "    n1 = int(input(\"Enter Num1= \"))\n",
    "    n2 = int(input(\"Enter Num2= \"))\n",
    "    return n1*n2\n",
    "\n",
    "def div():\n",
    "    ''' Division of two numbers'''\n",
    "    n1 = int(input(\"Enter Num1= \"))\n",
    "    n2 = int(input(\"Enter Num2= \"))\n",
    "    return n1/n2\n",
    "\n",
    "def modulus():\n",
    "    n1 = int(input(\"Enter Num1= \"))\n",
    "    n2 = int(input(\"Enter Num2= \"))\n",
    "    return n1%n2\n",
    "\n",
    "def exp():\n",
    "    n1 = int(input(\"Enter Num1= \"))\n",
    "    n2 = int(input(\"Enter Num2= \"))\n",
    "    return n1**n2"
   ]
  },
  {
   "cell_type": "code",
   "execution_count": null,
   "metadata": {
    "scrolled": true
   },
   "outputs": [],
   "source": [
    "add()"
   ]
  },
  {
   "cell_type": "code",
   "execution_count": null,
   "metadata": {
    "scrolled": true
   },
   "outputs": [],
   "source": [
    "\n",
    "while True:\n",
    "    print(\"\"\" 1.addition \\n 2.Subtraction \\n 3.Multiplication \\n 4.Division \\n 5.Modulus \\n 6.Exponentation \\n-1. exit \"\"\")\n",
    "\n",
    "    ch = int(input(\"Enter the Choice: \"))\n",
    "    if ch==1:\n",
    "        res=add()\n",
    "        print(f\"The addition of two numbers is {res}\")\n",
    "\n",
    "    elif ch==2:\n",
    "        res=sub()\n",
    "        print(f\"The Subtraction of two numbers is {res}\")\n",
    "\n",
    "    elif ch==3:\n",
    "        res=mult()\n",
    "        print(f\"The Multiplication of two numbers is {res}\")\n",
    "\n",
    "    elif ch==4:\n",
    "        res=div()\n",
    "        print(f\"The Division of two numbers is {res}\")\n",
    "\n",
    "    elif ch==5:\n",
    "        res=modulus()\n",
    "        print(f\"The Modulus of two numbers is {res}\")\n",
    "\n",
    "    elif ch==6:\n",
    "        res=exp()\n",
    "        print(f\"The  expotention is {res}\")\n",
    "    elif ch==-1:\n",
    "        break\n",
    "    else:\n",
    "        print(\"Invalid Choice\")\n",
    "    \n"
   ]
  },
  {
   "cell_type": "code",
   "execution_count": null,
   "metadata": {
    "scrolled": true
   },
   "outputs": [],
   "source": [
    "mult()"
   ]
  },
  {
   "cell_type": "code",
   "execution_count": null,
   "metadata": {
    "scrolled": true
   },
   "outputs": [],
   "source": []
  },
  {
   "cell_type": "markdown",
   "metadata": {},
   "source": [
    "####  Question on Recursion \n",
    "\n",
    "- Find the length of String\n",
    "- Find the length of List\n",
    "- String Revere\n",
    "- List Reverse\n",
    "- Binary Search \n",
    "- Sorting Algorithms"
   ]
  },
  {
   "cell_type": "code",
   "execution_count": null,
   "metadata": {
    "scrolled": true
   },
   "outputs": [],
   "source": [
    "s=\"Hello Python\"\n",
    "len(s)\n",
    "#find the length of string using recursion"
   ]
  },
  {
   "cell_type": "code",
   "execution_count": null,
   "metadata": {
    "scrolled": true
   },
   "outputs": [],
   "source": [
    "counter = 0\n",
    "for i in range(len(s)):\n",
    "    counter+=1\n",
    "print(counter)"
   ]
  },
  {
   "cell_type": "code",
   "execution_count": null,
   "metadata": {
    "scrolled": true
   },
   "outputs": [],
   "source": [
    "len(\"\")"
   ]
  },
  {
   "cell_type": "code",
   "execution_count": null,
   "metadata": {
    "scrolled": true
   },
   "outputs": [],
   "source": [
    "def strLen(s):\n",
    "    if s==\"\":\n",
    "        return 0\n",
    "    return 1+strLen(s[1:]) \n",
    "\n",
    "strLen(\"Hello Python\")\n",
    "    "
   ]
  },
  {
   "cell_type": "code",
   "execution_count": null,
   "metadata": {
    "scrolled": true
   },
   "outputs": [],
   "source": [
    "s[1:]"
   ]
  },
  {
   "cell_type": "code",
   "execution_count": null,
   "metadata": {
    "scrolled": true
   },
   "outputs": [],
   "source": [
    "s=\"n\"\n",
    "s[1:]"
   ]
  },
  {
   "cell_type": "code",
   "execution_count": null,
   "metadata": {
    "scrolled": true
   },
   "outputs": [],
   "source": [
    "a==[]\n",
    "return 0"
   ]
  },
  {
   "cell_type": "code",
   "execution_count": null,
   "metadata": {
    "scrolled": true
   },
   "outputs": [],
   "source": [
    "# 2  length of List\n",
    "# arr=[10,203,40,40]\n",
    "# 4 \n",
    "#using the recursion and loop's"
   ]
  },
  {
   "cell_type": "code",
   "execution_count": null,
   "metadata": {
    "scrolled": true
   },
   "outputs": [],
   "source": [
    "arr=[10,203,40,40]\n",
    "len(arr)"
   ]
  },
  {
   "cell_type": "code",
   "execution_count": null,
   "metadata": {
    "scrolled": true
   },
   "outputs": [],
   "source": [
    "def len_list(arr):\n",
    "    if arr==[]:\n",
    "        return 0\n",
    "    return 1+len_list(arr[1:])\n",
    "\n",
    "len_list([10,20,30,40])"
   ]
  },
  {
   "cell_type": "markdown",
   "metadata": {},
   "source": [
    "### string reverse"
   ]
  },
  {
   "cell_type": "code",
   "execution_count": null,
   "metadata": {
    "scrolled": true
   },
   "outputs": [],
   "source": [
    "s= input(\"Enter the string\")\n",
    "\n",
    "#Method1 \n",
    "s= s[::-1]\n",
    "print(s)"
   ]
  },
  {
   "cell_type": "code",
   "execution_count": null,
   "metadata": {
    "scrolled": true
   },
   "outputs": [],
   "source": [
    "#method2\n",
    "\n",
    "s=\"Python\"\n",
    "\n",
    "dup_str=\"\"\n",
    "\n",
    "for i in s:\n",
    "    dup_str=i+dup_str\n",
    "    \n",
    "print(dup_str)"
   ]
  },
  {
   "cell_type": "code",
   "execution_count": null,
   "metadata": {
    "scrolled": true
   },
   "outputs": [],
   "source": [
    "#method3\n",
    "\n",
    "s=\"Python\"\n",
    "for i in range(len(s)-1,-1,-1):\n",
    "    print(s[i],end=\"\")"
   ]
  },
  {
   "cell_type": "code",
   "execution_count": null,
   "metadata": {
    "scrolled": true
   },
   "outputs": [],
   "source": [
    "#method4 \n",
    "# recursion\n",
    "s=\"p y t h o n\"\n",
    "s=s.split()\n",
    "s.reverse()\n",
    "# print(s)\n",
    "s=\"\".join(s)\n",
    "print(s)"
   ]
  },
  {
   "cell_type": "code",
   "execution_count": null,
   "metadata": {
    "scrolled": true
   },
   "outputs": [],
   "source": []
  },
  {
   "cell_type": "code",
   "execution_count": null,
   "metadata": {},
   "outputs": [],
   "source": [
    "def avgOfList(data):\n",
    "    return sum(data)/len(data)\n",
    "\n",
    "\n",
    "\n",
    "\n",
    "avgOfList([1,4,5,2,7])"
   ]
  },
  {
   "cell_type": "code",
   "execution_count": null,
   "metadata": {},
   "outputs": [],
   "source": []
  },
  {
   "cell_type": "code",
   "execution_count": null,
   "metadata": {},
   "outputs": [],
   "source": [
    "def evenoddChecker(num):\n",
    "    if(num%2==0):\n",
    "        return \"EVEN\"\n",
    "    else:\n",
    "        return \"ODD\"\n",
    "    \n"
   ]
  },
  {
   "cell_type": "code",
   "execution_count": null,
   "metadata": {},
   "outputs": [],
   "source": [
    "ret = evenoddChecker(4)\n",
    "print(ret)"
   ]
  },
  {
   "cell_type": "code",
   "execution_count": null,
   "metadata": {},
   "outputs": [],
   "source": [
    "def readValues(n):\n",
    "    lst = []\n",
    "    for i in range(n):\n",
    "        lst.append(int(input(\"enter a value: \")))\n",
    "    return lst\n",
    "\n"
   ]
  },
  {
   "cell_type": "code",
   "execution_count": null,
   "metadata": {},
   "outputs": [],
   "source": [
    "lstNum = readValues(4)\n",
    "print(lstNum)"
   ]
  },
  {
   "cell_type": "code",
   "execution_count": null,
   "metadata": {},
   "outputs": [],
   "source": [
    "arr2D = [\n",
    "        [\"radha\",\"ravi\",\"vaishnavi\"],\n",
    "        [\"python\",\"scala\",\"java\",\"javascript\"],\n",
    "        [10000,2000,20922]\n",
    "        ]\n",
    "print(arr2D)"
   ]
  },
  {
   "cell_type": "code",
   "execution_count": null,
   "metadata": {},
   "outputs": [],
   "source": [
    "for i in range(len(arr2D)):\n",
    "    print(arr2D[i])"
   ]
  },
  {
   "cell_type": "code",
   "execution_count": null,
   "metadata": {},
   "outputs": [],
   "source": [
    "len(arr2D[2])"
   ]
  },
  {
   "cell_type": "code",
   "execution_count": null,
   "metadata": {},
   "outputs": [],
   "source": [
    "for i in range(len(arr2D)):\n",
    "    for j in range(len(arr2D[i])):\n",
    "        print(arr2D[i][j])\n",
    "    print()"
   ]
  },
  {
   "cell_type": "code",
   "execution_count": null,
   "metadata": {},
   "outputs": [],
   "source": [
    "def display_person(*args):\n",
    "    for i in args:\n",
    "        print(i)\n",
    "\n",
    "display_person(name=\"Emma\", age=\"25\")"
   ]
  },
  {
   "cell_type": "code",
   "execution_count": 113,
   "metadata": {},
   "outputs": [
    {
     "name": "stdout",
     "output_type": "stream",
     "text": [
      "enter the number:7\n",
      "number is prime\n"
     ]
    }
   ],
   "source": [
    "def prime(num): #declaration\n",
    "    factor=0\n",
    "    for i in range(1,num+1):\n",
    "        if num%i == 0:\n",
    "            factor+=1\n",
    "    if factor == 2:\n",
    "        print(\"number is prime\")\n",
    "    else:\n",
    "        print(\"number is not prime\")\n",
    "\n",
    "\n",
    "num = int(input(\"enter the number:\"))\n",
    "\n",
    "#calling \n",
    "\n",
    "prime(num)"
   ]
  },
  {
   "cell_type": "code",
   "execution_count": 118,
   "metadata": {},
   "outputs": [
    {
     "data": {
      "text/plain": [
       "533"
      ]
     },
     "execution_count": 118,
     "metadata": {},
     "output_type": "execute_result"
    }
   ],
   "source": [
    "def add(*a):\n",
    "    return sum(a)\n",
    "\n",
    "\n",
    "add(10,10,20,30,30,30,403)"
   ]
  },
  {
   "cell_type": "code",
   "execution_count": null,
   "metadata": {},
   "outputs": [],
   "source": []
  }
 ],
 "metadata": {
  "kernelspec": {
   "display_name": "Python 3 (ipykernel)",
   "language": "python",
   "name": "python3"
  },
  "language_info": {
   "codemirror_mode": {
    "name": "ipython",
    "version": 3
   },
   "file_extension": ".py",
   "mimetype": "text/x-python",
   "name": "python",
   "nbconvert_exporter": "python",
   "pygments_lexer": "ipython3",
   "version": "3.10.9"
  }
 },
 "nbformat": 4,
 "nbformat_minor": 4
}
