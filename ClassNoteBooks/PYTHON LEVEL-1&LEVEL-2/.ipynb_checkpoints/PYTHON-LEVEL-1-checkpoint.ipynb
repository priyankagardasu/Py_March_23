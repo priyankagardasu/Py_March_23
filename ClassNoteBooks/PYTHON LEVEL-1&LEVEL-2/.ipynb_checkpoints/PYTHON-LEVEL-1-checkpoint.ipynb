{
 "cells": [
  {
   "cell_type": "markdown",
   "id": "0aacef8a",
   "metadata": {},
   "source": [
    "### Python 2 Vs Python 3\n",
    "\n",
    "<img src = \"https://media.geeksforgeeks.org/wp-content/uploads/20190503154837/Python2_python3.jpg\"  width=\"500\" height=\"600\">"
   ]
  },
  {
   "cell_type": "markdown",
   "id": "1dd311ec",
   "metadata": {},
   "source": [
    "#### Python Syntax\n",
    "\n",
    " - A Python script can be written in Python interactive shell or in the code editor. A Python file has an extension .py.\n",
    " \n",
    "##### Python Indentation\n",
    "\n",
    "- An indentation is a white space in a text. \n",
    "- Indentation in many languages is used to increase code readability, however Python uses indentation to create block of codes. - In other programming languages curly brackets are used to create blocks of codes instead of indentation.\n",
    "- One of the common bugs when writing python code is wrong indentation."
   ]
  },
  {
   "cell_type": "code",
   "execution_count": null,
   "id": "9ac55d6c",
   "metadata": {},
   "outputs": [],
   "source": [
    "print('good morning')\n",
    "\n",
    "\n",
    "# syntax window : SHIFT+TAB"
   ]
  },
  {
   "cell_type": "code",
   "execution_count": null,
   "id": "6a1013cb",
   "metadata": {},
   "outputs": [],
   "source": [
    "if condition{\n",
    "    \n",
    "    //block code\n",
    "}\n",
    "\n",
    "\n",
    "if condition:\n",
    "    #block of code."
   ]
  },
  {
   "cell_type": "code",
   "execution_count": null,
   "id": "6649e262",
   "metadata": {},
   "outputs": [],
   "source": [
    "# java\n",
    "int time = 20;\n",
    "if (time < 18) {\n",
    "  System.out.println(\"Good day.\");\n",
    "} else {\n",
    "  System.out.println(\"Good evening.\");\n",
    "}"
   ]
  },
  {
   "cell_type": "code",
   "execution_count": null,
   "id": "faa7c0c1",
   "metadata": {},
   "outputs": [],
   "source": [
    "# python \n",
    "\n",
    "time = 16;\n",
    "if (time < 18):\n",
    "    print(\"Good day.\");\n",
    "    print(\"Hello\")\n",
    "    #block of scope\n",
    "else:\n",
    "    print(\"Good evening.\");\n",
    "    #block of else\n"
   ]
  },
  {
   "cell_type": "code",
   "execution_count": null,
   "id": "791e0763",
   "metadata": {},
   "outputs": [],
   "source": [
    "salary = 1909\n",
    "\n",
    "if salary>1090893:\n",
    "    print(\"good salary\")\n",
    "else:\n",
    "    print(\"AVG \")\n",
    "    "
   ]
  },
  {
   "cell_type": "code",
   "execution_count": null,
   "id": "d0415da2",
   "metadata": {},
   "outputs": [],
   "source": [
    "name = \"Kumar\"\n",
    "if name==\"Kumar\":\n",
    "    print(\"IF ELSE\")\n",
    "    print(\"TRUE\")\n",
    "    if 10>5: #True\n",
    "        print(\"nested true\")\n",
    "    else: #False\n",
    "        print(\"nested else\")\n",
    "else:\n",
    "    print(\"FALSE\")"
   ]
  },
  {
   "cell_type": "code",
   "execution_count": null,
   "id": "4f0ffff3",
   "metadata": {},
   "outputs": [],
   "source": []
  },
  {
   "cell_type": "code",
   "execution_count": null,
   "id": "fee6cc64",
   "metadata": {},
   "outputs": [],
   "source": []
  },
  {
   "cell_type": "markdown",
   "id": "9313d463",
   "metadata": {},
   "source": [
    "### OUTPUT Function\n",
    "\n",
    "- It is used to print the information or objects data to the console \n",
    "\n",
    ">syntax:\n",
    "\n",
    "\n",
    "> print(value, ..., sep=' ', end='\\n', file=sys.stdout, flush=False)\n",
    "\n",
    "\n",
    "- attributes / args\n",
    "    - value \n",
    "    - sep\n",
    "    - end\n",
    "    - file \n",
    "    - flush"
   ]
  },
  {
   "cell_type": "code",
   "execution_count": null,
   "id": "6e84e15c",
   "metadata": {},
   "outputs": [],
   "source": [
    "print('Hello World Python .. ')"
   ]
  },
  {
   "cell_type": "code",
   "execution_count": null,
   "id": "3e806867",
   "metadata": {},
   "outputs": [],
   "source": [
    "print('Hii Hey')"
   ]
  },
  {
   "cell_type": "code",
   "execution_count": null,
   "id": "42a8efb1",
   "metadata": {},
   "outputs": [],
   "source": [
    "print(\"It's a boook\") #It's a book"
   ]
  },
  {
   "cell_type": "code",
   "execution_count": null,
   "id": "addc207f",
   "metadata": {},
   "outputs": [],
   "source": [
    "print('Hey Geeks') #string\n",
    "\n",
    "print(10) #int 0-9\n",
    "\n",
    "print(10.2) #float\n",
    "\n",
    "print(1+2j) #complex\n",
    "\n",
    "print(True) #boolean True False\n",
    "\n",
    "print([10,20,30,40]) #list\n",
    "\n",
    "print((\"IND\",\"NZ\",\"AUS\")) #tuple\n",
    "\n",
    "print({\"blue\",\"yellow\",\"red\",\"blue\"}) #set\n",
    "\n",
    "print({\"name\":\"Kumar\",\"course\":\"Python\",\"fee\":10.23893}) #dictionary"
   ]
  },
  {
   "cell_type": "code",
   "execution_count": null,
   "id": "5a1f98a7",
   "metadata": {},
   "outputs": [],
   "source": [
    "# datatype varName = value;\n",
    "int age = 26;\n",
    "float salary = 1282.3793\n",
    "String name = \"Kumar\"\n",
    "\n",
    "#static type , java , c , c++\n",
    "#they are fixed size "
   ]
  },
  {
   "cell_type": "code",
   "execution_count": null,
   "id": "b2e0a2a1",
   "metadata": {},
   "outputs": [],
   "source": []
  },
  {
   "cell_type": "code",
   "execution_count": null,
   "id": "31503117",
   "metadata": {},
   "outputs": [],
   "source": [
    "#var-name = value \n",
    "\n",
    "name = \"Kumar\" #str\n",
    "role = \"SDE\"   #str\n",
    "age = 45       #int\n",
    "\n",
    "print(name)\n",
    "print(role)\n",
    "print(age)\n"
   ]
  },
  {
   "cell_type": "code",
   "execution_count": null,
   "id": "f94046fa",
   "metadata": {},
   "outputs": [],
   "source": [
    "print(name,role,age)"
   ]
  },
  {
   "cell_type": "code",
   "execution_count": null,
   "id": "db3b30ff",
   "metadata": {},
   "outputs": [],
   "source": [
    "print(name,age,role,sep=\"-->\")"
   ]
  },
  {
   "cell_type": "code",
   "execution_count": null,
   "id": "cdbf5850",
   "metadata": {},
   "outputs": [],
   "source": [
    "print(name,age,role,sep=\" # \")"
   ]
  },
  {
   "cell_type": "code",
   "execution_count": null,
   "id": "a91bc953",
   "metadata": {},
   "outputs": [],
   "source": [
    "print(name,age,role,sep=\"\\n\")"
   ]
  },
  {
   "cell_type": "code",
   "execution_count": null,
   "id": "3bec3846",
   "metadata": {},
   "outputs": [],
   "source": [
    "print(age,name,sep = \" %% \")"
   ]
  },
  {
   "cell_type": "code",
   "execution_count": null,
   "id": "1ef86ade",
   "metadata": {},
   "outputs": [],
   "source": [
    "# end = \"\\n\"\n",
    "\n",
    "for i in range(5):\n",
    "    print(i) #end=\"\\n\"\n",
    "    "
   ]
  },
  {
   "cell_type": "code",
   "execution_count": null,
   "id": "2028d8cc",
   "metadata": {},
   "outputs": [],
   "source": [
    "#end= \"\\n\"\n",
    "for i in range(5):\n",
    "    print(i, end = \" \")"
   ]
  },
  {
   "cell_type": "code",
   "execution_count": null,
   "id": "40e9e57b",
   "metadata": {},
   "outputs": [],
   "source": [
    "#file=sys.stdout -->  screen /monitor\n",
    "\n",
    "s = open(\"dec15.txt\",mode=\"a\") #append mode\n",
    "\n",
    "print(\"Hey Hi Introduction to python\",file=s)\n",
    "\n"
   ]
  },
  {
   "cell_type": "code",
   "execution_count": null,
   "id": "0bc09742",
   "metadata": {},
   "outputs": [],
   "source": [
    "print() #\"newline\""
   ]
  },
  {
   "cell_type": "code",
   "execution_count": null,
   "id": "50fab813",
   "metadata": {},
   "outputs": [],
   "source": [
    "a = 10\n",
    "b = 30\n",
    "\n",
    "print(a)\n",
    "print()\n",
    "print()\n",
    "print()\n",
    "print() #newline because end=\"\\n\"\n",
    "print(b)"
   ]
  },
  {
   "cell_type": "code",
   "execution_count": null,
   "id": "8ffcd401",
   "metadata": {},
   "outputs": [],
   "source": [
    "print(value,sep,end,file,flush)"
   ]
  },
  {
   "cell_type": "code",
   "execution_count": null,
   "id": "33e5e1c6",
   "metadata": {},
   "outputs": [],
   "source": [
    "print(\"Hello\")\n"
   ]
  },
  {
   "cell_type": "code",
   "execution_count": null,
   "id": "9a24444a",
   "metadata": {},
   "outputs": [],
   "source": [
    "a = print(\"Hello\")\n",
    "print(a)"
   ]
  },
  {
   "cell_type": "code",
   "execution_count": null,
   "id": "d3e7dae9",
   "metadata": {},
   "outputs": [],
   "source": [
    "b = print()\n",
    "print(b)"
   ]
  },
  {
   "cell_type": "code",
   "execution_count": null,
   "id": "90d96c78",
   "metadata": {},
   "outputs": [],
   "source": []
  },
  {
   "cell_type": "code",
   "execution_count": null,
   "id": "0e0e8f43",
   "metadata": {},
   "outputs": [],
   "source": [
    "#  storing print() calling  in variable\n",
    "a = print(\"Hi\") #calling\n",
    "\n",
    "\n",
    "print(a)"
   ]
  },
  {
   "cell_type": "code",
   "execution_count": null,
   "id": "bc9b1abc",
   "metadata": {},
   "outputs": [],
   "source": [
    "#Very function in Python by default they have to return some value , \n",
    "\n",
    "#if they don't return any values, interpreter will return None value.\n",
    "\n",
    "\n",
    "\n",
    "# print() method by default it will not return any value , interpreter will return NONE by default"
   ]
  },
  {
   "cell_type": "code",
   "execution_count": null,
   "id": "eea82137",
   "metadata": {},
   "outputs": [],
   "source": [
    "def add(a,b):\n",
    "    print(a*b)\n",
    "r = add(10,20) #calling , when storing in one variable.\n",
    "\n",
    "print(r)\n"
   ]
  },
  {
   "cell_type": "code",
   "execution_count": null,
   "id": "35c40167",
   "metadata": {},
   "outputs": [],
   "source": [
    "print(add(20,30))"
   ]
  },
  {
   "cell_type": "code",
   "execution_count": null,
   "id": "c21f84df",
   "metadata": {},
   "outputs": [],
   "source": [
    "def add(a,b):#declaration\n",
    "    if a>b:\n",
    "        return \"a is larger\"\n",
    "    else:\n",
    "        return \"b is larger\"\n",
    "    \n",
    "# add(10,20)\n",
    "res = add(10,20) #calling\n",
    "print(res)"
   ]
  },
  {
   "cell_type": "code",
   "execution_count": null,
   "id": "c8baadf5",
   "metadata": {},
   "outputs": [],
   "source": [
    "print(print(print(\"Hi\")))\n",
    "\n",
    "print(print(print()))\n",
    "\n"
   ]
  },
  {
   "cell_type": "markdown",
   "id": "74162d82",
   "metadata": {},
   "source": [
    "### Comments\n",
    "\n",
    "> Comments are very important to make the code more readable and to leave remarks in our code. Python does not run comment parts of our code. Any text starting with hash(#) in Python is a comment.\n",
    "\n",
    "\n",
    "####  Single Line Comment\n",
    "\n",
    "        # This is the first comment\n",
    "        # This is the second comment\n",
    "        # Python is eating the world\n",
    "        \n",
    "#### Multiline Comment\n",
    "\n",
    "Triple quote can be used for multiline comment if it is not assigned to a variable\n",
    "\n",
    "    \"\"\"This is multiline comment\n",
    "    multiline comment takes multiple lines.\n",
    "    python is eating the world\n",
    "    \"\"\"\n"
   ]
  },
  {
   "cell_type": "code",
   "execution_count": null,
   "id": "4881bf01",
   "metadata": {},
   "outputs": [],
   "source": [
    "#single line comment.\n",
    "var = \"kumar\" # var declaration \n",
    "\n",
    "\n",
    "#multi line comment\n",
    "def fun(a,b):\n",
    "    '''this is a function which \n",
    "        return addition\n",
    "        '''\n",
    "    print(a+b)\n",
    "    \n",
    "fun(10,20)"
   ]
  },
  {
   "cell_type": "code",
   "execution_count": null,
   "id": "f4ccc92d",
   "metadata": {},
   "outputs": [],
   "source": [
    "#Take new inputs from keyboard\n",
    "'''\n",
    "we are learning python \n",
    "comments \n",
    "single comments \n",
    "multiline comments\n",
    "'''"
   ]
  },
  {
   "cell_type": "code",
   "execution_count": null,
   "id": "53940e73",
   "metadata": {},
   "outputs": [],
   "source": []
  },
  {
   "cell_type": "code",
   "execution_count": null,
   "id": "4a89a601",
   "metadata": {},
   "outputs": [],
   "source": []
  },
  {
   "cell_type": "markdown",
   "id": "0369f99a",
   "metadata": {},
   "source": [
    "## Variables "
   ]
  },
  {
   "cell_type": "markdown",
   "id": "a248a0af",
   "metadata": {},
   "source": [
    "- Variables store data in a computer memory.\n",
    ">  Mnemonic variables are recommended to use in many programming languages.\n",
    "- A mnemonic variable is a variable name that can be easily remembered and associated. \n",
    "> A variable refers to a memory address in which data is stored. Number at the beginning, special character, hyphen are not allowed when naming a variable. \n",
    "\n",
    "- *A variable can have a short name (like x, y, z), but a more descriptive name (firstname, lastname, age, country) is highly recommended.*"
   ]
  },
  {
   "cell_type": "markdown",
   "id": "b9b6eb4c",
   "metadata": {},
   "source": [
    "### Rules\n",
    "\n",
    "Python Variable Name Rules\n",
    "\n",
    "    - A variable name must start with a letter or the underscore character\n",
    "    - A variable name cannot start with a number\n",
    "    - A variable name can only contain alpha-numeric characters and underscores (A-z, 0-9, and _ )\n",
    "    - Variable names are case-sensitive (firstname, Firstname, FirstName and FIRSTNAME) are different variables)\n",
    "    - A variable cannot have same name as Reserved word or KEYWORD."
   ]
  },
  {
   "cell_type": "markdown",
   "id": "f7b6d8d5",
   "metadata": {},
   "source": [
    "syntax:\n",
    "    \n",
    "    variableName = value \n",
    "    \n",
    "    value = strings : \"kumar\"\n",
    "    value = integers : 0-9\n",
    "    value = float  : 0.0 - 9.9 \n",
    "    value : boolean : True or False\n",
    "    value : complex : 1+2j  "
   ]
  },
  {
   "cell_type": "code",
   "execution_count": null,
   "id": "a383f957",
   "metadata": {},
   "outputs": [],
   "source": [
    "# complex \n",
    "#  real + img j \n",
    "com_var = 1+2j\n",
    "print(com_var) \n",
    "\n",
    "print(type(com_var))\n",
    "\n",
    "# type(variable-name)"
   ]
  },
  {
   "cell_type": "code",
   "execution_count": null,
   "id": "0029c202",
   "metadata": {},
   "outputs": [],
   "source": [
    "# firstname\n",
    "# lastname\n",
    "# age\n",
    "# country\n",
    "# city\n",
    "# first_name\n",
    "# last_name\n",
    "# capital_city\n",
    "# _if # if we want to use reserved word as a variable\n",
    "# year_2021\n",
    "# year2021\n",
    "# current_year_2021\n",
    "# birth_year\n",
    "# num1\n",
    "# num2"
   ]
  },
  {
   "cell_type": "code",
   "execution_count": null,
   "id": "d6c584a5",
   "metadata": {},
   "outputs": [],
   "source": [
    "# first-name\n",
    "# first@name\n",
    "# first$name\n",
    "# num-1\n",
    "# 1num\n",
    "#if \n",
    "#True\n",
    "\n"
   ]
  },
  {
   "cell_type": "code",
   "execution_count": null,
   "id": "fe824cf0",
   "metadata": {},
   "outputs": [],
   "source": [
    "student_name = \"Kumar Rajamoni\"\n",
    "\n",
    "print(student_name)"
   ]
  },
  {
   "cell_type": "code",
   "execution_count": null,
   "id": "8a9f48f1",
   "metadata": {},
   "outputs": [],
   "source": [
    "#all KEYWORDS..\n",
    "import keyword\n",
    "\n",
    "print(keyword.kwlist)\n",
    "\n",
    "print(len(keyword.kwlist))"
   ]
  },
  {
   "cell_type": "code",
   "execution_count": null,
   "id": "9ef0101e",
   "metadata": {},
   "outputs": [],
   "source": [
    "break = 10#invalid"
   ]
  },
  {
   "cell_type": "code",
   "execution_count": null,
   "id": "1da927f8",
   "metadata": {},
   "outputs": [],
   "source": []
  },
  {
   "cell_type": "code",
   "execution_count": null,
   "id": "56a8fd54",
   "metadata": {},
   "outputs": [],
   "source": [
    "\n",
    "# Variables in Python\n",
    "first_name = 'Kumar'\n",
    "last_name = 'Rajamoni'\n",
    "country = 'India'\n",
    "city = 'Noida'\n",
    "age = 25\n",
    "salary = 60000.09039\n",
    "is_married = False\n",
    "skills = ['HTML', 'CSS', 'JS', 'React', 'Python','JAVA']\n",
    "person_info = {\n",
    "   'firstname':'Kumar',\n",
    "   'lastname':'Rajamoni',\n",
    "   'country':'India',\n",
    "   'city':'Hyd'\n",
    "   }"
   ]
  },
  {
   "cell_type": "code",
   "execution_count": null,
   "id": "42a8507a",
   "metadata": {},
   "outputs": [],
   "source": [
    "name = \"Kumar\"\n",
    "\n",
    "print(\"Name:  \",name)"
   ]
  },
  {
   "cell_type": "code",
   "execution_count": null,
   "id": "8a8a4ce8",
   "metadata": {},
   "outputs": [],
   "source": [
    "# Printing the values stored in the variables\n",
    "\n",
    "print('First name:', first_name)\n",
    "print('First name length:', len(first_name))\n",
    "print('Last name: ', last_name)\n",
    "print('Last name length: ', len(last_name))\n",
    "print('Country: ', country)\n",
    "print('City: ', city)\n",
    "print('Age: ', age)\n",
    "print('Married: ', is_married)\n",
    "print('Skills: ', skills)\n",
    "print('Person information: ', person_info)"
   ]
  },
  {
   "cell_type": "code",
   "execution_count": null,
   "id": "0e432d59",
   "metadata": {},
   "outputs": [],
   "source": [
    "a = 10\n",
    "b = 10.2\n",
    "c = \"python\"\n",
    "d = 1+7j\n",
    "\n",
    "print(a , type(a))\n",
    "print(b, type(b))\n",
    "print(c , type(c))\n",
    "print(d, type(d))"
   ]
  },
  {
   "cell_type": "code",
   "execution_count": null,
   "id": "cb69dabb",
   "metadata": {},
   "outputs": [],
   "source": [
    "print(first_name, type(first_name) , id(first_name))"
   ]
  },
  {
   "cell_type": "code",
   "execution_count": null,
   "id": "eef8f9cf",
   "metadata": {},
   "outputs": [],
   "source": [
    "print(type(first_name))\n",
    "\n",
    "print(type(age))\n",
    "\n",
    "print(type(skills))"
   ]
  },
  {
   "cell_type": "code",
   "execution_count": null,
   "id": "fa5798c7",
   "metadata": {},
   "outputs": [],
   "source": [
    "age = 35\n",
    "print(age , type(age))"
   ]
  },
  {
   "cell_type": "code",
   "execution_count": null,
   "id": "3a852772",
   "metadata": {},
   "outputs": [],
   "source": [
    "age = 67.6\n",
    "print(age , type(age))"
   ]
  },
  {
   "cell_type": "code",
   "execution_count": null,
   "id": "14289502",
   "metadata": {},
   "outputs": [],
   "source": [
    "age = \"Kumar\"\n",
    "print(age , type(age))"
   ]
  },
  {
   "cell_type": "markdown",
   "id": "bdf3065a",
   "metadata": {},
   "source": [
    "### INPUT FUNCTION\n",
    " - input() used to read data from user or any input device.\n",
    " - by default it will read all types of data in STRING format as input.\n",
    " \n",
    "\n",
    "Syntax:\n",
    "    \n",
    "   >variable_name = input(\"Prompt\")\n",
    "    "
   ]
  },
  {
   "cell_type": "code",
   "execution_count": null,
   "id": "1dac7abb",
   "metadata": {},
   "outputs": [],
   "source": [
    "age = 10 #static declaration\n",
    "print(age)"
   ]
  },
  {
   "cell_type": "code",
   "execution_count": null,
   "id": "685623d9",
   "metadata": {},
   "outputs": [],
   "source": [
    "# dynamic declaration.\n",
    "age = input(\"Enter the age : \") #read data(int,float,bool,complex) in str format "
   ]
  },
  {
   "cell_type": "code",
   "execution_count": null,
   "id": "150d4e81",
   "metadata": {},
   "outputs": [],
   "source": [
    "print(age , type(age))"
   ]
  },
  {
   "cell_type": "code",
   "execution_count": null,
   "id": "a5c54709",
   "metadata": {},
   "outputs": [],
   "source": [
    "print(type(45))\n",
    "\n",
    "print(type(\"45\"))"
   ]
  },
  {
   "cell_type": "code",
   "execution_count": null,
   "id": "7d58b1c1",
   "metadata": {},
   "outputs": [],
   "source": [
    "num1 = input(\"Enter num1: \")\n",
    "num2 = input(\"Enter num2: \")\n",
    "\n",
    "print(num1 + num2)"
   ]
  },
  {
   "cell_type": "code",
   "execution_count": null,
   "id": "39cce4fa",
   "metadata": {},
   "outputs": [],
   "source": [
    "print(\"10\"+\"20\")\n",
    "print(\"Hi\"+\"Java\")"
   ]
  },
  {
   "cell_type": "code",
   "execution_count": null,
   "id": "89764a95",
   "metadata": {},
   "outputs": [],
   "source": [
    "age = input(\"enter age\")\n",
    "\n",
    "print(age , type(age))\n",
    "\n",
    "age = int(age) #string - int\n",
    "\n",
    "print(age , type(age))"
   ]
  },
  {
   "cell_type": "code",
   "execution_count": null,
   "id": "9793e412",
   "metadata": {},
   "outputs": [],
   "source": [
    "age = int(input(\"Enter the age: \"))\n",
    "print(age,type(age))"
   ]
  },
  {
   "cell_type": "code",
   "execution_count": null,
   "id": "63fea232",
   "metadata": {},
   "outputs": [],
   "source": [
    "num1 = int(input(\"Enter num1: \"))\n",
    "num2 = int(input(\"Enter num2: \"))\n",
    "\n",
    "print(num1 + num2)"
   ]
  },
  {
   "cell_type": "code",
   "execution_count": null,
   "id": "768fb8d3",
   "metadata": {},
   "outputs": [],
   "source": [
    "a = int(input(\"enter a value: \"))\n",
    "print(a)"
   ]
  },
  {
   "cell_type": "code",
   "execution_count": null,
   "id": "bc6f0318",
   "metadata": {},
   "outputs": [],
   "source": [
    "print(int(\"11\"))"
   ]
  },
  {
   "cell_type": "code",
   "execution_count": null,
   "id": "867d813a",
   "metadata": {},
   "outputs": [],
   "source": [
    "salary = input(\"Enter the salary\")\n",
    "\n",
    "salary = float(salary) #casting str---> float\n",
    "print(salary , type(salary))"
   ]
  },
  {
   "cell_type": "code",
   "execution_count": null,
   "id": "760a7f83",
   "metadata": {},
   "outputs": [],
   "source": [
    "score = input()\n",
    "\n",
    "score = int(score) ##str -- int\n",
    "\n",
    "print(score, type(score))"
   ]
  },
  {
   "cell_type": "code",
   "execution_count": null,
   "id": "2c35f5af",
   "metadata": {},
   "outputs": [],
   "source": [
    "age = int(input(\"Enter the age: \"))\n",
    "print(age, type(age))"
   ]
  },
  {
   "cell_type": "code",
   "execution_count": null,
   "id": "2d245a49",
   "metadata": {},
   "outputs": [],
   "source": [
    "#prebuild \n",
    "    int()\n",
    "    float()\n",
    "    str()\n",
    "    list() , tuple() , set() , dict() , bool() , complex()"
   ]
  },
  {
   "cell_type": "code",
   "execution_count": null,
   "id": "d6158e52",
   "metadata": {},
   "outputs": [],
   "source": [
    "first_name = input('What is your name: ')\n",
    "age = input('How old are you? ')\n",
    "\n",
    "print(first_name)\n",
    "print(age)"
   ]
  },
  {
   "cell_type": "code",
   "execution_count": null,
   "id": "e57edc6b",
   "metadata": {},
   "outputs": [],
   "source": []
  },
  {
   "cell_type": "code",
   "execution_count": null,
   "id": "9d5a9fde",
   "metadata": {},
   "outputs": [],
   "source": [
    "## Declare 5 realtime variables and take input from keyboard\n",
    "# Just print(value , type , memoryID.)"
   ]
  },
  {
   "cell_type": "code",
   "execution_count": null,
   "id": "c9d47245",
   "metadata": {},
   "outputs": [],
   "source": [
    "University = input(\"Enter the name of university\")\n",
    "print (University , type (University),id (University))\n",
    "university_courseduration = int(input(\"enter course duration: \"))\n",
    "print(university_courseduration , type(university_courseduration) ,id(university_courseduration))"
   ]
  },
  {
   "cell_type": "code",
   "execution_count": null,
   "id": "b5ec7fe1",
   "metadata": {},
   "outputs": [],
   "source": [
    "name = input(\"enter the name\")\n",
    "address = input(\"enter address: \")\n",
    "university_courseduration = int(input(\"enter course duration: \")\n",
    "course_fee = float(input(\"enter the course_fee\"))\n",
    "is_student = bool(input(\"Are you a student?True/False\"))\n",
    "\n",
    "print (name , type (name) ,id(name))\n",
    "print(address , type(address) ,id(address)))\n",
    "print(university_courseduration , type(university_courseduration) ,id(university_courseduration))\n",
    "print (course_fee, type(course_fee), id(course_fee))\n",
    "print(is_student , type(is_student) , id(is_student))"
   ]
  },
  {
   "cell_type": "code",
   "execution_count": null,
   "id": "8660a3fd",
   "metadata": {},
   "outputs": [],
   "source": [
    "fifa_winner = input(\"Enter the winner name\")\n",
    "print(fifa_winner , type(fifa_winner) , id(fifa_winner))\n",
    "\n",
    "messi_score = int(input(\"enter messi score: \"))\n",
    "\n",
    "print(messi_score , type(messi_score) , id(messi_score) )\n",
    "\n"
   ]
  },
  {
   "cell_type": "markdown",
   "id": "f5e4116d",
   "metadata": {},
   "source": [
    "## Data Types\n",
    "    - Which defines the data and representation of real world data.\n",
    "    - In python we have various types .\n",
    "    \n",
    "    \n",
    "##### Number\n",
    "- Integer: Integer(negative, zero and positive) numbers Example: ... -3, -2, -1, 0, 1, 2, 3 ...\n",
    "- Float: Decimal number Example ... -3.5, -2.25, -1.0, 0.0, 1.1, 2.2, 3.5 ...\n",
    "- Complex Example 1 + j, 2 + 4j\n",
    "\n",
    "\n",
    "##### String\n",
    " - A collection of one or more characters under a single or double quote. If a string is more than one sentence then we use a triple quote.\n",
    "\n",
    "Example:\n",
    "\n",
    "    'Asabeneh'\n",
    "    'Finland'\n",
    "    'Python'\n",
    "    'I love teaching'\n",
    "    'I hope you are enjoying the first day of 30DaysOfPython Challenge'\n",
    "\n",
    "\n",
    "#### Booleans\n",
    "- A boolean data type is either a True or False value. T and F should be always uppercase.\n",
    "\n",
    "Example:\n",
    "\n",
    "    True  #  Is the light on? If it is on, then the value is True\n",
    "    \n",
    "    False # Is the light on? If it is off, then the value is False\n",
    "    \n",
    "#### List\n",
    "Python list is an ordered collection which allows to store different data type items. A list is similar to an array in JavaScript.\n",
    "\n",
    "    Example:\n",
    "\n",
    "    [0, 1, 2, 3, 4, 5]  # all are the same data types - a list of numbers\n",
    "    ['Banana', 'Orange', 'Mango', 'Avocado'] # all the same data types - a list of strings (fruits)\n",
    "    ['Finland','Estonia', 'Sweden','Norway'] # all the same data types - a list of strings (countries)\n",
    "    ['Banana', 10, False, 9.81] # different data types in the list - string, integer, boolean and float\n",
    "    \n",
    "\n",
    "#### Tuple\n",
    " > A tuple is an ordered collection of different data types like list but tuples can not be modified once they are created. They are immutable.\n",
    " \n",
    " \n",
    "     Example:\n",
    "     ('Earth', 'Jupiter', 'Neptune', 'Mars', 'Venus', 'Saturn', 'Uranus', 'Mercury') # planets\n",
    "     \n",
    "     \n",
    "### Set\n",
    "A set is a collection of data types similar to list and tuple. Unlike list and tuple, set is not an ordered collection of items. Like in Mathematics, set in Python stores only unique items.\n",
    "\n",
    "        Example:\n",
    "\n",
    "        {2, 4, 3, 5}\n",
    "        {3.14, 9.81, 2.7} # order is not important in set\n",
    "        \n",
    "        \n",
    "#### Dictionary\n",
    "A Python dictionary object is an unordered collection of data in a key value pair format.\n",
    "\n",
    "    Example:\n",
    "\n",
    "    {\n",
    "    'cricketTeamName':'India',\n",
    "    'Captain':'RS',\n",
    "    'country':'India', \n",
    "    'year':2022, \n",
    "    'is_top20':True,\n",
    "    'Players':['Virat', 'Rohit', 'Bhu', 'Python']\n",
    "    }"
   ]
  },
  {
   "cell_type": "markdown",
   "id": "783a0fab",
   "metadata": {},
   "source": [
    "### Integers \n",
    "    - any postive or negative whole numbers (-0 ,1 ,9 ,11)\n",
    "    \n",
    "  "
   ]
  },
  {
   "cell_type": "code",
   "execution_count": null,
   "id": "90dfdd8d",
   "metadata": {},
   "outputs": [],
   "source": [
    "intVar = -1000000000000000000000000000000000000000000000000000000000000000000000000000000000000000000000000000000000000000000\n",
    "\n",
    "print(intVar, type(intVar))"
   ]
  },
  {
   "cell_type": "code",
   "execution_count": null,
   "id": "7b4fe362",
   "metadata": {},
   "outputs": [],
   "source": [
    "intVar2 = 1029\n",
    "print(intVar2)"
   ]
  },
  {
   "cell_type": "markdown",
   "id": "a7723b94",
   "metadata": {},
   "source": [
    "    Binary          0b or 0B  - bin()\n",
    "    Octal           0o or 0O - oct()\n",
    "    hexdecimal     0x or 0X  - hex()"
   ]
  },
  {
   "cell_type": "code",
   "execution_count": null,
   "id": "8b1ef02c",
   "metadata": {},
   "outputs": [],
   "source": [
    "a = 0b1010 #10\n",
    "b = 0b101  #5\n",
    "\n",
    "print(a+b)"
   ]
  },
  {
   "cell_type": "code",
   "execution_count": null,
   "id": "a1f3ef63",
   "metadata": {},
   "outputs": [],
   "source": [
    "print(bin(10)) #convert any decimal -- binary "
   ]
  },
  {
   "cell_type": "code",
   "execution_count": null,
   "id": "43408854",
   "metadata": {},
   "outputs": [],
   "source": [
    "c = 0o10\n",
    "d = 0b100\n",
    "\n",
    "print(c+d)"
   ]
  },
  {
   "cell_type": "code",
   "execution_count": null,
   "id": "fb74dc83",
   "metadata": {},
   "outputs": [],
   "source": [
    "print(oct(8)) #any decimal - octal "
   ]
  },
  {
   "cell_type": "code",
   "execution_count": null,
   "id": "f9e14a1e",
   "metadata": {},
   "outputs": [],
   "source": [
    "e = 0xA\n",
    "f = 0xB\n",
    "\n",
    "print(e+f)"
   ]
  },
  {
   "cell_type": "code",
   "execution_count": null,
   "id": "436af06c",
   "metadata": {},
   "outputs": [],
   "source": [
    "print(hex(10))"
   ]
  },
  {
   "cell_type": "code",
   "execution_count": null,
   "id": "6f77198c",
   "metadata": {},
   "outputs": [],
   "source": []
  },
  {
   "cell_type": "markdown",
   "id": "9e7579e7",
   "metadata": {},
   "source": [
    "### Float \n",
    "    - any decimal points is considered as float datatypes\n",
    "    \n",
    "    "
   ]
  },
  {
   "cell_type": "code",
   "execution_count": null,
   "id": "d44fb02a",
   "metadata": {},
   "outputs": [],
   "source": [
    "floatVar = 1.0\n",
    "\n",
    "print(floatVar , type(floatVar))"
   ]
  },
  {
   "cell_type": "code",
   "execution_count": null,
   "id": "ad9577c2",
   "metadata": {},
   "outputs": [],
   "source": [
    "# ex: 10.5*10^5\n",
    "\n",
    "a = 10.5*(10**5)\n",
    "\n",
    "print(a)"
   ]
  },
  {
   "cell_type": "code",
   "execution_count": null,
   "id": "7b8161b2",
   "metadata": {},
   "outputs": [],
   "source": [
    "b = 10.5e5 # e 10^n\n",
    "\n",
    "print(b)"
   ]
  },
  {
   "cell_type": "code",
   "execution_count": null,
   "id": "d2d2c153",
   "metadata": {},
   "outputs": [],
   "source": []
  },
  {
   "cell_type": "markdown",
   "id": "8c33174a",
   "metadata": {},
   "source": [
    "### Strings \n",
    "    - collectional of charcaters (letters , symbols,numbers)\n",
    "    - we have 3 notations to represent the strings \n",
    "        - single quotes   - 'a' 'hello'\n",
    "        - double quotes   - \"Hello World\" \n",
    "        - triple quotes   - mutlipline strings"
   ]
  },
  {
   "cell_type": "code",
   "execution_count": null,
   "id": "12ff3b69",
   "metadata": {},
   "outputs": [],
   "source": [
    "singleQ = 'Hello'\n",
    "print(singleQ)"
   ]
  },
  {
   "cell_type": "code",
   "execution_count": null,
   "id": "d5ecdeef",
   "metadata": {},
   "outputs": [],
   "source": [
    "a = 'It's a book'\n",
    "\n",
    "print(a)"
   ]
  },
  {
   "cell_type": "code",
   "execution_count": null,
   "id": "236eebc3",
   "metadata": {},
   "outputs": [],
   "source": [
    "b = \"It's a book\"\n",
    "\n",
    "print(b)"
   ]
  },
  {
   "cell_type": "code",
   "execution_count": null,
   "id": "ba2c6e88",
   "metadata": {},
   "outputs": [],
   "source": []
  },
  {
   "cell_type": "code",
   "execution_count": null,
   "id": "6ce510c9",
   "metadata": {},
   "outputs": [],
   "source": [
    "c = \"python is \"oops\" language\"\n",
    "\n",
    "print(c)"
   ]
  },
  {
   "cell_type": "code",
   "execution_count": null,
   "id": "0f04d478",
   "metadata": {},
   "outputs": [],
   "source": [
    "c = \"\"\"python is \"oops\" language\"\"\"\n",
    "\n",
    "print(c)"
   ]
  },
  {
   "cell_type": "code",
   "execution_count": null,
   "id": "82f382ac",
   "metadata": {},
   "outputs": [],
   "source": []
  },
  {
   "cell_type": "code",
   "execution_count": null,
   "id": "2e25b4a0",
   "metadata": {},
   "outputs": [],
   "source": [
    "d = \"\"\"python is oops\n",
    "and functional\n",
    "language\"\"\"\n",
    "\n",
    "print(d)"
   ]
  },
  {
   "cell_type": "code",
   "execution_count": null,
   "id": "0188caad",
   "metadata": {},
   "outputs": [],
   "source": [
    "d = '''python is oops\n",
    "and functional\n",
    "language'''\n",
    "\n",
    "print(d)"
   ]
  },
  {
   "cell_type": "code",
   "execution_count": null,
   "id": "ff2a2b03",
   "metadata": {},
   "outputs": [],
   "source": []
  },
  {
   "cell_type": "markdown",
   "id": "9f0222e1",
   "metadata": {},
   "source": [
    "### complex numbers \n",
    "    - real+imagj\n",
    "    - real number is optional\n",
    "    - imag number is mandatory"
   ]
  },
  {
   "cell_type": "code",
   "execution_count": null,
   "id": "569bd4f9",
   "metadata": {},
   "outputs": [],
   "source": [
    "comVar = 6+8j"
   ]
  },
  {
   "cell_type": "code",
   "execution_count": null,
   "id": "fe7e69d5",
   "metadata": {},
   "outputs": [],
   "source": [
    "print(comVar , type(comVar))"
   ]
  },
  {
   "cell_type": "code",
   "execution_count": null,
   "id": "2103ab92",
   "metadata": {},
   "outputs": [],
   "source": [
    "print(dir(comVar))"
   ]
  },
  {
   "cell_type": "code",
   "execution_count": null,
   "id": "fcb6229e",
   "metadata": {},
   "outputs": [],
   "source": [
    "print(comVar.imag) #attributes"
   ]
  },
  {
   "cell_type": "code",
   "execution_count": null,
   "id": "7a46875e",
   "metadata": {},
   "outputs": [],
   "source": [
    "print(comVar.real)"
   ]
  },
  {
   "cell_type": "code",
   "execution_count": null,
   "id": "d29cff08",
   "metadata": {},
   "outputs": [],
   "source": [
    "print(comVar.conjugate()) #inverse of sign"
   ]
  },
  {
   "cell_type": "code",
   "execution_count": null,
   "id": "0cde3499",
   "metadata": {},
   "outputs": [],
   "source": [
    "comVar.conjugate().conjugate().conjugate()"
   ]
  },
  {
   "cell_type": "code",
   "execution_count": null,
   "id": "788f0dd6",
   "metadata": {},
   "outputs": [],
   "source": []
  },
  {
   "cell_type": "code",
   "execution_count": null,
   "id": "0941b72a",
   "metadata": {},
   "outputs": [],
   "source": []
  },
  {
   "cell_type": "markdown",
   "id": "ef5bd718",
   "metadata": {},
   "source": [
    "### List \n",
    "    - It's a collection & ordered & indexed data type\n",
    "    - It's stores mutliple items in one variable\n",
    "    - Indexing \n",
    "            postive  0 ---> N-1\n",
    "            negative -1 ---> -N\n",
    "    - It's Mutable ---> Changes are allowed\n",
    "    - declared with []\n",
    "    - stores hemogeneuous & hetrogenous data types\n",
    "    \n",
    "    \n",
    "    syntax:\n",
    "    \n",
    "    varName = [data1,data2,....]\n",
    "    "
   ]
  },
  {
   "cell_type": "code",
   "execution_count": null,
   "id": "17141eda",
   "metadata": {},
   "outputs": [],
   "source": [
    "lstNumbers = [0, 1, 2, 3, 4, 5]  # all are the same data types - a list of numbers\n",
    "\n",
    "print(lstNumbers , type(lstNumbers))\n",
    "\n",
    "\n",
    "fruits = ['Banana', 'Orange', 'Mango', 'Avocado'] # all the same data types - a list of strings (fruits)\n",
    "\n",
    "\n",
    "countries = ['Finland','Estonia', 'Sweden','Norway'] # all the same data types - a list of strings (countries)\n",
    "\n",
    "\n",
    "mixedList = ['Banana', 10, False, 9.81] # different data types in the list - string, integer, boolean and float\n",
    "\n"
   ]
  },
  {
   "cell_type": "code",
   "execution_count": null,
   "id": "bfcbef50",
   "metadata": {},
   "outputs": [],
   "source": [
    "print(len(fruits))"
   ]
  },
  {
   "cell_type": "code",
   "execution_count": null,
   "id": "46256781",
   "metadata": {},
   "outputs": [],
   "source": [
    "# accessing VarName[loc]  \n",
    "print(fruits)\n",
    "print(fruits[3])"
   ]
  },
  {
   "cell_type": "code",
   "execution_count": null,
   "id": "4df3144f",
   "metadata": {},
   "outputs": [],
   "source": [
    "print(fruits[4-1])\n",
    "\n",
    "#POSTIVE INDEXING ::: 0 ---> LEN-1\n",
    "\n",
    "#NEGATIVE  INDEXING : -1 ---> -LEN"
   ]
  },
  {
   "cell_type": "code",
   "execution_count": null,
   "id": "f31fa19e",
   "metadata": {},
   "outputs": [],
   "source": [
    "print(fruits[3])"
   ]
  },
  {
   "cell_type": "code",
   "execution_count": null,
   "id": "58935ea3",
   "metadata": {},
   "outputs": [],
   "source": [
    "n = len(fruits)\n",
    "\n",
    "print(fruits[n-1])  #n-1 is the last location"
   ]
  },
  {
   "cell_type": "code",
   "execution_count": null,
   "id": "cc760a4f",
   "metadata": {},
   "outputs": [],
   "source": [
    "print(fruits[-1])"
   ]
  },
  {
   "cell_type": "code",
   "execution_count": null,
   "id": "db030fe4",
   "metadata": {},
   "outputs": [],
   "source": [
    "print(fruits[-10])"
   ]
  },
  {
   "cell_type": "code",
   "execution_count": null,
   "id": "ee301639",
   "metadata": {},
   "outputs": [],
   "source": [
    "print(fruits[-4])\n",
    "\n"
   ]
  },
  {
   "cell_type": "code",
   "execution_count": null,
   "id": "5aed4057",
   "metadata": {},
   "outputs": [],
   "source": [
    "print(fruits)"
   ]
  },
  {
   "cell_type": "code",
   "execution_count": null,
   "id": "2674b890",
   "metadata": {},
   "outputs": [],
   "source": [
    "fruits[3] = \"pineapple\" #mutablity \n",
    "print(fruits)"
   ]
  },
  {
   "cell_type": "code",
   "execution_count": null,
   "id": "035c1306",
   "metadata": {},
   "outputs": [],
   "source": [
    "fruits[4] = \"cherry\""
   ]
  },
  {
   "cell_type": "code",
   "execution_count": null,
   "id": "af2601d9",
   "metadata": {},
   "outputs": [],
   "source": [
    "print(mixedList)\n",
    "\n",
    "print(mixedList[2])\n",
    "\n",
    "print(mixedList[-1])\n",
    "\n",
    "print(type(mixedList[0]))"
   ]
  },
  {
   "cell_type": "code",
   "execution_count": null,
   "id": "db458e0a",
   "metadata": {},
   "outputs": [],
   "source": [
    "# attributes and methods \n",
    "\n",
    "print(dir(fruits))"
   ]
  },
  {
   "cell_type": "code",
   "execution_count": null,
   "id": "2784afda",
   "metadata": {},
   "outputs": [],
   "source": []
  },
  {
   "cell_type": "markdown",
   "id": "c1f384b9",
   "metadata": {},
   "source": [
    "### List Method \n",
    "\n",
    "    - insertion\n",
    "         append(obj)\n",
    "         insert(ind,obj)\n",
    "         extend([obj1,obj2..]\n",
    "    - deletion\n",
    "        pop()\n",
    "        remove()\n",
    "    - popular \n",
    "        reverse()\n",
    "        copy()\n",
    "        clear()\n",
    "        sort()\n",
    "        count()\n",
    "        index()"
   ]
  },
  {
   "cell_type": "code",
   "execution_count": null,
   "id": "a194041c",
   "metadata": {},
   "outputs": [],
   "source": [
    "print(dir([]))"
   ]
  },
  {
   "cell_type": "code",
   "execution_count": null,
   "id": "126049e5",
   "metadata": {},
   "outputs": [],
   "source": [
    "countries = ['Finland','Estonia', 'Sweden','Norway']\n",
    "\n",
    "#append() \n",
    "\n",
    "countries.append(\"India\")\n",
    "print(countries)\n",
    "\n",
    "# countries.append(\"USA\",\"AUS\") #error\n",
    "# print(countries)"
   ]
  },
  {
   "cell_type": "code",
   "execution_count": null,
   "id": "ccc1947c",
   "metadata": {},
   "outputs": [],
   "source": [
    "#insert(indNum,obj)\n",
    "\n",
    "countries.insert(0,\"Indo\")\n",
    "print(countries)"
   ]
  },
  {
   "cell_type": "code",
   "execution_count": null,
   "id": "fd6cc89f",
   "metadata": {},
   "outputs": [],
   "source": [
    "countries.insert(-1,\"Pak\")\n",
    "print(countries)"
   ]
  },
  {
   "cell_type": "code",
   "execution_count": null,
   "id": "d6d27cca",
   "metadata": {},
   "outputs": [],
   "source": [
    "countries.insert(-100,\"SPAIN\")\n",
    "print(countries)"
   ]
  },
  {
   "cell_type": "code",
   "execution_count": null,
   "id": "490d5e77",
   "metadata": {},
   "outputs": [],
   "source": [
    "# extend([obj1,obj2..]\n",
    "\n",
    "countries.extend([\"Swiz\",\"Cuba\"])\n",
    "\n",
    "print(countries)"
   ]
  },
  {
   "cell_type": "code",
   "execution_count": null,
   "id": "e9c7a2b7",
   "metadata": {},
   "outputs": [],
   "source": [
    "a = print(\"Hello\")\n",
    "print(a)"
   ]
  },
  {
   "cell_type": "code",
   "execution_count": null,
   "id": "7f5d6d1a",
   "metadata": {},
   "outputs": [],
   "source": [
    "print(countries)"
   ]
  },
  {
   "cell_type": "code",
   "execution_count": null,
   "id": "bf936493",
   "metadata": {},
   "outputs": [],
   "source": [
    "# pop()\n",
    "res = countries.pop() #pop() will remove and return the popped element\n",
    "print(res)"
   ]
  },
  {
   "cell_type": "code",
   "execution_count": null,
   "id": "6d316da5",
   "metadata": {},
   "outputs": [],
   "source": [
    "print(countries.pop(3)) # give only valid locations"
   ]
  },
  {
   "cell_type": "code",
   "execution_count": null,
   "id": "4321b735",
   "metadata": {},
   "outputs": [],
   "source": [
    "# \n",
    "num = [1,2,3,4]\n",
    "num.pop()\n",
    "num.pop()\n",
    "num.pop()\n",
    "num.pop()\n",
    "print(num)\n",
    "num.pop()"
   ]
  },
  {
   "cell_type": "code",
   "execution_count": null,
   "id": "b69d6309",
   "metadata": {},
   "outputs": [],
   "source": [
    "num = [1,222,30,420]\n",
    "num.pop(2)"
   ]
  },
  {
   "cell_type": "code",
   "execution_count": null,
   "id": "94c5d6cb",
   "metadata": {},
   "outputs": [],
   "source": [
    "# remove()\n",
    "print(countries)\n",
    "countries.remove(\"Norway\")\n",
    "print(countries)\n"
   ]
  },
  {
   "cell_type": "code",
   "execution_count": null,
   "id": "f0ee0ad0",
   "metadata": {},
   "outputs": [],
   "source": [
    "countries.remove(\"Bang\")"
   ]
  },
  {
   "cell_type": "code",
   "execution_count": null,
   "id": "9a0d3411",
   "metadata": {},
   "outputs": [],
   "source": [
    "lst = []\n",
    "\n",
    "[].remove(\"IND\")"
   ]
  },
  {
   "cell_type": "code",
   "execution_count": null,
   "id": "c191b5b9",
   "metadata": {},
   "outputs": [],
   "source": [
    "# reverse()\n",
    "countries.reverse()\n",
    "\n",
    "print(countries)"
   ]
  },
  {
   "cell_type": "code",
   "execution_count": null,
   "id": "4bff59c8",
   "metadata": {},
   "outputs": [],
   "source": [
    "# sort()\n",
    "countries.sort()\n",
    "print(countries)"
   ]
  },
  {
   "cell_type": "code",
   "execution_count": null,
   "id": "d905a39c",
   "metadata": {},
   "outputs": [],
   "source": [
    "lst = \"K u m a r R a J A m o n i\".split() #str - list\n",
    "print(lst)\n",
    "\n",
    "lst.sort()\n",
    "\n",
    "print(lst)\n",
    "\n",
    "##ascii\n",
    "\n",
    "print(ord(\"a\") , ord(\"A\"))"
   ]
  },
  {
   "cell_type": "code",
   "execution_count": null,
   "id": "7d12034d",
   "metadata": {},
   "outputs": [],
   "source": [
    "nums = [1,0,293,2983,262,2982]\n",
    "nums.sort() #small - big\n",
    "\n",
    "print(nums)\n",
    "\n",
    "nums.sort(reverse=True) #True - Desc | False -- Asec\n",
    "\n",
    "print(nums)"
   ]
  },
  {
   "cell_type": "code",
   "execution_count": null,
   "id": "e38922e8",
   "metadata": {},
   "outputs": [],
   "source": [
    "print(lst)"
   ]
  },
  {
   "cell_type": "code",
   "execution_count": null,
   "id": "b8a0910a",
   "metadata": {},
   "outputs": [],
   "source": [
    "# count() - display the occurence of a data element.\n",
    "\n",
    "print(lst)\n",
    "\n",
    "print(lst.count(\"a\"))\n",
    "\n",
    "print(lst.count(\"z\"))"
   ]
  },
  {
   "cell_type": "code",
   "execution_count": null,
   "id": "77648bde",
   "metadata": {},
   "outputs": [],
   "source": [
    "# index() - return the index number of a data element.\n",
    "\n",
    "print(lst.index(\"a\")) #return the fist index"
   ]
  },
  {
   "cell_type": "code",
   "execution_count": null,
   "id": "d39cc438",
   "metadata": {},
   "outputs": [],
   "source": [
    "print(lst.index(\"z\"))"
   ]
  },
  {
   "cell_type": "code",
   "execution_count": null,
   "id": "dcbfbd4b",
   "metadata": {},
   "outputs": [],
   "source": [
    "# clear()\n",
    "nums = [10,203,40]\n",
    "print(nums)\n",
    "nums.clear()\n",
    "print(nums)"
   ]
  },
  {
   "cell_type": "code",
   "execution_count": null,
   "id": "26f80e11",
   "metadata": {},
   "outputs": [],
   "source": [
    "nums = [10,203,40]\n",
    "print(nums)\n",
    "del nums\n",
    "print(nums)"
   ]
  },
  {
   "cell_type": "code",
   "execution_count": null,
   "id": "cf015602",
   "metadata": {},
   "outputs": [],
   "source": [
    "# copy()\n",
    "\n",
    "copyVar = countries.copy()\n",
    "\n",
    "print(copyVar)\n",
    "\n",
    "print(id(copyVar) , id(countries))"
   ]
  },
  {
   "cell_type": "code",
   "execution_count": null,
   "id": "3482ffeb",
   "metadata": {},
   "outputs": [],
   "source": [
    "copyVar[0] = \"SouthAfrica\"\n",
    "\n",
    "print(copyVar)\n",
    "print(countries)"
   ]
  },
  {
   "cell_type": "code",
   "execution_count": null,
   "id": "9588b244",
   "metadata": {},
   "outputs": [],
   "source": [
    "names = [\"Meena\",\"Avinash\",\"Srikanth\",\"Prakash\"]\n",
    "\n",
    "students = names #alias copying\n",
    "\n",
    "print(id(names) , id(students))\n",
    "\n",
    "students[0] = \"Kumar\"\n",
    "\n",
    "print(names , students)\n"
   ]
  },
  {
   "cell_type": "code",
   "execution_count": null,
   "id": "4e7772b7",
   "metadata": {},
   "outputs": [],
   "source": []
  },
  {
   "cell_type": "code",
   "execution_count": null,
   "id": "de1d3ba0",
   "metadata": {},
   "outputs": [],
   "source": []
  },
  {
   "cell_type": "markdown",
   "id": "97e8bf76",
   "metadata": {},
   "source": [
    "### Tuple \n",
    "    - It's also collections and sequence & ordered data types\n",
    "    - stores multiple items in a single variable.\n",
    "    - declared with (ele1,ele2 ,ele3...)\n",
    "    - INDEXING \n",
    "        - +VE : 0 - N-1\n",
    "        - -VE : -1 - -N\n",
    "    - Immutable : changes not allowed at indexing levels "
   ]
  },
  {
   "cell_type": "code",
   "execution_count": null,
   "id": "c3a5a4e3",
   "metadata": {},
   "outputs": [],
   "source": [
    "planets = ('Earth', 'Jupiter', 'Neptune', 'Mars', 'Venus', 'Saturn', 'Uranus', 'Mercury') # planets"
   ]
  },
  {
   "cell_type": "code",
   "execution_count": null,
   "id": "976c4eb4",
   "metadata": {},
   "outputs": [],
   "source": [
    "print(planets , type(planets))"
   ]
  },
  {
   "cell_type": "code",
   "execution_count": null,
   "id": "bfe8ea8b",
   "metadata": {},
   "outputs": [],
   "source": [
    "print(planets[2])"
   ]
  },
  {
   "cell_type": "code",
   "execution_count": null,
   "id": "cdd6f09d",
   "metadata": {},
   "outputs": [],
   "source": [
    "print(planets[-1])"
   ]
  },
  {
   "cell_type": "code",
   "execution_count": null,
   "id": "376af8f7",
   "metadata": {},
   "outputs": [],
   "source": [
    "print(planets[-100])"
   ]
  },
  {
   "cell_type": "code",
   "execution_count": null,
   "id": "1bba67fa",
   "metadata": {},
   "outputs": [],
   "source": [
    "planets[1] = \"Pluto\" #error"
   ]
  },
  {
   "cell_type": "markdown",
   "id": "8e6e202b",
   "metadata": {},
   "source": [
    "### tuple methods\n",
    "    - count()\n",
    "    - index()"
   ]
  },
  {
   "cell_type": "code",
   "execution_count": null,
   "id": "9a336f17",
   "metadata": {},
   "outputs": [],
   "source": [
    "planets.count(\"Mars\")"
   ]
  },
  {
   "cell_type": "code",
   "execution_count": null,
   "id": "a7ccf627",
   "metadata": {},
   "outputs": [],
   "source": [
    "planets.count(\"Aplha\")"
   ]
  },
  {
   "cell_type": "code",
   "execution_count": null,
   "id": "6e979433",
   "metadata": {},
   "outputs": [],
   "source": [
    "planets.index(\"Earth\")"
   ]
  },
  {
   "cell_type": "code",
   "execution_count": null,
   "id": "5e8f5776",
   "metadata": {},
   "outputs": [],
   "source": [
    "planets.index(\"Pluto\")"
   ]
  },
  {
   "cell_type": "code",
   "execution_count": null,
   "id": "fcd3b67a",
   "metadata": {},
   "outputs": [],
   "source": []
  },
  {
   "cell_type": "code",
   "execution_count": null,
   "id": "e4a52947",
   "metadata": {},
   "outputs": [],
   "source": []
  },
  {
   "cell_type": "markdown",
   "id": "ad2e0bab",
   "metadata": {},
   "source": [
    "## Set \n",
    "    - It's Un-Ordered & Un-Indexed.\n",
    "    - Doesn't store the duplicates.\n",
    "    - declared with {}\n",
    "    - No Indexing because of No Ordering.\n",
    "    - Mutable\n",
    "    "
   ]
  },
  {
   "cell_type": "code",
   "execution_count": null,
   "id": "ed8cd51c",
   "metadata": {},
   "outputs": [],
   "source": [
    "teams = {\"Ind\",\"Aus\",\"Eng\",\"Bang\",\"Pak\",\"Sa\",\"Sa\",\"Aus\"}\n",
    "print(teams)"
   ]
  },
  {
   "cell_type": "code",
   "execution_count": null,
   "id": "e963bbdb",
   "metadata": {},
   "outputs": [],
   "source": [
    "print(teams[0]) #error set' object is not subscriptable"
   ]
  },
  {
   "cell_type": "markdown",
   "id": "6f2c29e5",
   "metadata": {},
   "source": [
    "#### set methods\n",
    "        'add', 'clear', 'copy', 'difference', 'difference_update', \n",
    "        'discard', 'intersection', 'intersection_update', 'isdisjoint', \n",
    "        'issubset', 'issuperset', 'pop', 'remove', 'symmetric_difference',\n",
    "        'symmetric_difference_update', 'union', 'update'"
   ]
  },
  {
   "cell_type": "code",
   "execution_count": null,
   "id": "8daf9c0a",
   "metadata": {},
   "outputs": [],
   "source": [
    "print(dir(set()))"
   ]
  },
  {
   "cell_type": "code",
   "execution_count": null,
   "id": "a6b75d39",
   "metadata": {},
   "outputs": [],
   "source": [
    "print(teams)"
   ]
  },
  {
   "cell_type": "code",
   "execution_count": null,
   "id": "0be036db",
   "metadata": {},
   "outputs": [],
   "source": [
    "teams.add(\"Zimb\") #add data to the set."
   ]
  },
  {
   "cell_type": "code",
   "execution_count": null,
   "id": "41361057",
   "metadata": {},
   "outputs": [],
   "source": [
    "print(teams)"
   ]
  },
  {
   "cell_type": "code",
   "execution_count": null,
   "id": "1d2ceba6",
   "metadata": {},
   "outputs": [],
   "source": [
    "teams.discard(\"USA\") #no element no  error \n",
    "print(teams)"
   ]
  },
  {
   "cell_type": "code",
   "execution_count": null,
   "id": "32c8e538",
   "metadata": {},
   "outputs": [],
   "source": [
    "teams.remove(\"Bang\") #no element will throw error\n",
    "print(teams)"
   ]
  },
  {
   "cell_type": "code",
   "execution_count": null,
   "id": "c7c82b64",
   "metadata": {},
   "outputs": [],
   "source": [
    "teams.remove(\"USA\") #raise Error if not a element\n",
    "print(teams)"
   ]
  },
  {
   "cell_type": "code",
   "execution_count": null,
   "id": "5ca28785",
   "metadata": {},
   "outputs": [],
   "source": [
    "x = {\"apple\",\"google\",\"amazon\"}\n",
    "y = {\"netflix\",\"google\",\"apple\"}\n",
    "\n",
    "print(x.difference(y))"
   ]
  },
  {
   "cell_type": "code",
   "execution_count": null,
   "id": "8b9d0fea",
   "metadata": {},
   "outputs": [],
   "source": [
    "#difference()\n",
    "x = {\"apple\",\"google\",\"amazon\"}\n",
    "y = {\"netflix\",\"google\",\"apple\"}\n",
    "\n",
    "print(y.difference(x))"
   ]
  },
  {
   "cell_type": "code",
   "execution_count": null,
   "id": "1f8a3e26",
   "metadata": {},
   "outputs": [],
   "source": [
    "# union()\n",
    "\n",
    "print(x.union(y))\n",
    "\n",
    "print(x | y) #pipe symbol"
   ]
  },
  {
   "cell_type": "code",
   "execution_count": null,
   "id": "2fe1ef16",
   "metadata": {},
   "outputs": [],
   "source": [
    "# intersection\n",
    "print(x.intersection(y)) #common elements"
   ]
  },
  {
   "cell_type": "code",
   "execution_count": null,
   "id": "7c58c3f2",
   "metadata": {},
   "outputs": [],
   "source": [
    "print(x)"
   ]
  },
  {
   "cell_type": "code",
   "execution_count": null,
   "id": "b8ad7247",
   "metadata": {},
   "outputs": [],
   "source": [
    "print(x.pop())"
   ]
  },
  {
   "cell_type": "code",
   "execution_count": null,
   "id": "124fa23b",
   "metadata": {},
   "outputs": [],
   "source": [
    "{}.pop()\n",
    "[].pop()\n",
    "{dict}.pop()\n",
    "\n",
    "# raise a KeyError"
   ]
  },
  {
   "cell_type": "code",
   "execution_count": null,
   "id": "b4f26e0e",
   "metadata": {},
   "outputs": [],
   "source": [
    "a = {\"iphone12\",\"iphone13\",\"iphone14\"}\n",
    "b = {\"ipad9gen\",\"ipadpro\",\"microsoftSurface\",\"iphone12\"}\n",
    "\n",
    "print(a.isdisjoint(b))\n"
   ]
  },
  {
   "cell_type": "code",
   "execution_count": null,
   "id": "6f678509",
   "metadata": {},
   "outputs": [],
   "source": [
    "c = {\"iphone13\",\"iphone14\",\"ip14pro\"}\n",
    "\n",
    "print(c.issubset(a))"
   ]
  },
  {
   "cell_type": "code",
   "execution_count": null,
   "id": "2fa9b6f2",
   "metadata": {},
   "outputs": [],
   "source": []
  },
  {
   "cell_type": "code",
   "execution_count": null,
   "id": "dc48c922",
   "metadata": {},
   "outputs": [],
   "source": [
    "# remove duplicate elements\n",
    "lst = [10,20,30,20,20,30,20]\n",
    "\n",
    "print(len(lst))"
   ]
  },
  {
   "cell_type": "code",
   "execution_count": null,
   "id": "96110a33",
   "metadata": {},
   "outputs": [],
   "source": [
    "NoDupList = set(lst) #list -- set convertion\n",
    "\n",
    "print(NoDupList , len(NoDupList))"
   ]
  },
  {
   "cell_type": "code",
   "execution_count": null,
   "id": "b9cdc0bc",
   "metadata": {},
   "outputs": [],
   "source": []
  },
  {
   "cell_type": "code",
   "execution_count": null,
   "id": "3397b7f1",
   "metadata": {},
   "outputs": [],
   "source": [
    "seta = {10,20.2,\"kumar\",True,10+2j,None}\n",
    "\n",
    "print(seta)"
   ]
  },
  {
   "cell_type": "code",
   "execution_count": null,
   "id": "ef6bf604",
   "metadata": {},
   "outputs": [],
   "source": []
  },
  {
   "cell_type": "code",
   "execution_count": null,
   "id": "793ea82c",
   "metadata": {},
   "outputs": [],
   "source": [
    "\n",
    "studentName = []\n",
    "studentName.append(input(\"enter student-name\"))\n",
    "studentName.append(input(\"enter student-name\"))\n",
    "studentName.append(input(\"enter student-name\"))\n",
    "studentName.append(input(\"enter student-name\"))\n",
    "print(studentName)"
   ]
  },
  {
   "cell_type": "code",
   "execution_count": null,
   "id": "f1c1c3c4",
   "metadata": {},
   "outputs": [],
   "source": [
    "studentName.insert(0,input(\"enter name\"))"
   ]
  },
  {
   "cell_type": "code",
   "execution_count": null,
   "id": "85f75ef4",
   "metadata": {},
   "outputs": [],
   "source": [
    "print(studentName)"
   ]
  },
  {
   "cell_type": "code",
   "execution_count": null,
   "id": "6495424d",
   "metadata": {},
   "outputs": [],
   "source": [
    "studentName.extend([\"John\",\"Ganesh\"])\n",
    "print(studentName)"
   ]
  },
  {
   "cell_type": "code",
   "execution_count": null,
   "id": "fd159b19",
   "metadata": {},
   "outputs": [],
   "source": []
  },
  {
   "cell_type": "code",
   "execution_count": null,
   "id": "a8f90d50",
   "metadata": {},
   "outputs": [],
   "source": []
  },
  {
   "cell_type": "markdown",
   "id": "55bbc8ae",
   "metadata": {},
   "source": [
    "### Dictionary \n",
    "        - Based on key:value\n",
    "\t\t- Keys should be immutable and unique\n",
    "\t\t\t:: Immutable \t\n",
    "\t\t\t\t\t- str\n",
    "\t\t\t\t\t- tuple \n",
    "\t\t\t\t\t- int , float , complex , boolean\n",
    "        - Indexing is based on Keys\n",
    "\t\t##methods \n",
    "\t\t\t- keys()\n",
    "\t\t\t- values()\n",
    "\t\t\t- items()\n",
    "\t\t\t- pop()\n",
    "\t\t\t- popitem()\n",
    "\t\t\t- update()\n",
    "\t\t\t- get()\n",
    "            \n",
    "        syntax:\n",
    "            varName = {\n",
    "                k1:v1,\n",
    "                k2:v2,\n",
    "                ...\n",
    "                ...\n",
    "                \n",
    "                kn:vn\n",
    "                }"
   ]
  },
  {
   "cell_type": "code",
   "execution_count": null,
   "id": "f1a98a16",
   "metadata": {},
   "outputs": [],
   "source": [
    "team = {\n",
    "    'cricketTeamName' : 'India',\n",
    "    'Captain' : 'RS',\n",
    "    'country' : 'India', \n",
    "    'year' : 2022, \n",
    "    'is_top20' : True,\n",
    "    'Players' : ['Virat', 'Rohit', 'Bhu', 'Python'],\n",
    "    'Captain' : \"Virat\"\n",
    "    }\n",
    "\n",
    "print(team , type(team))"
   ]
  },
  {
   "cell_type": "code",
   "execution_count": null,
   "id": "ea83c4a7",
   "metadata": {},
   "outputs": [],
   "source": [
    "\n",
    "print(type(10))\n",
    "\n",
    "print(type(\"kumar\"))\n",
    "\n",
    "print(type([]))\n",
    "\n",
    "print(type( () ))\n",
    "\n",
    "\n",
    "print(type(set()))\n",
    "\n",
    "print(type({}))\n"
   ]
  },
  {
   "cell_type": "code",
   "execution_count": null,
   "id": "dc9d0183",
   "metadata": {},
   "outputs": [],
   "source": [
    "print(team.keys())"
   ]
  },
  {
   "cell_type": "code",
   "execution_count": null,
   "id": "7d64a248",
   "metadata": {},
   "outputs": [],
   "source": [
    "print(team['country'])"
   ]
  },
  {
   "cell_type": "code",
   "execution_count": null,
   "id": "fc0aabc4",
   "metadata": {},
   "outputs": [],
   "source": [
    "print(team[\"captain\"])"
   ]
  },
  {
   "cell_type": "code",
   "execution_count": null,
   "id": "64b8294e",
   "metadata": {},
   "outputs": [],
   "source": [
    "print(team[\"Players\"])"
   ]
  },
  {
   "cell_type": "code",
   "execution_count": null,
   "id": "00af82e8",
   "metadata": {},
   "outputs": [],
   "source": [
    "print(team['year'])"
   ]
  },
  {
   "cell_type": "markdown",
   "id": "16eda400",
   "metadata": {},
   "source": [
    "### methods "
   ]
  },
  {
   "cell_type": "code",
   "execution_count": null,
   "id": "f1167371",
   "metadata": {},
   "outputs": [],
   "source": [
    "#get()\n",
    "print(team.get('Captain'))"
   ]
  },
  {
   "cell_type": "code",
   "execution_count": null,
   "id": "46d3d7d0",
   "metadata": {},
   "outputs": [],
   "source": [
    "print(team[\"score\"]) #fastest"
   ]
  },
  {
   "cell_type": "code",
   "execution_count": null,
   "id": "15e1ea46",
   "metadata": {},
   "outputs": [],
   "source": [
    "print(team.get(\"year\",\"Key is not found\"))"
   ]
  },
  {
   "cell_type": "code",
   "execution_count": null,
   "id": "d940e260",
   "metadata": {},
   "outputs": [],
   "source": [
    "#keys()\n",
    "\n",
    "print(team.keys())"
   ]
  },
  {
   "cell_type": "code",
   "execution_count": null,
   "id": "be4acbf2",
   "metadata": {},
   "outputs": [],
   "source": [
    "#values()\n",
    "print(team.values())"
   ]
  },
  {
   "cell_type": "code",
   "execution_count": null,
   "id": "0249aabb",
   "metadata": {},
   "outputs": [],
   "source": [
    "#items() --[(K1,V1),(K2,V2)....] list of tuples\n",
    "\n",
    "\n",
    "print(team.items())"
   ]
  },
  {
   "cell_type": "code",
   "execution_count": null,
   "id": "8c62a453",
   "metadata": {},
   "outputs": [],
   "source": [
    "print(team)"
   ]
  },
  {
   "cell_type": "code",
   "execution_count": null,
   "id": "663b64d0",
   "metadata": {},
   "outputs": [],
   "source": [
    "team.update({\"year\":\"2023\"})\n",
    "\n",
    "print(team)"
   ]
  },
  {
   "cell_type": "code",
   "execution_count": null,
   "id": "cfd39a9c",
   "metadata": {},
   "outputs": [],
   "source": [
    "team.update({\"score\":\"1000\"})\n",
    "\n",
    "print(team)"
   ]
  },
  {
   "cell_type": "code",
   "execution_count": null,
   "id": "466bd4c2",
   "metadata": {},
   "outputs": [],
   "source": [
    "print(team)"
   ]
  },
  {
   "cell_type": "code",
   "execution_count": null,
   "id": "ec85d884",
   "metadata": {},
   "outputs": [],
   "source": [
    "res = team.pop(\"year\")\n",
    "\n",
    "print(res)\n"
   ]
  },
  {
   "cell_type": "code",
   "execution_count": null,
   "id": "094ba291",
   "metadata": {},
   "outputs": [],
   "source": [
    "print(team)"
   ]
  },
  {
   "cell_type": "code",
   "execution_count": null,
   "id": "0b6aa177",
   "metadata": {},
   "outputs": [],
   "source": [
    "print(team.popitem()) #always remove last (k,v)"
   ]
  },
  {
   "cell_type": "code",
   "execution_count": null,
   "id": "e76517be",
   "metadata": {},
   "outputs": [],
   "source": []
  },
  {
   "cell_type": "code",
   "execution_count": null,
   "id": "4167d07a",
   "metadata": {},
   "outputs": [],
   "source": [
    "# get()\n",
    "# items()\n",
    "# keys()\n",
    "# values()\n",
    "# pop()\n",
    "# popitem()\n",
    "# update()\n",
    "\n",
    "\n",
    "# NOTE:\n",
    "    - U can't access invalied key --> Key Error.\n",
    "    - U can't pop on invalid key --> Key Error.\n",
    "    - U can't pop on empty dictionary\n",
    "    - When you try to update invalid key --> it will create a new entry"
   ]
  },
  {
   "cell_type": "code",
   "execution_count": null,
   "id": "5567228c",
   "metadata": {},
   "outputs": [],
   "source": [
    "# LIST \n",
    "lst = [] \n",
    "\n",
    "# add india team name  and take input from keyboard.\n",
    "\n",
    "lst.append(input(\"Enter the team Name\"))\n",
    "\n",
    "# add aus at 0 location\n",
    "lst.insert(0,\"AUS\")\n",
    "\n",
    "# add ENG , BAN at once at the end of the list\n",
    "lst.extend([\"ENG\",\"BAN\"])\n",
    "\n",
    "\n",
    "# sort the data \n",
    "\n",
    "lst.sort()\n",
    "\n",
    "lst.reverse()\n",
    "\n",
    "print(lst)\n",
    "\n",
    "\n",
    "print(\"index of india is\", lst.index(\"AUS\"))\n"
   ]
  },
  {
   "cell_type": "code",
   "execution_count": null,
   "id": "c0b23103",
   "metadata": {},
   "outputs": [],
   "source": [
    "planets = (\"Earth\",\"Mars\",\"Jupiter\")\n",
    "\n",
    "print(planets.count(\"Venues\"))\n",
    "\n",
    "print(planets.index(\"Mars\"))"
   ]
  },
  {
   "cell_type": "code",
   "execution_count": null,
   "id": "de44a866",
   "metadata": {},
   "outputs": [],
   "source": [
    "names = {\"monica\",\"srinivas\"} #mutable\n",
    "\n",
    "names.add(\"kumar\")\n",
    "\n",
    "print(names)"
   ]
  },
  {
   "cell_type": "code",
   "execution_count": null,
   "id": "70bad71c",
   "metadata": {},
   "outputs": [],
   "source": [
    "studentName = {\n",
    "    \"name\" :\"Alex\",\n",
    "    \"branch\" : \"IT\",\n",
    "    \"college\" : \"ABC College\",\n",
    "    \"fee\" : 19283.3893,\n",
    "    \"isStudent\" : True,\n",
    "    \"skills\" : [\"Web Dev\",\"Java\",\"Python\"]\n",
    "    \n",
    "}\n",
    "\n",
    "print(studentName)"
   ]
  },
  {
   "cell_type": "code",
   "execution_count": null,
   "id": "ecabc517",
   "metadata": {},
   "outputs": [],
   "source": [
    "print(studentName[\"skills\"])"
   ]
  },
  {
   "cell_type": "code",
   "execution_count": null,
   "id": "1205b8ea",
   "metadata": {},
   "outputs": [],
   "source": [
    "print(studentName[\"name\"])"
   ]
  },
  {
   "cell_type": "code",
   "execution_count": null,
   "id": "f854820a",
   "metadata": {},
   "outputs": [],
   "source": [
    "print(studentName.get(\"shijkds\",\"key not found\"))"
   ]
  },
  {
   "cell_type": "code",
   "execution_count": null,
   "id": "773ddd36",
   "metadata": {},
   "outputs": [],
   "source": [
    "print(studentName[\"country\"])"
   ]
  },
  {
   "cell_type": "code",
   "execution_count": null,
   "id": "244b3689",
   "metadata": {},
   "outputs": [],
   "source": []
  },
  {
   "cell_type": "code",
   "execution_count": null,
   "id": "2c6e044a",
   "metadata": {},
   "outputs": [],
   "source": []
  },
  {
   "cell_type": "code",
   "execution_count": null,
   "id": "9efff1f6",
   "metadata": {},
   "outputs": [],
   "source": [
    "print()\n",
    "input()\n",
    "int()\n"
   ]
  },
  {
   "cell_type": "code",
   "execution_count": null,
   "id": "6d5b9e88",
   "metadata": {},
   "outputs": [],
   "source": [
    "name = \"Srinivas\"\n",
    "print(name)"
   ]
  },
  {
   "cell_type": "code",
   "execution_count": null,
   "id": "521f038c",
   "metadata": {},
   "outputs": [],
   "source": [
    "name = \"శ్రీనివాస్\"\n",
    "print(name)\n",
    "print(len(name))\n",
    "print(name[0])"
   ]
  },
  {
   "cell_type": "code",
   "execution_count": null,
   "id": "fc7765e2",
   "metadata": {},
   "outputs": [],
   "source": [
    "print(ord(name[1]))"
   ]
  },
  {
   "cell_type": "code",
   "execution_count": null,
   "id": "d9f4b6c5",
   "metadata": {},
   "outputs": [],
   "source": [
    "name2 = \"श्रीनिवास\"\n",
    "print(name2)"
   ]
  },
  {
   "cell_type": "code",
   "execution_count": null,
   "id": "bbf110f3",
   "metadata": {},
   "outputs": [],
   "source": [
    "print(ord(name2[0]) , len(name2))"
   ]
  },
  {
   "cell_type": "code",
   "execution_count": null,
   "id": "ab07c5bb",
   "metadata": {},
   "outputs": [],
   "source": []
  },
  {
   "cell_type": "markdown",
   "id": "19b3f03c",
   "metadata": {},
   "source": [
    "## prebuild-functions\n",
    "\n",
    "- In Python we have lots of built-in functions.\n",
    "- Built-in functions are globally available for your use that mean you can make use of the built-in functions without importing or configuring.\n",
    " > Some of the most commonly used Python built-in functions are the following: \n",
    "    -  print(), len(), type(), int(), float(), str(), input(), list(), dict(), min(), max(), sum(), sorted(), open(), file(), help(), and dir().\n",
    "    \n",
    "  <img src = \"https://s4scoding.com/images/python-built-in-functions.jpg\" width= \"700\" height=\"800\">"
   ]
  },
  {
   "cell_type": "code",
   "execution_count": null,
   "id": "aa5918ad",
   "metadata": {},
   "outputs": [],
   "source": [
    "lst = [10,203,20]  \n",
    "\n",
    "# print(dir(lst))\n",
    "\n",
    "print(type(lst))"
   ]
  },
  {
   "cell_type": "code",
   "execution_count": null,
   "id": "a0ddca4e",
   "metadata": {},
   "outputs": [],
   "source": [
    "print(help(lst))"
   ]
  },
  {
   "cell_type": "code",
   "execution_count": null,
   "id": "8b2eba8a",
   "metadata": {},
   "outputs": [],
   "source": [
    "##type()  id()\n",
    "\n",
    "name = \"Kumar\"\n",
    "\n",
    "print(type(name))\n",
    "\n",
    "age = 10\n",
    "\n",
    "print(type(age))\n",
    "\n",
    "person = {\"name\":\"Ram\",\"course\":\"Python\",\"collge\":\"ABC\"}\n",
    "\n",
    "print(type(person))\n",
    "\n",
    "\n",
    "print(id(name) , id(age) , id(person))\n"
   ]
  },
  {
   "cell_type": "code",
   "execution_count": null,
   "id": "d5fb2404",
   "metadata": {},
   "outputs": [],
   "source": []
  },
  {
   "cell_type": "code",
   "execution_count": null,
   "id": "e9de298d",
   "metadata": {},
   "outputs": [],
   "source": [
    "print(type(\"AK\"))\n",
    "\n",
    "print(type(10))\n",
    "\n",
    "print(type(\"10\"))\n",
    "\n",
    "print(type(10.378683))\n",
    "\n",
    "print(type(True))\n",
    "\n",
    "print(type([10,203,30]))\n",
    "\n",
    "print(type((10,203,30)))\n",
    "      \n",
    "print(type({10,203,30,30}))"
   ]
  },
  {
   "cell_type": "code",
   "execution_count": null,
   "id": "03239f2b",
   "metadata": {},
   "outputs": [],
   "source": [
    "a = 10,20,304,40\n",
    "print(type(a))"
   ]
  },
  {
   "cell_type": "code",
   "execution_count": null,
   "id": "03139b14",
   "metadata": {},
   "outputs": [],
   "source": []
  },
  {
   "cell_type": "code",
   "execution_count": null,
   "id": "f22b8e84",
   "metadata": {},
   "outputs": [],
   "source": [
    "#dir()\n",
    "print(dir([]))"
   ]
  },
  {
   "cell_type": "code",
   "execution_count": null,
   "id": "844c9abd",
   "metadata": {},
   "outputs": [],
   "source": [
    "print(dir(\"\"))"
   ]
  },
  {
   "cell_type": "code",
   "execution_count": null,
   "id": "765c712b",
   "metadata": {},
   "outputs": [],
   "source": [
    "#  sum()\n",
    "\n",
    "marks = [10,20,30]\n",
    "\n",
    "print(sum(marks))"
   ]
  },
  {
   "cell_type": "code",
   "execution_count": null,
   "id": "699478e2",
   "metadata": {},
   "outputs": [],
   "source": []
  },
  {
   "cell_type": "code",
   "execution_count": null,
   "id": "d71502c8",
   "metadata": {},
   "outputs": [],
   "source": [
    "#max() min()\n",
    "\n",
    "print(max(marks))\n",
    "\n",
    "print(min(marks))"
   ]
  },
  {
   "cell_type": "code",
   "execution_count": null,
   "id": "06a2ae7f",
   "metadata": {},
   "outputs": [],
   "source": []
  },
  {
   "cell_type": "code",
   "execution_count": null,
   "id": "1e1bd7db",
   "metadata": {},
   "outputs": [],
   "source": [
    "#len() --> list tuple str set dict\n",
    "\n",
    "print(len(marks))\n",
    "\n",
    "print(len(\"Kumar       R\"))\n",
    "\n",
    "\n",
    "print(len(person))\n",
    "\n",
    "# print(len(10)) #error."
   ]
  },
  {
   "cell_type": "code",
   "execution_count": null,
   "id": "03815347",
   "metadata": {},
   "outputs": [],
   "source": [
    "print(a)"
   ]
  },
  {
   "cell_type": "code",
   "execution_count": null,
   "id": "744220e3",
   "metadata": {},
   "outputs": [],
   "source": [
    "print(ord(\"H\"),ord(\"i\"))"
   ]
  },
  {
   "cell_type": "code",
   "execution_count": null,
   "id": "69fd312a",
   "metadata": {},
   "outputs": [],
   "source": [
    "print(chr(97) , chr(105))"
   ]
  },
  {
   "cell_type": "code",
   "execution_count": null,
   "id": "eb5d70c6",
   "metadata": {},
   "outputs": [],
   "source": []
  },
  {
   "cell_type": "code",
   "execution_count": null,
   "id": "5be7d870",
   "metadata": {},
   "outputs": [],
   "source": [
    "a = int(input()) #str --> int\n",
    "b = int(input())\n",
    "print(a+b)"
   ]
  },
  {
   "cell_type": "code",
   "execution_count": null,
   "id": "57921af0",
   "metadata": {},
   "outputs": [],
   "source": []
  },
  {
   "cell_type": "code",
   "execution_count": null,
   "id": "98f4b19e",
   "metadata": {},
   "outputs": [],
   "source": []
  },
  {
   "cell_type": "markdown",
   "id": "395190c6",
   "metadata": {},
   "source": [
    "## Range\n",
    "    - generate a sequence of integer values \n",
    "    - mainly used in for-loops\n",
    "    - Has 3 params \n",
    "            - Start : 0\n",
    "            - Stop : LEN-1\n",
    "            - Step : 1\n",
    "    - range() method gives a object , cast to list() or tuple() for displaying the output.\n",
    "    - stop param is mandatory & always excluded.\n",
    "    "
   ]
  },
  {
   "cell_type": "code",
   "execution_count": null,
   "id": "221f9e53",
   "metadata": {},
   "outputs": [],
   "source": [
    "# range(start,stop,step)"
   ]
  },
  {
   "cell_type": "code",
   "execution_count": null,
   "id": "51dad0ba",
   "metadata": {},
   "outputs": [],
   "source": [
    "a = range(1,10,1) #1,2 , 3 ...... 9"
   ]
  },
  {
   "cell_type": "code",
   "execution_count": null,
   "id": "8fcc44ac",
   "metadata": {},
   "outputs": [],
   "source": [
    "print(list(a))"
   ]
  },
  {
   "cell_type": "code",
   "execution_count": null,
   "id": "1bc23120",
   "metadata": {},
   "outputs": [],
   "source": [
    "print(range(1,5,1))\n"
   ]
  },
  {
   "cell_type": "code",
   "execution_count": null,
   "id": "0a69988c",
   "metadata": {},
   "outputs": [],
   "source": [
    "a = tuple(range(0,5,1))\n",
    "\n",
    "print(a)"
   ]
  },
  {
   "cell_type": "code",
   "execution_count": null,
   "id": "c69b2f67",
   "metadata": {},
   "outputs": [],
   "source": [
    "a = list(range(1,10,2))\n",
    "\n",
    "print(a)"
   ]
  },
  {
   "cell_type": "code",
   "execution_count": null,
   "id": "9274bcc2",
   "metadata": {},
   "outputs": [],
   "source": [
    "a = list(range(-1,-5,-1))\n",
    "\n",
    "print(a)"
   ]
  },
  {
   "cell_type": "code",
   "execution_count": null,
   "id": "38115b01",
   "metadata": {},
   "outputs": [],
   "source": [
    "\n",
    "\n",
    "a = list(range(5))\n",
    "\n",
    "\n",
    "print(a)"
   ]
  },
  {
   "cell_type": "code",
   "execution_count": null,
   "id": "0efb48c0",
   "metadata": {},
   "outputs": [],
   "source": []
  },
  {
   "cell_type": "code",
   "execution_count": null,
   "id": "a7551bfd",
   "metadata": {},
   "outputs": [],
   "source": [
    "a = list(range(1,2))\n",
    "\n",
    "print(a)"
   ]
  },
  {
   "cell_type": "code",
   "execution_count": null,
   "id": "63e40eb6",
   "metadata": {},
   "outputs": [],
   "source": [
    "a = list(range(0,20,2))\n",
    "\n",
    "print(a)"
   ]
  },
  {
   "cell_type": "code",
   "execution_count": null,
   "id": "46f4f669",
   "metadata": {},
   "outputs": [],
   "source": [
    "a = list(range(1,20,2))\n",
    "\n",
    "print(a)"
   ]
  },
  {
   "cell_type": "code",
   "execution_count": null,
   "id": "ec559d62",
   "metadata": {},
   "outputs": [],
   "source": []
  },
  {
   "cell_type": "code",
   "execution_count": null,
   "id": "fa8a5b95",
   "metadata": {},
   "outputs": [],
   "source": [
    "print(help(\"\"))"
   ]
  },
  {
   "cell_type": "code",
   "execution_count": null,
   "id": "eaae8ae3",
   "metadata": {},
   "outputs": [],
   "source": []
  },
  {
   "cell_type": "code",
   "execution_count": null,
   "id": "20904f97",
   "metadata": {},
   "outputs": [],
   "source": [
    "data = 10192020002800928002002829080\n",
    "\n",
    "print(type(data))\n",
    "\n",
    "data = str(data) #int - str\n",
    "\n",
    "print(type(data))\n",
    "\n",
    "print(data.count(\"0\"))"
   ]
  },
  {
   "cell_type": "code",
   "execution_count": null,
   "id": "bee30e5d",
   "metadata": {},
   "outputs": [],
   "source": []
  },
  {
   "cell_type": "code",
   "execution_count": null,
   "id": "e12224af",
   "metadata": {},
   "outputs": [],
   "source": []
  },
  {
   "cell_type": "markdown",
   "id": "3a7d9a05",
   "metadata": {},
   "source": [
    "### Casting\n",
    "    - Converting one data type to another data type. \n",
    "    - We use int(), float(), str(), list(), set() \n",
    "    - When we do arithmetic operations string numbers should be first converted to int or float otherwise it will return an error. \n",
    "    - If we concatenate a number with a string, the number should be first converted to a string. "
   ]
  },
  {
   "cell_type": "code",
   "execution_count": null,
   "id": "62a0d61d",
   "metadata": {},
   "outputs": [],
   "source": [
    "a = input()#reads a string type\n",
    "b = input()\n",
    "print(a+b) #string concat or merging"
   ]
  },
  {
   "cell_type": "code",
   "execution_count": null,
   "id": "b564f256",
   "metadata": {},
   "outputs": [],
   "source": [
    "a = float(input()) #str - float\n",
    "b = int(input()) # str - int\n",
    "print(a+b)"
   ]
  },
  {
   "cell_type": "code",
   "execution_count": null,
   "id": "f3466eb5",
   "metadata": {},
   "outputs": [],
   "source": [
    "name = \"Srinivas\"\n",
    "print(name)\n",
    "print(\"Iam ,\" , name)\n",
    "print(\"my name is :  \", name)"
   ]
  },
  {
   "cell_type": "code",
   "execution_count": null,
   "id": "2dcfac40",
   "metadata": {},
   "outputs": [],
   "source": [
    "# int to float\n",
    "num_int = 10\n",
    "print('num_int',num_int)         # 10\n",
    "num_float = float(num_int)\n",
    "print('num_float:', num_float)   # 10.0\n",
    "\n",
    "# float to int\n",
    "gravity = 9.81\n",
    "print(int(gravity))             # 9\n",
    "\n",
    "# int to str\n",
    "num_int = 10\n",
    "print(num_int)                  # 10\n",
    "num_str = str(num_int)\n",
    "print(num_str)                  # '10'\n",
    "\n",
    "# str to int or float\n",
    "num_str = '10'\n",
    "print('num_int', int(num_str))      # 10\n",
    "print('num_float', float(num_str))  # 10.0\n",
    "\n",
    "# str to list\n",
    "first_name = 'Kumar'\n",
    "print(first_name)               # 'Asabeneh'\n",
    "first_name_to_list = list(first_name)\n",
    "print(first_name_to_list)            # ['A', 's', 'a', 'b', 'e', 'n', 'e', 'h']\n"
   ]
  },
  {
   "cell_type": "code",
   "execution_count": null,
   "id": "0600a3af",
   "metadata": {},
   "outputs": [],
   "source": [
    "# str - int\n",
    "stra = \"10\"\n",
    "\n",
    "print(int(stra))"
   ]
  },
  {
   "cell_type": "code",
   "execution_count": null,
   "id": "9ff7cc49",
   "metadata": {},
   "outputs": [],
   "source": [
    "strb = \"289892.282\"\n",
    "\n",
    "print(float(strb))"
   ]
  },
  {
   "cell_type": "code",
   "execution_count": null,
   "id": "be054165",
   "metadata": {},
   "outputs": [],
   "source": [
    "#str - int \"0-9\"\n",
    "# str - float \"0.0 -9.9\"\n",
    "\n",
    "print(int(float(\"10.6\")))"
   ]
  },
  {
   "cell_type": "code",
   "execution_count": null,
   "id": "2a5ffea5",
   "metadata": {},
   "outputs": [],
   "source": [
    "#  int , float , bool , complex - str\n",
    "\n",
    "a = 10\n",
    "aConvert = str(a)\n",
    "print(type(aConvert))\n",
    "b = 10.2367\n",
    "\n",
    "print(type(str(b)))\n",
    "\n",
    "\n",
    "c = True\n",
    "\n",
    "print(str(c))\n",
    "\n",
    "\n",
    "d = 10+2j\n",
    "\n",
    "print(str(d))"
   ]
  },
  {
   "cell_type": "code",
   "execution_count": null,
   "id": "7fb54e44",
   "metadata": {},
   "outputs": [],
   "source": [
    "lst = [10,2,3,10,2]\n",
    "print(lst)\n",
    "\n",
    "convertList = set(lst)\n",
    "\n",
    "print(convertList)\n"
   ]
  },
  {
   "cell_type": "code",
   "execution_count": null,
   "id": "b43c04bc",
   "metadata": {},
   "outputs": [],
   "source": [
    "num =19200283083083083038030830839876386923093038\n",
    "print(num)"
   ]
  },
  {
   "cell_type": "code",
   "execution_count": null,
   "id": "e58953da",
   "metadata": {},
   "outputs": [],
   "source": [
    "#  small task \n",
    "1. read 10 digit integer num from keyboard\n",
    "    hint: int(input()) \n",
    "2. count number of zeros\n",
    "3. if you don't find zero's print -1\n",
    "\n",
    "ex: 10205678905\n",
    "    op: 3 \n",
    "    1234568791\n",
    "    op: -1"
   ]
  },
  {
   "cell_type": "code",
   "execution_count": null,
   "id": "798c8561",
   "metadata": {},
   "outputs": [],
   "source": [
    "# answer\n",
    "\n",
    "# reading the input\n",
    "number = int(input('any 10digit  number : '))\n",
    "print(number)\n",
    "\n",
    "# convertion int - str\n",
    "number = str(number)\n",
    "\n",
    "# appling the method\n",
    "if number.count('0')>0:\n",
    "    print(\"number of zeros : \",number.count('0'))\n",
    "else:\n",
    "    print(-1)"
   ]
  },
  {
   "cell_type": "code",
   "execution_count": null,
   "id": "b6f8f6af",
   "metadata": {},
   "outputs": [],
   "source": [
    "num = 10209\n",
    "\n",
    "num = str(num)\n",
    "print(dir(num))\n"
   ]
  },
  {
   "cell_type": "code",
   "execution_count": null,
   "id": "01dcd41c",
   "metadata": {},
   "outputs": [],
   "source": []
  },
  {
   "cell_type": "code",
   "execution_count": null,
   "id": "cee9e45e",
   "metadata": {},
   "outputs": [],
   "source": []
  },
  {
   "cell_type": "markdown",
   "id": "73488909",
   "metadata": {},
   "source": [
    "## Strings \n",
    "- group of individual or collections of characters\n",
    "- strings are immutable in python\n",
    "- Strings have indexing\n",
    "      +ve : 0 - N-1\n",
    "      -ve : -1 --> -N\n",
    "- String supports slicing also.\n",
    "- In Python Strings can be declared in 3 ways:\n",
    "        - single quotes  'k'\n",
    "        - double quotes   \"dyamic programmic\"\n",
    "        - triple quotes (mainly used for multi-line strings)\n",
    "            \n",
    "      >Text is a string data type. Any data type written as text is a string. Any data under single, double or triple quote are strings. There are different string methods and built-in functions to deal with string data types"
   ]
  },
  {
   "cell_type": "code",
   "execution_count": null,
   "id": "0ae52c59",
   "metadata": {},
   "outputs": [],
   "source": [
    "print(type(\"Hello\"))\n",
    "\"10\"\n",
    "\"10.22\"\n",
    "\"True\"\n",
    "print(type(\"[10,203,30]\"))\n",
    "\n",
    "# anything inside quotes is a string "
   ]
  },
  {
   "cell_type": "markdown",
   "id": "1a6cc8e9",
   "metadata": {},
   "source": [
    "#### Creating a String\n"
   ]
  },
  {
   "cell_type": "code",
   "execution_count": null,
   "id": "beeac524",
   "metadata": {},
   "outputs": [],
   "source": [
    "letter = 'P'               # A string could be a single character or a bunch of texts\n",
    "print(letter)               # P\n",
    "print(len(letter))          # 1\n",
    "\n",
    "greeting = 'Hello, World!'  # String could be made using a single or double quote,\"Hello, World!\"\n",
    "print(greeting)             # Hello, World!\n",
    "print(len(greeting))        # 13\n",
    "\n",
    "sentence = \"I hope you are enjoying  Python Course\"\n",
    "print(sentence)\n",
    "print(len(sentence))"
   ]
  },
  {
   "cell_type": "code",
   "execution_count": null,
   "id": "f942439d",
   "metadata": {},
   "outputs": [],
   "source": [
    "print(ord(\" \"))"
   ]
  },
  {
   "cell_type": "code",
   "execution_count": null,
   "id": "c31cd7f5",
   "metadata": {},
   "outputs": [],
   "source": [
    "multiline_string = '''I am a teacher and enjoy teaching.\n",
    "I didn't find anything as rewarding as empowering people.\n",
    "That is why I created  python course.'''\n",
    "print(multiline_string)\n",
    "\n",
    "# Another way of doing the same thing\n",
    "multiline_string = \"\"\"I am a teacher and enjoy teaching.\n",
    "I didn't find anything as rewarding as empowering people.\n",
    "That is why I created python course.\"\"\"\n",
    "print(multiline_string)\n",
    "\n"
   ]
  },
  {
   "cell_type": "code",
   "execution_count": null,
   "id": "5da42d82",
   "metadata": {},
   "outputs": [],
   "source": []
  },
  {
   "cell_type": "markdown",
   "id": "fb085e2d",
   "metadata": {},
   "source": [
    "#### String Concatenation\n",
    "        - We can connect strings together. Merging or connecting strings is called concatenation. "
   ]
  },
  {
   "cell_type": "code",
   "execution_count": null,
   "id": "40e96399",
   "metadata": {},
   "outputs": [],
   "source": [
    "first_name = 'Helsinki'\n",
    "last_name = 'Money Heist'\n",
    "space = ' '\n",
    "full_name = first_name  +  space + last_name\n",
    "print(full_name) \n",
    "# Checking the length of a string using len() built-in function\n",
    "print(len(first_name)) \n",
    "print(len(last_name))  \n",
    "print(len(first_name) > len(last_name))\n",
    "print(len(full_name)) "
   ]
  },
  {
   "cell_type": "code",
   "execution_count": null,
   "id": "32fdf511",
   "metadata": {},
   "outputs": [],
   "source": []
  },
  {
   "cell_type": "code",
   "execution_count": null,
   "id": "db0bf965",
   "metadata": {},
   "outputs": [],
   "source": [
    "#Try this . \n",
    "\n",
    "print(first_name + \" age \"+40)\n",
    "# str + int -- Error"
   ]
  },
  {
   "cell_type": "code",
   "execution_count": null,
   "id": "9f9a6b38",
   "metadata": {},
   "outputs": [],
   "source": [
    "print(\"Hi \"*10)\n",
    "# str * int "
   ]
  },
  {
   "cell_type": "code",
   "execution_count": null,
   "id": "dae1ec98",
   "metadata": {},
   "outputs": [],
   "source": []
  },
  {
   "cell_type": "code",
   "execution_count": null,
   "id": "ac1fdf4c",
   "metadata": {},
   "outputs": [],
   "source": [
    "print(\"Hi\"*\"Hello\")"
   ]
  },
  {
   "cell_type": "code",
   "execution_count": null,
   "id": "f7569d0c",
   "metadata": {},
   "outputs": [],
   "source": [
    "# + both str's\n",
    "#  * one str and one int"
   ]
  },
  {
   "cell_type": "code",
   "execution_count": null,
   "id": "eeff0e70",
   "metadata": {},
   "outputs": [],
   "source": []
  },
  {
   "cell_type": "markdown",
   "id": "384bc759",
   "metadata": {},
   "source": [
    "#### Escape Sequences in Strings\n",
    "            In Python and other programming languages \\ followed by a character is an escape sequence.\n",
    "\n",
    "        \\n: new line\n",
    "        \\t: Tab means(8 spaces)\n",
    "        \\\\: Back slash\n",
    "        \\': Single quote (')\n",
    "        \\\": Double quote (\")"
   ]
  },
  {
   "cell_type": "code",
   "execution_count": null,
   "id": "c8351ff5",
   "metadata": {},
   "outputs": [],
   "source": [
    "print(\"Hello \\n Welcome to Srikanths \\t Home\")"
   ]
  },
  {
   "cell_type": "code",
   "execution_count": null,
   "id": "63ee3406",
   "metadata": {},
   "outputs": [],
   "source": []
  },
  {
   "cell_type": "code",
   "execution_count": null,
   "id": "dbd214cb",
   "metadata": {},
   "outputs": [],
   "source": [
    "print('I hope everyone is enjoying the Python Challenge.\\nAre you ?') # line break\n",
    "print('Days\\tTopics\\tExercises') # adding tab space or 4 spaces \n",
    "print('Day 1 \\t2 \\t8')\n",
    "print('Day 2\\t3\\t5')\n",
    "print('Day 3\\t3\\t5')\n",
    "print('Day 4\\t6\\t18')\n",
    "print('This is a backslash  symbol (\\\\)') # To write a backslash\n",
    "print('In every programming language it starts with \\\"Hello, World!\\\"') # to write a double quote inside a single quote\n"
   ]
  },
  {
   "cell_type": "code",
   "execution_count": null,
   "id": "8ca341d2",
   "metadata": {},
   "outputs": [],
   "source": []
  },
  {
   "cell_type": "markdown",
   "id": "ce54f82f",
   "metadata": {},
   "source": [
    "### String formatting\n",
    "    In Python there are many ways of formatting strings.\n",
    "    \n",
    "    The \"%\" operator is used to format a set of variables enclosed in a \"tuple\" (a fixed size list), together with a format string, which contains normal text together with \"argument specifiers\", special symbols like \"%s\", \"%d\", \"%f\", \"%.number of digitsf\".\n",
    "\n",
    "        %s - String (or any object with a string representation, like numbers)\n",
    "        %d - Integers\n",
    "        %f - Floating point numbers\n",
    "        \"%.number of digitsf\" - Floating point numbers with fixed precision"
   ]
  },
  {
   "cell_type": "code",
   "execution_count": null,
   "id": "22687547",
   "metadata": {},
   "outputs": [],
   "source": [
    "# c syntax\n",
    "int age = 29;\n",
    "float salary = 29.28228773793;\n",
    "printf(\"%d %f \",age,salary)"
   ]
  },
  {
   "cell_type": "code",
   "execution_count": null,
   "id": "25b64f40",
   "metadata": {},
   "outputs": [],
   "source": [
    "name = input(\"Enter name: \")\n",
    "age = int(input(\"Enter the age: \"))\n",
    "\n",
    "print(\"my name is \",name, \"age is \",age) #normal \n",
    "\n",
    "print(\"my name is %s age is %d\"%(name,age)) #format specifiers\n",
    "\n",
    "print(f\"my name is {name} age is {age}\") # f string"
   ]
  },
  {
   "cell_type": "code",
   "execution_count": null,
   "id": "f76d0746",
   "metadata": {},
   "outputs": [],
   "source": [
    "a = 10\n",
    "b = 20\n",
    "\n",
    "print(f\"addition of a and {b} =  {a+b}\")"
   ]
  },
  {
   "cell_type": "code",
   "execution_count": null,
   "id": "5fb081a1",
   "metadata": {},
   "outputs": [],
   "source": [
    "# Strings only\n",
    "first_name = 'Kumar'\n",
    "last_name = 'R'\n",
    "language = 'Python'\n",
    "fee = 10.283893\n",
    "formated_string = 'I am %s %s. I teach %s and fee is %f' %(first_name, last_name, language,fee)\n",
    "print(formated_string)\n",
    "\n",
    "# Strings  and numbers\n",
    "radius = 7\n",
    "pi = 3.14\n",
    "area = pi * radius ** 2\n",
    "formated_string = 'The area of circle with a radius %d is %.2f.' %(radius, area) # 2 refers the 2 significant digits after the point\n",
    "\n",
    "print(formated_string)\n",
    "\n",
    "\n",
    "python_libraries = ['Django', 'Flask', 'NumPy', 'Matplotlib','Pandas']\n",
    "formated_string = 'The following are python libraries:%s' % (python_libraries)\n",
    "print(formated_string) # \n"
   ]
  },
  {
   "cell_type": "code",
   "execution_count": null,
   "id": "2ba19f69",
   "metadata": {},
   "outputs": [],
   "source": []
  },
  {
   "cell_type": "markdown",
   "id": "137bc9aa",
   "metadata": {},
   "source": [
    "#### New Style String Formatting (str.format)"
   ]
  },
  {
   "cell_type": "code",
   "execution_count": null,
   "id": "8f07e514",
   "metadata": {},
   "outputs": [],
   "source": [
    "first_name = 'Kumar'\n",
    "last_name = 'R'\n",
    "language = 'Python'\n",
    "fee = 12000\n",
    "\n",
    "print(\"I am \"+first_name+\" \"+last_name+\". \"+\"I Teach \"+language+\"and fee is \"+str(fee))\n"
   ]
  },
  {
   "cell_type": "code",
   "execution_count": null,
   "id": "d2472176",
   "metadata": {},
   "outputs": [],
   "source": [
    "first_name = 'Kumar'\n",
    "last_name = 'R'\n",
    "language = 'Python'\n",
    "fee = 12000\n",
    "formated_string = 'I am {} {}. I teach {} and fee is {}'.format(first_name, last_name, language,fee)\n",
    "print(formated_string)\n",
    "\n",
    "\n",
    "# print(\"I am \"+first_name+\" \"+last_name+\". \"+\"I Teach \"+language+\"and fee is \"+fee)\n",
    "\n",
    "a = 4\n",
    "b = 3\n",
    "\n",
    "print('{0} + {1} = {2}'.format(a, b, a + b))\n",
    "print('{} - {} = {}'.format(a, b, a - b))\n",
    "print('{} * {} = {}'.format(a, b, a * b))\n",
    "print('{} / {} = {:.2f}'.format(a, b, a / b)) # limits it to two digits after decimal\n",
    "print('{} % {} = {}'.format(a, b, a % b))\n",
    "print('{} // {} = {}'.format(a, b, a // b))\n",
    "print('{} ** {} = {}'.format(a, b, a ** b))\n"
   ]
  },
  {
   "cell_type": "markdown",
   "id": "eb63f700",
   "metadata": {},
   "source": [
    "#### f-string"
   ]
  },
  {
   "cell_type": "code",
   "execution_count": null,
   "id": "0ab5afff",
   "metadata": {},
   "outputs": [],
   "source": [
    "print(\"Iam %s %s. I Teach %s and fee is %d\"%(first_name, last_name, language,fee))"
   ]
  },
  {
   "cell_type": "code",
   "execution_count": null,
   "id": "6c375aab",
   "metadata": {},
   "outputs": [],
   "source": [
    "print('I am {} {}. I teach {} and fee is {}'.format(first_name, last_name, language,fee))"
   ]
  },
  {
   "cell_type": "code",
   "execution_count": null,
   "id": "ae7938e2",
   "metadata": {},
   "outputs": [],
   "source": [
    "print(f'I am {first_name} {last_name} I Teach {language} and fee is {fee}')"
   ]
  },
  {
   "cell_type": "code",
   "execution_count": null,
   "id": "64cf3062",
   "metadata": {},
   "outputs": [],
   "source": [
    "#### Another new string formatting is string interpolation, f-strings. \n",
    "# Strings start with f and we can inject the data in their corresponding positions \n",
    "# supported from 3.6+\n",
    "\n",
    "a = 4\n",
    "b = 3\n",
    "print(f'{a} + {b} = {a +b}')\n",
    "print(f'{a} - {b} = {a - b}')\n",
    "print(f'{a} * {b} = {a * b}')\n",
    "print(f'{a} / {b} = {a / b:.2f}')\n",
    "print(f'{a} % {b} = {a % b}')\n",
    "print(f'{a} // {b} = {a // b}')\n",
    "print(f'{a} ** {b} = {a ** b}')"
   ]
  },
  {
   "cell_type": "code",
   "execution_count": null,
   "id": "836f9ad5",
   "metadata": {},
   "outputs": [],
   "source": [
    "age = 19\n",
    "print(f\"my age is {age}\")"
   ]
  },
  {
   "cell_type": "code",
   "execution_count": null,
   "id": "48a8602e",
   "metadata": {},
   "outputs": [],
   "source": [
    "name = \"Alex\"\n",
    "print(name)\n",
    "print(len(name))\n",
    "\n",
    "print(name[0])\n",
    "\n",
    "print(name[-1])\n",
    "# print(name[10])\n",
    "\n",
    "name[2] = \"k\"  #immutable\n",
    "\n",
    "print(name)"
   ]
  },
  {
   "cell_type": "code",
   "execution_count": null,
   "id": "0188feca",
   "metadata": {},
   "outputs": [],
   "source": []
  },
  {
   "cell_type": "markdown",
   "id": "a2e83f8c",
   "metadata": {},
   "source": [
    "### Accessing Characters in Strings by Index\n",
    "    In programming counting starts from zero. Therefore the first letter of a string is at zero index and the last letter of a string is the length of a string minus one.\n",
    "       strLang = \"Python\"\n",
    "       \n",
    "<img src=\"https://res.cloudinary.com/practicaldev/image/fetch/s--A7oqOWqx--/c_limit%2Cf_auto%2Cfl_progressive%2Cq_auto%2Cw_880/https://thepracticaldev.s3.amazonaws.com/i/1wr90mjnil60r7226bgq.png\" width=\"400\" height=\"400\">"
   ]
  },
  {
   "cell_type": "code",
   "execution_count": null,
   "id": "167147e5",
   "metadata": {},
   "outputs": [],
   "source": [
    "language = 'Python'\n",
    "first_letter = language[0]\n",
    "print(first_letter) # P\n",
    "\n",
    "second_letter = language[1]\n",
    "print(second_letter) # y\n",
    "\n",
    "last_index = len(language) - 1\n",
    "\n",
    "last_letter = language[last_index]\n",
    "print(last_letter) # n\n"
   ]
  },
  {
   "cell_type": "code",
   "execution_count": null,
   "id": "474a0f1f",
   "metadata": {},
   "outputs": [],
   "source": []
  },
  {
   "cell_type": "code",
   "execution_count": null,
   "id": "6476543b",
   "metadata": {},
   "outputs": [],
   "source": [
    "language = 'Python'\n",
    "\n",
    "last_letter = language[-1]\n",
    "print(last_letter) # n\n",
    "\n",
    "second_last = language[-2]\n",
    "print(second_last) # o\n"
   ]
  },
  {
   "cell_type": "code",
   "execution_count": null,
   "id": "a23c4e47",
   "metadata": {},
   "outputs": [],
   "source": []
  },
  {
   "cell_type": "markdown",
   "id": "cd8b79d0",
   "metadata": {},
   "source": [
    "#### Slicing Python Strings\n",
    "    - Extracting specific data.\n",
    "    syntax:\n",
    "        [start:stop:step]\n",
    "    - start : 0 (default)\n",
    "    - stop : LEN-1\n",
    "    - step : 1 \n",
    "    \n",
    "    negative:\n",
    "         - start : -1 (default)\n",
    "        - stop : -LEN-1\n",
    "        - step : - 1 \n",
    "    \n",
    "    \n",
    "    note: STOP is exculsive not included"
   ]
  },
  {
   "cell_type": "code",
   "execution_count": null,
   "id": "58bdb0c3",
   "metadata": {},
   "outputs": [],
   "source": [
    "name = \"kumarRajamoni\"\n",
    "\n",
    "print(len(name))\n",
    "\n",
    "print(name[0])\n",
    "\n",
    "print(name[-1])\n",
    "\n",
    "print(name[0:4:1])\n",
    "\n",
    "print(name[:6])\n",
    "\n",
    "print(name[2:])\n",
    "\n",
    "print(name[-1:-5:-2])\n",
    "\n",
    "print(name[-1:-len(name)-1:-1])\n",
    "print(name[::-1]) #start : -1 . stop: (-N-1)\n",
    "\n",
    "\n",
    "print(name[::])\n",
    "\n",
    "print(name)"
   ]
  },
  {
   "cell_type": "code",
   "execution_count": null,
   "id": "125541b4",
   "metadata": {},
   "outputs": [],
   "source": [
    "print(name)\n",
    "print(name[0:len(name):1])\n",
    "print(name[::1])\n",
    "print(name[0::])\n",
    "print(name[:len(name)])\n"
   ]
  },
  {
   "cell_type": "code",
   "execution_count": null,
   "id": "8feea650",
   "metadata": {},
   "outputs": [],
   "source": [
    "print(name)\n",
    "n = len(name)\n",
    "print(n)\n",
    "print(name[-1:-4:-1])\n",
    "\n",
    "print(name[::-1])  # start -1 , stop : -N-1 step:-1\n",
    "\n",
    "print(name[-1:(-n-1):-1])"
   ]
  },
  {
   "cell_type": "code",
   "execution_count": null,
   "id": "5b7d4723",
   "metadata": {},
   "outputs": [],
   "source": [
    "marks = [10,203,30]\n",
    "\n",
    "marks = marks[::-1]\n",
    "\n",
    "print(marks)"
   ]
  },
  {
   "cell_type": "code",
   "execution_count": null,
   "id": "3ab70c87",
   "metadata": {},
   "outputs": [],
   "source": [
    "name = \"Kumar\"\n",
    "# for loop /while loop\n",
    "# methods\n",
    "# slicing\n",
    "\n",
    "print(name[::-1]) #reverse\n",
    "\n",
    "\n",
    "teamNames = [\"india\",\"Pak\",\"Aus\"]\n",
    "\n",
    "print(teamNames[::-1])"
   ]
  },
  {
   "cell_type": "code",
   "execution_count": null,
   "id": "3bb58cb4",
   "metadata": {},
   "outputs": [],
   "source": [
    "language = 'Python'\n",
    "first_three = language[0:3] # starts at zero index and up to 3 but not include 3\n",
    "print(first_three) #Pyt\n",
    "\n",
    "last_three = language[3:6]\n",
    "print(last_three) # hon\n",
    "# Another way\n",
    "\n",
    "last_three = language[-3:]\n",
    "print(last_three)   # hon\n",
    "\n",
    "last_three = language[3:]\n",
    "print(last_three)   # hon\n",
    "\n"
   ]
  },
  {
   "cell_type": "code",
   "execution_count": null,
   "id": "7a252917",
   "metadata": {},
   "outputs": [],
   "source": [
    "# Reversing a String\n",
    "greeting = 'Hello, World!'\n",
    "print(greeting[::-1]) # !dlroW ,olleH\n"
   ]
  },
  {
   "cell_type": "code",
   "execution_count": null,
   "id": "8402a972",
   "metadata": {},
   "outputs": [],
   "source": []
  },
  {
   "cell_type": "code",
   "execution_count": null,
   "id": "1a3768fd",
   "metadata": {},
   "outputs": [],
   "source": [
    "print(dir({}))"
   ]
  },
  {
   "cell_type": "code",
   "execution_count": null,
   "id": "e579a245",
   "metadata": {},
   "outputs": [],
   "source": [
    "print(dir(\"\"))"
   ]
  },
  {
   "cell_type": "code",
   "execution_count": null,
   "id": "a6916c97",
   "metadata": {},
   "outputs": [],
   "source": [
    "print(help(\"\"))"
   ]
  },
  {
   "cell_type": "markdown",
   "id": "868bceb5",
   "metadata": {},
   "source": [
    "### String Methods\n",
    "  - **regular methods:**\n",
    "    - capitalize()\n",
    "    - count()\n",
    "    - endswith()\n",
    "    - startswith()\n",
    "    - expandtabs() \n",
    "    - find()\n",
    "    - rfind()\n",
    "    - index()\n",
    "    - rindex()\n",
    "    - title()\n",
    "    - replace()\n",
    "    - upper()\n",
    "    - lower()\n",
    "        \n",
    "- **checking methods:**\n",
    "    - isalnum()\n",
    "    - isalpha() \n",
    "    - isdecimal()\n",
    "    - isdigit()\n",
    "    - isnumeric()\n",
    "    - isidentifier()\n",
    "    - islower()\n",
    "    - isupper()\n",
    "        \n",
    "- **covertion methods**\n",
    "    - split() : str --> list\n",
    "    - join()  : list --> str\n",
    "\n",
    "        \n",
    " "
   ]
  },
  {
   "cell_type": "code",
   "execution_count": null,
   "id": "64690222",
   "metadata": {},
   "outputs": [],
   "source": []
  },
  {
   "cell_type": "code",
   "execution_count": null,
   "id": "f9c65eb3",
   "metadata": {},
   "outputs": [],
   "source": [
    "# capitalize(): Converts the first character of the string to capital letter\n",
    "\n",
    "challenge = 'thirty days of python'\n",
    "print(challenge.capitalize()) # 'Thirty days of python'"
   ]
  },
  {
   "cell_type": "code",
   "execution_count": null,
   "id": "cb9fd10d",
   "metadata": {},
   "outputs": [],
   "source": []
  },
  {
   "cell_type": "code",
   "execution_count": null,
   "id": "fd14a383",
   "metadata": {},
   "outputs": [],
   "source": [
    "# count(): returns occurrences of substring in string, count(substring, start=.., end=..). \n",
    "# The start is a starting indexing for counting and end is the last index to count.\n",
    "\n",
    "challenge = 'thirty days of python'\n",
    "\n",
    "print(challenge.count('y')) # 3\n",
    "print(challenge.count('y', 7, 14)) # 1, \n",
    "print(challenge.count('th')) # 2\n"
   ]
  },
  {
   "cell_type": "code",
   "execution_count": null,
   "id": "b8bfc986",
   "metadata": {},
   "outputs": [],
   "source": [
    "print(challenge.count(\"z\"))"
   ]
  },
  {
   "cell_type": "code",
   "execution_count": null,
   "id": "5ff10856",
   "metadata": {},
   "outputs": [],
   "source": []
  },
  {
   "cell_type": "code",
   "execution_count": null,
   "id": "678c61ec",
   "metadata": {},
   "outputs": [],
   "source": [
    "# endswith(): Checks if a string ends with a specified ending\n",
    "challenge = 'thirty days of python'\n",
    "\n",
    "print(challenge.endswith('on'))   # True\n",
    "print(challenge.endswith('tion')) # False\n"
   ]
  },
  {
   "cell_type": "code",
   "execution_count": null,
   "id": "54064f8c",
   "metadata": {},
   "outputs": [],
   "source": []
  },
  {
   "cell_type": "code",
   "execution_count": null,
   "id": "042848a6",
   "metadata": {},
   "outputs": [],
   "source": [
    "# expandtabs(): Replaces tab character with spaces, default tab size is 8. It takes tab size argument\n",
    "\n",
    "challenge = 'thirty\\tdays\\tof\\tpython'\n",
    "\n",
    "print(challenge.expandtabs())   # 'thirty  days    of      python'\n",
    "print(challenge.expandtabs(10)) # 'thirty    days      of        python'"
   ]
  },
  {
   "cell_type": "code",
   "execution_count": null,
   "id": "b3e7f51b",
   "metadata": {},
   "outputs": [],
   "source": []
  },
  {
   "cell_type": "code",
   "execution_count": null,
   "id": "2578fa40",
   "metadata": {},
   "outputs": [],
   "source": [
    "# find(): Returns the index of the first occurrence of a substring, if not found returns -1\n",
    "\n",
    "\n",
    "challenge = 'thirty days of python'\n",
    "print(challenge.find('y'))  # 5\n",
    "print(challenge.find('th')) # 0\n",
    "\n"
   ]
  },
  {
   "cell_type": "code",
   "execution_count": null,
   "id": "3b59db8a",
   "metadata": {},
   "outputs": [],
   "source": [
    "print(challenge.find(\"z\"))\n",
    "\n",
    "# task \n",
    "# find lastIndex of a character"
   ]
  },
  {
   "cell_type": "code",
   "execution_count": null,
   "id": "69f9a16d",
   "metadata": {},
   "outputs": [],
   "source": [
    "# rfind(): Returns the index of the last occurrence of a substring, if not found returns -1\n",
    "\n",
    "challenge = 'thirty days of python'\n",
    "print(challenge.rfind('y'))  # 16\n",
    "print(challenge.rfind('th')) # 17"
   ]
  },
  {
   "cell_type": "code",
   "execution_count": null,
   "id": "cec4db2a",
   "metadata": {},
   "outputs": [],
   "source": []
  },
  {
   "cell_type": "code",
   "execution_count": null,
   "id": "92a2d7bc",
   "metadata": {},
   "outputs": [],
   "source": [
    "# index(): Returns the lowest index of a substring, additional arguments indicate starting and ending index (default 0 and string length - 1). \n",
    "# If the substring is not found it raises a valueError.\n",
    "\n",
    "challenge = 'thirty days of python'\n",
    "sub_string = 'da'\n",
    "print(challenge.find(\"y\"))\n",
    "print(challenge.index('y'))  # 7\n",
    "print(challenge.index(sub_string)) #error"
   ]
  },
  {
   "cell_type": "code",
   "execution_count": null,
   "id": "795889ec",
   "metadata": {},
   "outputs": [],
   "source": [
    "print(challenge.index(\"k\"))"
   ]
  },
  {
   "cell_type": "code",
   "execution_count": null,
   "id": "909609d3",
   "metadata": {},
   "outputs": [],
   "source": [
    "# rindex(): Returns the highest index of a substring, additional arguments indicate \n",
    "# starting and ending index (default 0 and string length - 1)\n",
    "\n",
    "challenge = 'thirty days of python'\n",
    "sub_string = 'da'\n",
    "\n",
    "print(challenge.rindex(sub_string))  # 8\n",
    "print(challenge.rindex(\"py\",16)) # error"
   ]
  },
  {
   "cell_type": "code",
   "execution_count": null,
   "id": "a10eaf9f",
   "metadata": {},
   "outputs": [],
   "source": []
  },
  {
   "cell_type": "code",
   "execution_count": null,
   "id": "2f908fd2",
   "metadata": {},
   "outputs": [],
   "source": [
    "# title(): Returns a title cased string\n",
    "\n",
    "challenge = 'thirty days of python'\n",
    "print(challenge.title()) # Thirty Days Of Python\n",
    "\n"
   ]
  },
  {
   "cell_type": "code",
   "execution_count": null,
   "id": "f7b52a3f",
   "metadata": {},
   "outputs": [],
   "source": []
  },
  {
   "cell_type": "code",
   "execution_count": null,
   "id": "2891f38a",
   "metadata": {},
   "outputs": [],
   "source": [
    "# swapcase(): Converts all uppercase characters to lowercase and all lowercase characters to uppercase characters\n",
    "\n",
    "challenge = 'thirty days of python'\n",
    "print(challenge.swapcase())   # THIRTY DAYS OF PYTHON\n",
    "\n",
    "challenge = 'Thirty Days Of Python'\n",
    "print(challenge.swapcase())  # tHIRTY dAYS oF pYTHON\n",
    "\n",
    "\n",
    "\n"
   ]
  },
  {
   "cell_type": "code",
   "execution_count": null,
   "id": "110b78a8",
   "metadata": {},
   "outputs": [],
   "source": []
  },
  {
   "cell_type": "code",
   "execution_count": null,
   "id": "a497f2ed",
   "metadata": {},
   "outputs": [],
   "source": [
    "# startswith(): Checks if String Starts with the Specified String\n",
    "\n",
    "challenge = 'thirty days of python'\n",
    "print(challenge.startswith('thirty')) # True\n",
    "\n",
    "challenge = '30 days of python'\n",
    "print(challenge.startswith('thirty')) # False\n"
   ]
  },
  {
   "cell_type": "code",
   "execution_count": null,
   "id": "a5639bf9",
   "metadata": {},
   "outputs": [],
   "source": []
  },
  {
   "cell_type": "code",
   "execution_count": null,
   "id": "ededea04",
   "metadata": {},
   "outputs": [],
   "source": [
    "# strip(): Removes all given characters starting from the beginning and end of the string\n",
    "\n",
    "name = \"        Kumar            \"\n",
    "\n",
    "print( len(name) )\n",
    "\n",
    "name = name.strip()\n",
    "print( len(name) )\n",
    "\n",
    "\n",
    "challenge = 'thirty days of pythoonnn'\n",
    "print(challenge.strip('noth')) # 'irty days of py'\n",
    "\n"
   ]
  },
  {
   "cell_type": "code",
   "execution_count": null,
   "id": "157d239d",
   "metadata": {},
   "outputs": [],
   "source": []
  },
  {
   "cell_type": "code",
   "execution_count": null,
   "id": "5ff5521f",
   "metadata": {},
   "outputs": [],
   "source": [
    "# replace(): Replaces substring with a given string\n",
    "\n",
    "challenge = 'I Like to code In Python'\n",
    "print(challenge.replace('Python', 'Java')) # 'thirty days of coding'"
   ]
  },
  {
   "cell_type": "code",
   "execution_count": null,
   "id": "bbe725d2",
   "metadata": {},
   "outputs": [],
   "source": []
  },
  {
   "cell_type": "code",
   "execution_count": null,
   "id": "87273e0f",
   "metadata": {},
   "outputs": [],
   "source": [
    "# upper \n",
    "\n",
    "challenge = 'I Like to code In Python' \n",
    "\n",
    "print(challenge.upper())\n",
    "\n",
    "\n",
    "challenge = \"i LIKE to CODE ruby\"\n",
    "\n",
    "print(challenge.lower())\n",
    "\n",
    "\n",
    "print(challenge.title())\n",
    "\n",
    "print(challenge.swapcase())"
   ]
  },
  {
   "cell_type": "code",
   "execution_count": null,
   "id": "184588a3",
   "metadata": {},
   "outputs": [],
   "source": []
  },
  {
   "cell_type": "code",
   "execution_count": null,
   "id": "d6fd1c8a",
   "metadata": {},
   "outputs": [],
   "source": [
    "# checking methods --> True/False\n",
    "    - validation"
   ]
  },
  {
   "cell_type": "code",
   "execution_count": null,
   "id": "48772185",
   "metadata": {},
   "outputs": [],
   "source": [
    "# isalnum(): Checks alphanumeric character(a-zA-Z 0-9)\n",
    "\n",
    "challenge = 'ThirtyDaysPython'\n",
    "print(challenge.isalnum()) # True\n",
    "\n",
    "challenge = '30DaysPython'\n",
    "print(challenge.isalnum()) # True\n",
    "\n",
    "challenge = 'thirty days of python'\n",
    "print(challenge.isalnum()) # False, space is not an alphanumeric character\n",
    "\n",
    "challenge = 'thirty days of python 2019'\n",
    "print(challenge.isalnum()) # False"
   ]
  },
  {
   "cell_type": "code",
   "execution_count": null,
   "id": "d513da79",
   "metadata": {},
   "outputs": [],
   "source": []
  },
  {
   "cell_type": "code",
   "execution_count": null,
   "id": "3e5867b5",
   "metadata": {},
   "outputs": [],
   "source": [
    "# isalpha(): Checks if all string elements are alphabet characters (a-z and A-Z)\n",
    "\n",
    "challenge = 'thirty days of python'\n",
    "print(challenge.isalpha()) # False, space is once again excluded\n",
    "\n",
    "challenge = 'ThirtyDaysPython'\n",
    "print(challenge.isalpha()) # True\n",
    "\n",
    "num = '123akkak'\n",
    "print(num.isalpha())      # False\n",
    "\n"
   ]
  },
  {
   "cell_type": "code",
   "execution_count": null,
   "id": "1a2516de",
   "metadata": {},
   "outputs": [],
   "source": []
  },
  {
   "cell_type": "code",
   "execution_count": null,
   "id": "3907c8a8",
   "metadata": {},
   "outputs": [],
   "source": []
  },
  {
   "cell_type": "code",
   "execution_count": null,
   "id": "e41430ca",
   "metadata": {},
   "outputs": [],
   "source": [
    "# isdecimal(): Checks if all characters in a string are decimal (0-9)\n",
    "\n",
    "challenge = 'thirty days of python'\n",
    "print(challenge.isdecimal())  # False\n",
    "\n",
    "challenge = '123'\n",
    "print(challenge.isdecimal())  # True\n",
    "\n",
    "challenge = '\\u00B2'\n",
    "print(challenge.isdigit())   # False\n",
    "\n",
    "challenge = '12 3'\n",
    "print(challenge.isdecimal())  # False, space not allowed\n",
    "\n",
    "\n"
   ]
  },
  {
   "cell_type": "code",
   "execution_count": null,
   "id": "b03e5fec",
   "metadata": {},
   "outputs": [],
   "source": []
  },
  {
   "cell_type": "code",
   "execution_count": null,
   "id": "e86ba1ff",
   "metadata": {},
   "outputs": [],
   "source": [
    "# isdigit(): Checks if all characters in a string are numbers (0-9 and some other unicode characters for numbers)\n",
    "\n",
    "challenge = 'Thirty'\n",
    "print(challenge.isdigit()) # False\n",
    "\n",
    "challenge = '30'\n",
    "print(challenge.isdigit())   # True\n",
    "\n",
    "challenge = '\\u00B2'\n",
    "print(challenge.isdigit())   # True"
   ]
  },
  {
   "cell_type": "code",
   "execution_count": null,
   "id": "28d879f5",
   "metadata": {},
   "outputs": [],
   "source": []
  },
  {
   "cell_type": "code",
   "execution_count": null,
   "id": "78f86c31",
   "metadata": {},
   "outputs": [],
   "source": [
    "# isnumeric(): Checks if all characters in a string are numbers or number related (just like isdigit(), just accepts more symbols, like ½)\n",
    "\n",
    "num = '10'\n",
    "print(num.isnumeric()) # True\n",
    "\n",
    "num = '\\u00BD' # ½\n",
    "print(num.isnumeric()) # True\n",
    "\n",
    "num = '10.5'\n",
    "print(num.isnumeric()) # False\n"
   ]
  },
  {
   "cell_type": "code",
   "execution_count": null,
   "id": "67c830c0",
   "metadata": {},
   "outputs": [],
   "source": []
  },
  {
   "cell_type": "code",
   "execution_count": null,
   "id": "a1510ccd",
   "metadata": {},
   "outputs": [],
   "source": [
    "# isidentifier(): Checks for a valid identifier - it checks if a string is a valid variable name\n",
    "\n",
    "challenge = '30DaysOfPython'\n",
    "print(challenge.isidentifier()) # False, because it starts with a number\n",
    "\n",
    "challenge = 'thirty_days_of_python'\n",
    "print(challenge.isidentifier()) # True"
   ]
  },
  {
   "cell_type": "code",
   "execution_count": null,
   "id": "8f1d8c53",
   "metadata": {},
   "outputs": [],
   "source": []
  },
  {
   "cell_type": "code",
   "execution_count": null,
   "id": "f9bf400a",
   "metadata": {},
   "outputs": [],
   "source": [
    "# islower(): Checks if all alphabet characters in the string are lowercase\n",
    "\n",
    "# isupper(): Checks if all alphabet characters in the string are uppercase\n",
    "\n",
    "\n",
    "challenge = 'string methods'\n",
    "print(challenge.islower()) # True\n",
    "\n",
    "challenge = 'MetaVerse'\n",
    "print(challenge.islower()) # False\n",
    "\n",
    "\n",
    "challenge = 'Python Is OOPs Lang'\n",
    "print(challenge.isupper()) #  False\n",
    "\n",
    "challenge = 'PYTHON VERSION'\n",
    "print(challenge.isupper()) # True"
   ]
  },
  {
   "cell_type": "code",
   "execution_count": null,
   "id": "e332d8a2",
   "metadata": {},
   "outputs": [],
   "source": []
  },
  {
   "cell_type": "code",
   "execution_count": 1,
   "id": "1effd258",
   "metadata": {},
   "outputs": [
    {
     "name": "stdout",
     "output_type": "stream",
     "text": [
      "['python', 'is', 'interprted', 'functional', 'scripting', 'language']\n",
      "['current', 'version', 'of', 'python', '3.11']\n"
     ]
    }
   ],
   "source": [
    "# split(): Splits the string, using given string or space as a separator\n",
    "\n",
    "challenge = 'python is interprted functional scripting language'\n",
    "print(challenge.split()) #str - list\n",
    "\n",
    "challenge = 'current,version,of,python,3.11'\n",
    "print(challenge.split(',')) #str --list"
   ]
  },
  {
   "cell_type": "code",
   "execution_count": 2,
   "id": "9210ac49",
   "metadata": {},
   "outputs": [
    {
     "name": "stdout",
     "output_type": "stream",
     "text": [
      "10\n",
      "10\n"
     ]
    }
   ],
   "source": [
    "# read mutliple integers using input method\n",
    "\n",
    "a = int(input())\n",
    "print(a)"
   ]
  },
  {
   "cell_type": "code",
   "execution_count": 3,
   "id": "6f207464",
   "metadata": {},
   "outputs": [
    {
     "name": "stdout",
     "output_type": "stream",
     "text": [
      "10 20 30 40\n",
      "10 20 30 40\n",
      "<class 'str'>\n"
     ]
    }
   ],
   "source": [
    "numbers = input()\n",
    "print(numbers)\n",
    "print(type(numbers))"
   ]
  },
  {
   "cell_type": "code",
   "execution_count": 4,
   "id": "0ff91a83",
   "metadata": {},
   "outputs": [
    {
     "name": "stdout",
     "output_type": "stream",
     "text": [
      "1\n"
     ]
    }
   ],
   "source": [
    "print(numbers[0])"
   ]
  },
  {
   "cell_type": "code",
   "execution_count": 5,
   "id": "00d4effb",
   "metadata": {},
   "outputs": [
    {
     "data": {
      "text/plain": [
       "'10'"
      ]
     },
     "execution_count": 5,
     "metadata": {},
     "output_type": "execute_result"
    }
   ],
   "source": [
    "\"10 203 30\"[0:2]"
   ]
  },
  {
   "cell_type": "code",
   "execution_count": 6,
   "id": "016d7115",
   "metadata": {},
   "outputs": [
    {
     "name": "stdout",
     "output_type": "stream",
     "text": [
      "['10', '20', '30', '40']\n",
      "30\n"
     ]
    }
   ],
   "source": [
    "lstNum = numbers.split()\n",
    "print(lstNum)\n",
    "print(lstNum[2])"
   ]
  },
  {
   "cell_type": "code",
   "execution_count": 7,
   "id": "aba33163",
   "metadata": {},
   "outputs": [
    {
     "name": "stdout",
     "output_type": "stream",
     "text": [
      "10 20 40 40\n",
      "['10', '20', '40', '40']\n"
     ]
    }
   ],
   "source": [
    "integerNum = input().split()\n",
    "\n",
    "print(integerNum)"
   ]
  },
  {
   "cell_type": "code",
   "execution_count": 8,
   "id": "a592dbb6",
   "metadata": {},
   "outputs": [
    {
     "name": "stdout",
     "output_type": "stream",
     "text": [
      "10 20 304 40\n",
      "[10, 20, 304, 40]\n"
     ]
    }
   ],
   "source": [
    "integerNum =  map(int,input().split())\n",
    "\n",
    "integerNum = list(integerNum)\n",
    "print(integerNum)"
   ]
  },
  {
   "cell_type": "code",
   "execution_count": 10,
   "id": "ccacc877",
   "metadata": {},
   "outputs": [
    {
     "name": "stdout",
     "output_type": "stream",
     "text": [
      "10,20,30\n",
      "[10, 20, 30]\n"
     ]
    }
   ],
   "source": [
    "integerNum =  list(map(int,input().split(\",\")))#map(fun,iterable)--- return map object\n",
    "\n",
    "\n",
    "print(integerNum)"
   ]
  },
  {
   "cell_type": "code",
   "execution_count": 12,
   "id": "d219c216",
   "metadata": {},
   "outputs": [
    {
     "name": "stdout",
     "output_type": "stream",
     "text": [
      "HTMLCSSJavaScriptReact\n"
     ]
    }
   ],
   "source": [
    "# join(): Returns a concatenated string\n",
    "\n",
    "web_tech = ['HTML', 'CSS', 'JavaScript', 'React']\n",
    " \n",
    "result = ''.join(web_tech) #list -- str\n",
    "print(result) "
   ]
  },
  {
   "cell_type": "code",
   "execution_count": 13,
   "id": "6ace49fa",
   "metadata": {},
   "outputs": [
    {
     "name": "stdout",
     "output_type": "stream",
     "text": [
      "HTML-->CSS-->JavaScript-->React\n"
     ]
    }
   ],
   "source": [
    "web_tech = ['HTML', 'CSS', 'JavaScript', 'React']\n",
    " \n",
    "result = '-->'.join(web_tech) #list -- str\n",
    "print(result) "
   ]
  },
  {
   "cell_type": "code",
   "execution_count": null,
   "id": "ebc3fc02",
   "metadata": {},
   "outputs": [],
   "source": []
  },
  {
   "cell_type": "code",
   "execution_count": null,
   "id": "0c73398e",
   "metadata": {},
   "outputs": [],
   "source": []
  },
  {
   "cell_type": "code",
   "execution_count": null,
   "id": "a66d3858",
   "metadata": {},
   "outputs": [],
   "source": []
  },
  {
   "cell_type": "markdown",
   "id": "52e455f0",
   "metadata": {},
   "source": [
    "### Operators \n",
    "    - Python language supports several types of operators\n",
    "    - Operator is symbol which applies on operands \n",
    "        ex: a + b ==> a, b operands , + : operator.\n",
    "        \n",
    "### Assignment Operators.\n",
    "        Assignment operators are used to assign values to variables\n",
    "  \n",
    "  <img src = \"https://www.devopsschool.com/blog/wp-content/uploads/2020/08/assignment-operator-in-python.png\" height=\"600\" width=\"600\">"
   ]
  },
  {
   "cell_type": "code",
   "execution_count": 14,
   "id": "ea911ba8",
   "metadata": {},
   "outputs": [
    {
     "name": "stdout",
     "output_type": "stream",
     "text": [
      "9\n"
     ]
    }
   ],
   "source": [
    "price = 12\n",
    "\n",
    "# increase 2rs \n",
    "price = price + 2\n",
    "\n",
    "# decrease 5 rs\n",
    "price = price - 5 \n",
    "\n",
    "\n",
    "print(price)"
   ]
  },
  {
   "cell_type": "code",
   "execution_count": 15,
   "id": "3a362163",
   "metadata": {},
   "outputs": [
    {
     "name": "stdout",
     "output_type": "stream",
     "text": [
      "9\n"
     ]
    }
   ],
   "source": [
    "price = 12\n",
    "\n",
    "# increase 2rs \n",
    "price += 2 #price = price+2\n",
    "\n",
    "# decrease 5 \n",
    "price -= 5  #price = price - 5\n",
    "\n",
    "\n",
    "print(price)"
   ]
  },
  {
   "cell_type": "code",
   "execution_count": null,
   "id": "2b9483dd",
   "metadata": {},
   "outputs": [],
   "source": []
  },
  {
   "cell_type": "markdown",
   "id": "3c70130a",
   "metadata": {},
   "source": [
    "### Arithmetic Operators:\n",
    "    - Used to perform arthimetic & mathmatical operations.\n",
    "    Addition(+): a + b\n",
    "    Subtraction(-): a - b\n",
    "    Multiplication(*): a * b\n",
    "    Division(/): a / b\n",
    "    Modulus(%): a % b\n",
    "    Floor division(//): a // b\n",
    "    Exponentiation(**): a ** b\n",
    "    \n",
    "<img src = \"https://www.devopsschool.com/blog/wp-content/uploads/2020/08/arithmetic-operation-in-python.png\" height=\"700\" width=\"700\">    "
   ]
  },
  {
   "cell_type": "code",
   "execution_count": 17,
   "id": "915eb155",
   "metadata": {},
   "outputs": [
    {
     "name": "stdout",
     "output_type": "stream",
     "text": [
      "Addition:  3\n",
      "Subtraction:  1\n",
      "Multiplication:  6\n",
      "Division:  2.0\n",
      "Division:  3.0\n",
      "Division:  3.5\n",
      "Division without the remainder:  3\n",
      "Division without the remainder:  2\n",
      "Modulus:  1\n",
      "Exponentiation:  8\n"
     ]
    }
   ],
   "source": [
    "# Arithmetic Operations in Python\n",
    "# Integers\n",
    "\n",
    "print('Addition: ', 1 + 2)        # 3\n",
    "print('Subtraction: ', 2 - 1)     # 1\n",
    "print('Multiplication: ', 2 * 3)  # 6\n",
    "print ('Division: ', 4 / 2)       # 2.0  Division in Python gives floating number\n",
    "print('Division: ', 6 / 2)        # 3.0         \n",
    "print('Division: ', 7 / 2)        # 3.5\n",
    "print('Division without the remainder: ', 7 // 2)   # 3,  gives without the floating number or without the remaining\n",
    "print ('Division without the remainder: ',7 // 3)   # 2\n",
    "print('Modulus: ', 3 % 2)         # 1, Gives the remainder\n",
    "print('Exponentiation: ', 2 ** 3) # 8 it means 2 * 2 * 2"
   ]
  },
  {
   "cell_type": "code",
   "execution_count": 19,
   "id": "92b0d4b4",
   "metadata": {},
   "outputs": [
    {
     "name": "stdout",
     "output_type": "stream",
     "text": [
      "-3\n"
     ]
    }
   ],
   "source": [
    "# TASK \n",
    "How negative modulus \n",
    "How negtaive // integer division.\n",
    "\n",
    "will work?"
   ]
  },
  {
   "cell_type": "code",
   "execution_count": 22,
   "id": "28c2b230",
   "metadata": {},
   "outputs": [
    {
     "name": "stdout",
     "output_type": "stream",
     "text": [
      "1\n",
      "1\n"
     ]
    }
   ],
   "source": [
    "print(10%3) # 10 = 3*3+1\n",
    "print(5%2) # 5 = 2*2+1"
   ]
  },
  {
   "cell_type": "code",
   "execution_count": 23,
   "id": "b13a672f",
   "metadata": {},
   "outputs": [
    {
     "name": "stdout",
     "output_type": "stream",
     "text": [
      "1\n"
     ]
    }
   ],
   "source": [
    "print(-5%2)"
   ]
  },
  {
   "cell_type": "code",
   "execution_count": 24,
   "id": "ca0832b6",
   "metadata": {},
   "outputs": [
    {
     "name": "stdout",
     "output_type": "stream",
     "text": [
      "2\n"
     ]
    }
   ],
   "source": [
    "print(-10%3)"
   ]
  },
  {
   "cell_type": "code",
   "execution_count": 26,
   "id": "dc8f3174",
   "metadata": {},
   "outputs": [
    {
     "name": "stdout",
     "output_type": "stream",
     "text": [
      "3\n",
      "2\n"
     ]
    }
   ],
   "source": [
    "print(10//3)\n",
    "print(5//2)"
   ]
  },
  {
   "cell_type": "code",
   "execution_count": 27,
   "id": "53cc951e",
   "metadata": {},
   "outputs": [
    {
     "name": "stdout",
     "output_type": "stream",
     "text": [
      "-4\n",
      "-3\n"
     ]
    }
   ],
   "source": [
    "print(-10//3)\n",
    "print(-5//2)"
   ]
  },
  {
   "cell_type": "code",
   "execution_count": null,
   "id": "8884d607",
   "metadata": {},
   "outputs": [],
   "source": []
  },
  {
   "cell_type": "code",
   "execution_count": 28,
   "id": "3ed54962",
   "metadata": {},
   "outputs": [
    {
     "name": "stdout",
     "output_type": "stream",
     "text": [
      "Floating Point Number, PI 3.14\n",
      "Floating Point Number, gravity 9.81\n"
     ]
    }
   ],
   "source": [
    "# Floating numbers\n",
    "print('Floating Point Number, PI', 3.14)\n",
    "print('Floating Point Number, gravity', 9.81)"
   ]
  },
  {
   "cell_type": "code",
   "execution_count": null,
   "id": "59874dd8",
   "metadata": {},
   "outputs": [],
   "source": []
  },
  {
   "cell_type": "code",
   "execution_count": null,
   "id": "7c97ad08",
   "metadata": {},
   "outputs": [],
   "source": []
  },
  {
   "cell_type": "code",
   "execution_count": 29,
   "id": "115ae783",
   "metadata": {},
   "outputs": [
    {
     "name": "stdout",
     "output_type": "stream",
     "text": [
      "Complex number:  (1+1j)\n",
      "Multiplying complex numbers:  (2+0j)\n"
     ]
    }
   ],
   "source": [
    "# Complex numbers\n",
    "print('Complex number: ', 1 + 1j)\n",
    "print('Multiplying complex numbers: ',(1 + 1j) * (1 - 1j))"
   ]
  },
  {
   "cell_type": "code",
   "execution_count": null,
   "id": "ea89f173",
   "metadata": {},
   "outputs": [],
   "source": []
  },
  {
   "cell_type": "code",
   "execution_count": 30,
   "id": "cbc091e9",
   "metadata": {},
   "outputs": [
    {
     "name": "stdout",
     "output_type": "stream",
     "text": [
      "5\n",
      "a + b =  5\n",
      "a - b =  1\n",
      "a * b =  6\n",
      "a / b =  1.5\n",
      "a % b =  1\n",
      "a // b =  1\n",
      "a ** b =  9\n"
     ]
    }
   ],
   "source": [
    "# Declaring the variable at the top first\n",
    "\n",
    "a = 3 # a is a variable name and 3 is an integer data type\n",
    "b = 2 # b is a variable name and 3 is an integer data type\n",
    "\n",
    "# Arithmetic operations and assigning the result to a variable\n",
    "total = a + b\n",
    "diff = a - b\n",
    "product = a * b\n",
    "division = a / b\n",
    "remainder = a % b\n",
    "floor_division = a // b\n",
    "exponential = a ** b\n",
    "\n",
    "# I should have used sum instead of total but sum is a built-in function - try to avoid overriding built-in functions\n",
    "print(total) # if you do not label your print with some string, you never know where the result is coming from\n",
    "print('a + b = ', total)\n",
    "print('a - b = ', diff)\n",
    "print('a * b = ', product)\n",
    "print('a / b = ', division)\n",
    "print('a % b = ', remainder)\n",
    "print('a // b = ', floor_division)\n",
    "print('a ** b = ', exponential)"
   ]
  },
  {
   "cell_type": "code",
   "execution_count": 31,
   "id": "e8ed95ba",
   "metadata": {},
   "outputs": [
    {
     "name": "stdout",
     "output_type": "stream",
     "text": [
      "0.0\n"
     ]
    },
    {
     "ename": "ZeroDivisionError",
     "evalue": "division by zero",
     "output_type": "error",
     "traceback": [
      "\u001b[1;31m---------------------------------------------------------------------------\u001b[0m",
      "\u001b[1;31mZeroDivisionError\u001b[0m                         Traceback (most recent call last)",
      "\u001b[1;32m<ipython-input-31-de970eb67573>\u001b[0m in \u001b[0;36m<module>\u001b[1;34m\u001b[0m\n\u001b[0;32m      1\u001b[0m \u001b[0mprint\u001b[0m\u001b[1;33m(\u001b[0m\u001b[1;36m0\u001b[0m\u001b[1;33m/\u001b[0m\u001b[1;36m10\u001b[0m\u001b[1;33m)\u001b[0m  \u001b[1;31m#0/anything --> 0\u001b[0m\u001b[1;33m\u001b[0m\u001b[1;33m\u001b[0m\u001b[0m\n\u001b[0;32m      2\u001b[0m \u001b[1;33m\u001b[0m\u001b[0m\n\u001b[1;32m----> 3\u001b[1;33m \u001b[0mprint\u001b[0m\u001b[1;33m(\u001b[0m\u001b[1;36m20\u001b[0m\u001b[1;33m/\u001b[0m\u001b[1;36m0\u001b[0m\u001b[1;33m)\u001b[0m \u001b[1;31m#anything/0 ---> undefined\u001b[0m\u001b[1;33m\u001b[0m\u001b[1;33m\u001b[0m\u001b[0m\n\u001b[0m",
      "\u001b[1;31mZeroDivisionError\u001b[0m: division by zero"
     ]
    }
   ],
   "source": [
    "print(0/10)  #0/anything --> 0\n",
    "\n",
    "print(20/0) #anything/0 ---> undefined"
   ]
  },
  {
   "cell_type": "code",
   "execution_count": 32,
   "id": "3ac5c215",
   "metadata": {},
   "outputs": [
    {
     "name": "stdout",
     "output_type": "stream",
     "text": [
      "1\n",
      "1\n",
      "0\n",
      "50\n"
     ]
    },
    {
     "ename": "ZeroDivisionError",
     "evalue": "integer division or modulo by zero",
     "output_type": "error",
     "traceback": [
      "\u001b[1;31m---------------------------------------------------------------------------\u001b[0m",
      "\u001b[1;31mZeroDivisionError\u001b[0m                         Traceback (most recent call last)",
      "\u001b[1;32m<ipython-input-32-12cfd41051f5>\u001b[0m in \u001b[0;36m<module>\u001b[1;34m\u001b[0m\n\u001b[0;32m      7\u001b[0m \u001b[0mprint\u001b[0m\u001b[1;33m(\u001b[0m\u001b[1;36m50\u001b[0m\u001b[1;33m%\u001b[0m\u001b[1;36m100\u001b[0m\u001b[1;33m)\u001b[0m\u001b[1;33m\u001b[0m\u001b[1;33m\u001b[0m\u001b[0m\n\u001b[0;32m      8\u001b[0m \u001b[1;33m\u001b[0m\u001b[0m\n\u001b[1;32m----> 9\u001b[1;33m \u001b[0mprint\u001b[0m\u001b[1;33m(\u001b[0m\u001b[1;36m10\u001b[0m\u001b[1;33m%\u001b[0m\u001b[1;36m0\u001b[0m\u001b[1;33m)\u001b[0m\u001b[1;33m\u001b[0m\u001b[1;33m\u001b[0m\u001b[0m\n\u001b[0m",
      "\u001b[1;31mZeroDivisionError\u001b[0m: integer division or modulo by zero"
     ]
    }
   ],
   "source": [
    "print(10%3)\n",
    "\n",
    "print(25%2)\n",
    "\n",
    "print(4%4)\n",
    "\n",
    "print(50%100)\n",
    "\n",
    "print(10%0)"
   ]
  },
  {
   "cell_type": "code",
   "execution_count": null,
   "id": "e8c60f41",
   "metadata": {},
   "outputs": [],
   "source": [
    "# NOTE : \n",
    "1. Numerator<Demo ---> Answer is Numerator\n",
    "2. Numerator == Demo --> 0\n",
    "3. Numerator> Demo (get remainder doing division method)\n",
    "4. Demo == 0 --> Raise Error"
   ]
  },
  {
   "cell_type": "code",
   "execution_count": null,
   "id": "5d6ddc7e",
   "metadata": {},
   "outputs": [],
   "source": []
  },
  {
   "cell_type": "code",
   "execution_count": 33,
   "id": "3acb823a",
   "metadata": {},
   "outputs": [
    {
     "name": "stdout",
     "output_type": "stream",
     "text": [
      "Area of a circle: 314.0\n",
      "Area of rectangle: 200\n",
      "735.75 N\n",
      "1000.0\n"
     ]
    }
   ],
   "source": [
    "# Calculating area of a circle\n",
    "radius = 10                                 # radius of a circle\n",
    "area_of_circle = 3.14 * radius ** 2         # two * sign means exponent or power\n",
    "print('Area of a circle:', area_of_circle)\n",
    "\n",
    "# Calculating area of a rectangle\n",
    "length = 10\n",
    "width = 20\n",
    "area_of_rectangle = length * width\n",
    "print('Area of rectangle:', area_of_rectangle)\n",
    "\n",
    "# Calculating a weight of an object\n",
    "mass = 75\n",
    "gravity = 9.81\n",
    "weight = mass * gravity\n",
    "print(weight, 'N')                         # Adding unit to the weight\n",
    "\n",
    "# Calculate the density of a liquid\n",
    "mass = 75 # in Kg\n",
    "volume = 0.075 # in cubic meter\n",
    "density = mass / volume # 1000 Kg/m^3\n",
    "\n",
    "print(density)"
   ]
  },
  {
   "cell_type": "code",
   "execution_count": null,
   "id": "ee31e4b5",
   "metadata": {},
   "outputs": [],
   "source": []
  },
  {
   "cell_type": "markdown",
   "id": "038b8fae",
   "metadata": {},
   "source": [
    "### Comparison Operators\n",
    "        - comparison operators to compare two values. We check if a value is greater or less or equal to other value. \n",
    "        - Result is always Either True or False\n",
    "        - Can be used to compare Values & Objects\n",
    "        - can be applied on integers , floats , strings\n",
    "        \n",
    " <img src = \"https://www.devopsschool.com/blog/wp-content/uploads/2020/08/relational-operator-in-python.png\" width=\"700\" height=\"700\">"
   ]
  },
  {
   "cell_type": "code",
   "execution_count": null,
   "id": "ff0ae1e5",
   "metadata": {},
   "outputs": [],
   "source": []
  },
  {
   "cell_type": "code",
   "execution_count": null,
   "id": "c5929871",
   "metadata": {},
   "outputs": [],
   "source": [
    "print(3 > 2)     # True, because 3 is greater than 2\n",
    "print(3 >= 2)    # True, because 3 is greater than 2\n",
    "print(3 < 2)     # False,  because 3 is greater than 2\n",
    "print(2 < 3)     # True, because 2 is less than 3\n",
    "print(2 <= 3)    # True, because 2 is less than 3\n",
    "print(3 == 2)    # False, because 3 is not equal to 2\n",
    "print(3 != 2)    # True, because 3 is not equal to 2\n",
    "\n",
    "\n",
    "print(len('mango') == len('avocado'))  # False\n",
    "print(len('mango') != len('avocado'))  # True\n",
    "print(len('mango') < len('avocado'))   # True\n",
    "print(len('milk') != len('meat'))      # False\n",
    "print(len('milk') == len('meat'))      # True\n",
    "print(len('tomato') == len('potato'))  # True\n",
    "print(len('python') > len('dragon'))   # False\n",
    "\n",
    "\n",
    "# Comparing something gives either a True or False\n",
    "\n",
    "print('True == True: ', True == True)\n",
    "print('True == False: ', True == False)\n",
    "print('False == False:', False == False)"
   ]
  },
  {
   "cell_type": "code",
   "execution_count": null,
   "id": "b5070b64",
   "metadata": {},
   "outputs": [],
   "source": [
    "1. = is used for assignment \n",
    "ex: varName = value \n",
    "\n",
    "2. == is used for comparision \n",
    "ex: 10 ==12"
   ]
  },
  {
   "cell_type": "code",
   "execution_count": 34,
   "id": "9f06ef23",
   "metadata": {},
   "outputs": [
    {
     "name": "stdout",
     "output_type": "stream",
     "text": [
      "True\n"
     ]
    }
   ],
   "source": [
    "print(10.2>6.5)"
   ]
  },
  {
   "cell_type": "code",
   "execution_count": 36,
   "id": "bcc767f4",
   "metadata": {},
   "outputs": [
    {
     "name": "stdout",
     "output_type": "stream",
     "text": [
      "True\n"
     ]
    }
   ],
   "source": [
    "print('a'>'A')"
   ]
  },
  {
   "cell_type": "code",
   "execution_count": 35,
   "id": "39aebd66",
   "metadata": {},
   "outputs": [
    {
     "name": "stdout",
     "output_type": "stream",
     "text": [
      "97 65\n"
     ]
    }
   ],
   "source": [
    "print(ord('a') , ord('A'))"
   ]
  },
  {
   "cell_type": "markdown",
   "id": "d5df3814",
   "metadata": {},
   "source": [
    "### Identity Operator \n",
    "        is: Returns true if both variables are the same object(x is y)\n",
    "        is not: Returns true if both variables are not the same object(x is not y)\n",
    "    \n",
    "### MemberShip Opeator\n",
    "        in: Returns True if the queried list contains a certain item(x in y)\n",
    "        not in: Returns True if the queried list doesn't have a certain item(x not in y)"
   ]
  },
  {
   "cell_type": "code",
   "execution_count": 37,
   "id": "10b87118",
   "metadata": {},
   "outputs": [
    {
     "name": "stdout",
     "output_type": "stream",
     "text": [
      "1 is 1 True\n",
      "1 is not 2 True\n",
      "A in Asabeneh True\n",
      "B in Asabeneh False\n",
      "True\n",
      "a in an: True\n",
      "4 is 2 ** 2: True\n"
     ]
    },
    {
     "name": "stderr",
     "output_type": "stream",
     "text": [
      "<>:1: SyntaxWarning: \"is\" with a literal. Did you mean \"==\"?\n",
      "<>:2: SyntaxWarning: \"is not\" with a literal. Did you mean \"!=\"?\n",
      "<>:7: SyntaxWarning: \"is\" with a literal. Did you mean \"==\"?\n",
      "<>:1: SyntaxWarning: \"is\" with a literal. Did you mean \"==\"?\n",
      "<>:2: SyntaxWarning: \"is not\" with a literal. Did you mean \"!=\"?\n",
      "<>:7: SyntaxWarning: \"is\" with a literal. Did you mean \"==\"?\n",
      "<ipython-input-37-c9a4367e925a>:1: SyntaxWarning: \"is\" with a literal. Did you mean \"==\"?\n",
      "  print('1 is 1', 1 is 1)                   # True - because the data values are the same\n",
      "<ipython-input-37-c9a4367e925a>:2: SyntaxWarning: \"is not\" with a literal. Did you mean \"!=\"?\n",
      "  print('1 is not 2', 1 is not 2)           # True - because 1 is not 2\n",
      "<ipython-input-37-c9a4367e925a>:7: SyntaxWarning: \"is\" with a literal. Did you mean \"==\"?\n",
      "  print('4 is 2 ** 2:', 4 is 2 ** 2)   # True\n"
     ]
    }
   ],
   "source": [
    "print('1 is 1', 1 is 1)                   # True - because the data values are the same\n",
    "print('1 is not 2', 1 is not 2)           # True - because 1 is not 2\n",
    "print('A in Asabeneh', 'A' in 'Asabeneh') # True - A found in the string\n",
    "print('B in Asabeneh', 'B' in 'Asabeneh') # False - there is no uppercase B\n",
    "print('coding' in 'coding for all') # True - because coding for all has the word coding\n",
    "print('a in an:', 'a' in 'an')      # True\n",
    "print('4 is 2 ** 2:', 4 is 2 ** 2)   # True"
   ]
  },
  {
   "cell_type": "code",
   "execution_count": 41,
   "id": "80dc0c6d",
   "metadata": {},
   "outputs": [
    {
     "name": "stdout",
     "output_type": "stream",
     "text": [
      "True\n",
      "False\n",
      "140722900183120 140722900183120\n",
      "False\n",
      "True\n",
      "140722900183760 140722900184592\n"
     ]
    }
   ],
   "source": [
    "a = 10\n",
    "b = 10 \n",
    "print(a is b)\n",
    "print(a is not b)\n",
    "\n",
    "print(id(a) , id(b))\n",
    "\n",
    "\n",
    "c = 30\n",
    "d = 56\n",
    "\n",
    "print(c is d)\n",
    "print(c is not d)\n",
    "\n",
    "print(id(c) , id(d))"
   ]
  },
  {
   "cell_type": "code",
   "execution_count": null,
   "id": "921ec390",
   "metadata": {},
   "outputs": [],
   "source": []
  },
  {
   "cell_type": "code",
   "execution_count": 42,
   "id": "6968ea6a",
   "metadata": {},
   "outputs": [
    {
     "name": "stdout",
     "output_type": "stream",
     "text": [
      "False\n"
     ]
    }
   ],
   "source": [
    "print(\"Kumar\" in \"KUmar rajamoni\")"
   ]
  },
  {
   "cell_type": "code",
   "execution_count": 49,
   "id": "c8bd6904",
   "metadata": {},
   "outputs": [
    {
     "name": "stdout",
     "output_type": "stream",
     "text": [
      "True\n",
      "False\n"
     ]
    }
   ],
   "source": [
    "print(10 in [10,20,304,20])\n",
    "print(100 not in [10,20,304,20,100])"
   ]
  },
  {
   "cell_type": "code",
   "execution_count": 47,
   "id": "dac1e905",
   "metadata": {},
   "outputs": [
    {
     "name": "stdout",
     "output_type": "stream",
     "text": [
      "True\n"
     ]
    }
   ],
   "source": [
    "print(\"age\" in {\"name\":\"John\",\"age\":30})\n",
    "# in operator on dictionary will search only keys"
   ]
  },
  {
   "cell_type": "code",
   "execution_count": null,
   "id": "1c028b35",
   "metadata": {},
   "outputs": [],
   "source": []
  },
  {
   "cell_type": "markdown",
   "id": "d4dd5cc1",
   "metadata": {},
   "source": [
    "### Logical Operators\n",
    "    Logical operators are used to combine conditional statements:\n",
    "<img src = \"https://1.bp.blogspot.com/-k27I3cNB6zE/XYTAZv3C07I/AAAAAAAAAy0/KobVTHHhCJUVpg7D19HhI4ddrh0IU5GKgCLcBGAsYHQ/s1600/LogicalOperators.png\" height=\"600\" width=\"600\" > "
   ]
  },
  {
   "cell_type": "code",
   "execution_count": null,
   "id": "f8fae4a3",
   "metadata": {},
   "outputs": [],
   "source": [
    "print(type(\"Kumar\"))\n",
    "\n",
    "\n",
    "print(type([\"Kumar\",\"Rajamoni\"]))"
   ]
  },
  {
   "cell_type": "code",
   "execution_count": null,
   "id": "4bbad6d4",
   "metadata": {},
   "outputs": [],
   "source": [
    "name = \"fury\"\n",
    "passwd = 1234\n",
    "print(type(name),type(['fury'] ))\n",
    "\n",
    "\n",
    "print(name == ['fury'] and passwd == 1234) #both\n",
    "\n",
    "print(name ==\"fur\" or passwd == 1234) #atleast \n",
    "\n",
    "print(not (name ==\"fury\" and passwd==1234))"
   ]
  },
  {
   "cell_type": "code",
   "execution_count": null,
   "id": "67f348e5",
   "metadata": {},
   "outputs": [],
   "source": []
  },
  {
   "cell_type": "code",
   "execution_count": null,
   "id": "75a49177",
   "metadata": {},
   "outputs": [],
   "source": [
    "#login application \n",
    "\n",
    "database = {\"username\":\"kumar\",\"passwd\":\"kumar123\"}\n",
    "\n",
    "username = input(\"Enter the username: \")\n",
    "\n",
    "passwd = input(\"Enter the passsword: \")\n",
    "\n",
    "if username != database[\"username\"]:\n",
    "    print(\"Invalid username\")\n",
    "if passwd != database[\"passwd\"]:\n",
    "    print(\"Invalid passwd\")\n",
    "    \n",
    "if username == database[\"username\"] and passwd == database[\"passwd\"]:\n",
    "    print(\"Login Success\")\n",
    "\n",
    "else:\n",
    "    print(\"Invalid Creds\")\n",
    "    \n",
    "    "
   ]
  },
  {
   "cell_type": "code",
   "execution_count": null,
   "id": "451c5a33",
   "metadata": {},
   "outputs": [],
   "source": []
  },
  {
   "cell_type": "code",
   "execution_count": null,
   "id": "7f10aba6",
   "metadata": {},
   "outputs": [],
   "source": []
  },
  {
   "cell_type": "markdown",
   "id": "f0495cd8",
   "metadata": {},
   "source": [
    "###  Bitwise \n",
    "\n",
    "    Bitwise operator is used to compare the Binary bits \n",
    "\n",
    "    Operator \tName \tDescription\n",
    "\n",
    "    (& ) \tAND \tSets each bit to 1 if both bits are 1\n",
    "\n",
    "    (|) \tOR \tSets each bit to 1 if one of two bits is 1\n",
    "\n",
    "     (^)\tXOR \tSets each bit to 1 if both bits are different , otherwise 0\n",
    "\n",
    "    (~ ) \tNOT \tInverts all the bits (only for not operand)\n",
    "\n",
    "    A  B     AND  OR  NOT XOR\n",
    "    0 0     0    0     1    0\n",
    "    0 1     0    1     1    1\n",
    "    1 0     0    1     0    1\n",
    "    1 1     1    1     0    0"
   ]
  },
  {
   "cell_type": "code",
   "execution_count": null,
   "id": "623b6ddd",
   "metadata": {},
   "outputs": [],
   "source": [
    "    \n",
    "print(bin(25))"
   ]
  },
  {
   "cell_type": "code",
   "execution_count": null,
   "id": "4b854800",
   "metadata": {},
   "outputs": [],
   "source": [
    "#representing\n",
    "# 8 bit \n",
    "\n",
    "#table \n",
    "\n",
    "loations : 7   |6  | 5 |4 | 3 | 2 | 1 |0 #2 powers locations 00000110\n",
    "\n",
    "values :   128 |64 |32 |16| 8 | 4 | 2  |1    min =0 max = 255\n",
    "\n",
    "    "
   ]
  },
  {
   "cell_type": "code",
   "execution_count": null,
   "id": "eda05c79",
   "metadata": {},
   "outputs": [],
   "source": [
    "# bin() -- gives binary notation value of decimal no.\n",
    "print(bin(69))\n",
    "print(bin(20))\n",
    "print(bin(37))\n",
    "print(bin(57))\n",
    "print(bin(222))\n",
    "\n"
   ]
  },
  {
   "cell_type": "code",
   "execution_count": null,
   "id": "c5271a72",
   "metadata": {},
   "outputs": [],
   "source": []
  },
  {
   "cell_type": "code",
   "execution_count": null,
   "id": "8f9d1faa",
   "metadata": {},
   "outputs": [],
   "source": [
    "a = 3\n",
    "b = 4\n",
    "\n",
    "# 3 - 0 1  1\n",
    "# 4 - 1 0  0\n",
    "# -----------------\n",
    "#     0  0   0\n",
    "# \n",
    "## AND 000\n",
    "\n",
    "## OR 111\n",
    "\n",
    "##EXOR 111\n",
    "\n",
    "## NOT 100\n",
    "\n",
    "print(a & b)\n",
    "\n",
    "print(a | b)\n",
    "\n",
    "print(a ^ b)\n",
    "\n",
    "#sign bit \n",
    "\n",
    "#0 -ve\n",
    "#1 +ve"
   ]
  },
  {
   "cell_type": "code",
   "execution_count": null,
   "id": "32d335b7",
   "metadata": {},
   "outputs": [],
   "source": []
  },
  {
   "cell_type": "code",
   "execution_count": null,
   "id": "a7612b85",
   "metadata": {},
   "outputs": [],
   "source": [
    "a = 3 #011\n",
    "print(bin(a))\n",
    "    \n",
    "print(~a) #a=3 #100\n",
    "\n",
    "# 3 011\n",
    "#\n",
    "# invert\n",
    "# - (011+1) #doing the 1's compliment\n",
    "#- 100 = -4\n"
   ]
  },
  {
   "cell_type": "code",
   "execution_count": null,
   "id": "529c74ea",
   "metadata": {},
   "outputs": [],
   "source": []
  },
  {
   "cell_type": "code",
   "execution_count": null,
   "id": "33cf729d",
   "metadata": {},
   "outputs": [],
   "source": [
    "# Right Shift \n",
    "\n",
    "# Bitwise right shift: Shifts the bits of the number to the right and fills 0 on voids left as a result. \n",
    "# Similar effect as of dividing the number with some power of two.\n",
    "# n//2^bits\n",
    "\n",
    "a = 10\n",
    "print(a>>2)\n",
    "\n",
    "#00001010 =>10\n",
    "# after shifting 2bits to the Right\n",
    "\n",
    "#00000010 =>2\n",
    "\n",
    "# 00000010\n",
    "\n"
   ]
  },
  {
   "cell_type": "code",
   "execution_count": null,
   "id": "b38155c9",
   "metadata": {},
   "outputs": [],
   "source": [
    "print(10//(2**2))"
   ]
  },
  {
   "cell_type": "code",
   "execution_count": null,
   "id": "8f98b4bb",
   "metadata": {},
   "outputs": [],
   "source": [
    "#left shift\n",
    "\n",
    "# Bitwise left shift: Shifts the bits of the number to the left and fills 0 on voids right as a result. \n",
    "# Similar effect as of multiplying the number with some power of two.\n",
    "\n",
    "# n*2^bits\n",
    "# 10*2**2\n",
    "\n",
    "a = 10\n",
    "print(a<<2)\n",
    "\n",
    "# 8bit\n",
    "#00001010 =>10\n",
    "#00010100 = 20\n",
    "\n",
    "# after shifting 1 bit to the left\n",
    "\n",
    "#00010100 =>20\n"
   ]
  },
  {
   "cell_type": "code",
   "execution_count": null,
   "id": "85ac50c8",
   "metadata": {},
   "outputs": [],
   "source": [
    "print(10*(2**2))"
   ]
  },
  {
   "cell_type": "code",
   "execution_count": null,
   "id": "4bd70c48",
   "metadata": {},
   "outputs": [],
   "source": []
  },
  {
   "cell_type": "markdown",
   "id": "1afba7aa",
   "metadata": {},
   "source": [
    "### Operator Precedence\n",
    "\n",
    "- When dealing with operators in Python we have to know about the concept of Python operator precedence and associativity \n",
    "- as these determine the priorities of the operator otherwise, we’ll see unexpected outputs.\n",
    "\n",
    "#### Operator Precedence:\n",
    "        This is used in an expression with more than one operator with different precedence to determine which operation to perform first\n",
    "\n",
    "\n",
    "<img src = \"https://learningmonkey.in/wp-content/uploads/2021/05/Operator-Precedence-and-Associativity-in-Python.jpg\">\n"
   ]
  },
  {
   "cell_type": "code",
   "execution_count": null,
   "id": "ce83224a",
   "metadata": {},
   "outputs": [],
   "source": []
  },
  {
   "cell_type": "code",
   "execution_count": null,
   "id": "516d187d",
   "metadata": {},
   "outputs": [],
   "source": [
    "print(10+20*30/10)"
   ]
  },
  {
   "cell_type": "code",
   "execution_count": null,
   "id": "5f933ba3",
   "metadata": {},
   "outputs": [],
   "source": [
    "a = (10+20) * 30/10\n",
    "\n",
    "print(a)\n"
   ]
  },
  {
   "cell_type": "code",
   "execution_count": null,
   "id": "06c996ba",
   "metadata": {},
   "outputs": [],
   "source": [
    "a =  2+3*8/2-10**4%2//10\n",
    "\n",
    "print(a)"
   ]
  },
  {
   "cell_type": "code",
   "execution_count": null,
   "id": "4c9f813a",
   "metadata": {},
   "outputs": [],
   "source": []
  },
  {
   "cell_type": "code",
   "execution_count": null,
   "id": "c4796e57",
   "metadata": {},
   "outputs": [],
   "source": [
    "name = \"Ak\"\n",
    "age = 0\n",
    "  \n",
    "if name == \"Ak\" or name == \"John\" and age >= 2 : \n",
    "  print(\"Hello! Welcome.\")\n",
    "else :\n",
    "  print(\"Good Bye!!\")\n"
   ]
  },
  {
   "cell_type": "code",
   "execution_count": null,
   "id": "6e45886d",
   "metadata": {},
   "outputs": [],
   "source": []
  },
  {
   "cell_type": "code",
   "execution_count": null,
   "id": "0ee0cde9",
   "metadata": {},
   "outputs": [],
   "source": [
    "name = \"Ak\"\n",
    "age = 0\n",
    "  \n",
    "if ( name == \"Ak\" or name == \"John\" ) and age >= 2 :\n",
    "  print(\"Hello! Welcome.\")\n",
    "else :\n",
    "  print(\"Good Bye!!\")"
   ]
  },
  {
   "cell_type": "code",
   "execution_count": null,
   "id": "304fb840",
   "metadata": {},
   "outputs": [],
   "source": []
  },
  {
   "cell_type": "markdown",
   "id": "d211b0f9",
   "metadata": {},
   "source": [
    "##### Operator Associativity: \n",
    "    If an expression contains two or more operators with the same precedence then Operator Associativity is used to determine. \n",
    "        It can either be Left to Right or from Right to Left."
   ]
  },
  {
   "cell_type": "code",
   "execution_count": null,
   "id": "1c84e229",
   "metadata": {},
   "outputs": [],
   "source": [
    "print(200 / 10 * 10)"
   ]
  },
  {
   "cell_type": "code",
   "execution_count": null,
   "id": "e23928ad",
   "metadata": {},
   "outputs": [],
   "source": [
    "print(5 - 2 + 3)"
   ]
  },
  {
   "cell_type": "code",
   "execution_count": null,
   "id": "95ea6ea7",
   "metadata": {},
   "outputs": [],
   "source": [
    "#right to left\n",
    "print(2 ** 3 ** 2)"
   ]
  },
  {
   "cell_type": "code",
   "execution_count": null,
   "id": "181012ef",
   "metadata": {},
   "outputs": [],
   "source": []
  }
 ],
 "metadata": {
  "kernelspec": {
   "display_name": "Python 3",
   "language": "python",
   "name": "python3"
  },
  "language_info": {
   "codemirror_mode": {
    "name": "ipython",
    "version": 3
   },
   "file_extension": ".py",
   "mimetype": "text/x-python",
   "name": "python",
   "nbconvert_exporter": "python",
   "pygments_lexer": "ipython3",
   "version": "3.8.8"
  }
 },
 "nbformat": 4,
 "nbformat_minor": 5
}
