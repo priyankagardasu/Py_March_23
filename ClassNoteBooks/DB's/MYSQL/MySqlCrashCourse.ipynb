{
 "cells": [
  {
   "cell_type": "markdown",
   "id": "a88165b3",
   "metadata": {},
   "source": [
    "## What Is a Database?\n",
    "\n",
    "> A database is an organized collection of structured information, or data, typically stored electronically in a computer system. \n",
    "\n",
    "**A database is usually controlled by a database management system (DBMS).**\n",
    "\n",
    "- Together, the data and the DBMS, along with the applications that are associated with them, are referred to as a database system, often shortened to just database.\n",
    "\n",
    "\n",
    "```Data within the most common types of databases in operation today is typically modeled in rows and columns in a series of tables to make processing and data querying efficient. ```\n",
    "\n",
    "```The data can then be easily accessed, managed, modified, updated, controlled, and organized. ```\n",
    "\n",
    "Most databases use structured query language (SQL) for writing and querying data."
   ]
  },
  {
   "cell_type": "markdown",
   "id": "5815d936",
   "metadata": {},
   "source": [
    "### Evolution of the database"
   ]
  },
  {
   "cell_type": "markdown",
   "id": "9f0b4230",
   "metadata": {},
   "source": [
    "- Databases have evolved dramatically since their inception in the early 1960s. \n",
    "\n",
    "```Navigational databases such as the hierarchical database (which relied on a tree-like model and allowed only a one-to-many relationship), and the network database (a more flexible model that allowed multiple relationships), were the original systems used to store and manipulate data.``` \n",
    "\n",
    "\n",
    "- Although simple, these early systems were inflexible. \n",
    "\n",
    "- In the 1980s, relational databases became popular, followed by object-oriented databases in the 1990s. \n",
    "\n",
    "*More recently, NoSQL databases came about as a response to the growth of the internet and the need for faster speed and processing of unstructured data.* \n",
    "\n",
    "```Today, cloud databases and self-driving databases are breaking new ground when it comes to how data is collected, stored, managed, and utilized.```"
   ]
  },
  {
   "cell_type": "markdown",
   "id": "cb063e52",
   "metadata": {},
   "source": [
    "### Types\n",
    "\n",
    "```There are many different types of databases. The best database for a specific organization depends on how the organization intends to use the data. ```\n",
    "\n",
    "\n",
    "**Relational databases**\n",
    "\n",
    "- Relational databases became dominant in the 1980s. \n",
    "- Items in a relational database are organized as a set of tables with columns and rows. \n",
    "- Relational database technology provides the most efficient and flexible way to access structured information.\n",
    "\n",
    "    \n",
    "**Object-oriented databases**\n",
    "   \n",
    "   - Information in an object-oriented database is represented in the form of objects, as in object-oriented programming.\n",
    "    \n",
    "    \n",
    "**Distributed databases**\n",
    "    \n",
    "- A distributed database consists of two or more files located in different sites. The database may be stored on multiple computers, located in the same physical location, or scattered over different networks.\n",
    "\n",
    "   \n",
    "**Data warehouses**\n",
    "    \n",
    "- A central repository for data, a data warehouse is a type of database specifically designed for fast query and analysis.\n",
    "    \n",
    "    \n",
    "**NoSQL databases**\n",
    "\n",
    "   -  A NoSQL, or nonrelational database, allows unstructured and semistructured data to be stored and manipulated (in contrast to a relational database, which defines how all data inserted into the database must be composed). \n",
    "   - NoSQL databases grew popular as web applications became more common and more complex.\n",
    "    \n",
    "    \n",
    "    \n",
    "**Graph databases**\n",
    "  - A graph database stores data in terms of entities and the relationships between entities.\n",
    "    \n",
    "    \n",
    "**OLTP databases.**\n",
    "  - An OLTP database is a speedy, analytic database designed for large numbers of transactions performed by multiple users.\n",
    "\n",
    "\n",
    "**Some of the latest databases include**\n",
    "\n",
    "   - Open source databases\n",
    "   - Cloud databases\n",
    "   - Multimodel database\n",
    "   - Document/JSON database\n"
   ]
  },
  {
   "cell_type": "code",
   "execution_count": null,
   "id": "0c160627",
   "metadata": {},
   "outputs": [],
   "source": []
  },
  {
   "cell_type": "code",
   "execution_count": null,
   "id": "154b952a",
   "metadata": {},
   "outputs": [],
   "source": []
  },
  {
   "cell_type": "markdown",
   "id": "9d147f87",
   "metadata": {},
   "source": [
    "### What is a database management system (DBMS)?\n",
    "\n",
    "\n",
    "> A database typically requires a comprehensive database software program known as a database management system (DBMS).\n",
    "\n",
    "```A DBMS serves as an interface between the database and its end users or programs, allowing users to retrieve, update, and manage how the information is organized and optimized.```\n",
    "\n",
    "- A DBMS also facilitates oversight and control of databases, enabling a variety of administrative operations such as performance monitoring, tuning, and backup and recovery.\n",
    "\n",
    "- Some examples of popular database software or DBMSs include MySQL, Microsoft Access, Microsoft SQL Server, FileMaker Pro, Oracle Database, and dBASE."
   ]
  },
  {
   "cell_type": "code",
   "execution_count": null,
   "id": "9f103210",
   "metadata": {},
   "outputs": [],
   "source": []
  },
  {
   "cell_type": "markdown",
   "id": "d792522f",
   "metadata": {},
   "source": [
    "### Database challenges\n",
    "\n",
    "Today’s large enterprise databases often support very complex queries and are expected to deliver nearly instant responses to those queries. As a result, database administrators are constantly called upon to employ a wide variety of methods to help improve performance. \n",
    "\n",
    "- Some common challenges that they face include:\n",
    "\n",
    "    - Absorbing significant increases in data volume. \n",
    "    - Ensuring data security.\n",
    "    - Keeping up with demand. \n",
    "    - Managing and maintaining the database and infrastructure. \n",
    "    - Removing limits on scalability. \n",
    "    - Ensuring data residency, data sovereignty, or latency requirements. \n"
   ]
  },
  {
   "cell_type": "code",
   "execution_count": null,
   "id": "9bd1354e",
   "metadata": {},
   "outputs": [],
   "source": []
  },
  {
   "cell_type": "markdown",
   "id": "a1be1004",
   "metadata": {},
   "source": [
    "### What is a MySQL database?\n",
    "\n",
    "```MySQL is an open source relational database management system based on SQL. ```\n",
    "\n",
    "- It was designed and optimized for web applications and can run on any platform. \n",
    "\n",
    "- As new and different requirements emerged with the internet, MySQL became the platform of choice for web developers and web-based applications. \n",
    "\n",
    "**Because it’s designed to process millions of queries and thousands of transactions, MySQL is a popular choice for ecommerce businesses that need to manage multiple money transfers. On-demand flexibility is the primary feature of MySQL**.\n",
    "\n",
    "- MySQL is the DBMS behind some of the top websites and web-based applications in the world, including Airbnb, Uber, LinkedIn, Facebook, Twitter, and YouTube.\n",
    "\n",
    "\n",
    "MySQL is a widely used relational database management system (RDBMS).\n",
    "\n",
    "MySQL is free and open-source.\n",
    "\n",
    "MySQL is ideal for both small and large applications."
   ]
  },
  {
   "cell_type": "code",
   "execution_count": null,
   "id": "49873f02",
   "metadata": {},
   "outputs": [],
   "source": []
  },
  {
   "cell_type": "code",
   "execution_count": null,
   "id": "77677392",
   "metadata": {},
   "outputs": [],
   "source": [
    "SQL vs NOSQL \n",
    "------------------\n"
   ]
  },
  {
   "cell_type": "markdown",
   "id": "8218b658",
   "metadata": {},
   "source": [
    "### Installation\n",
    "\n",
    "Please click on the below link for MySql Community Server download \n",
    "- https://dev.mysql.com/downloads/installer/\n",
    "\n",
    "\n",
    "- WorkBench \n",
    "- Shell \n",
    "- Connectors\n",
    "\n",
    "Popular commands \n",
    "- https://www.mysqltutorial.org/mysql-cheat-sheet.aspx\n",
    "\n",
    "Datatypes\n",
    "- https://www.w3schools.com/mysql/mysql_datatypes.asp\n"
   ]
  },
  {
   "cell_type": "markdown",
   "id": "99a6ea45",
   "metadata": {},
   "source": [
    "### Connecting with Shell \n",
    "\n",
    "- Open Command Prompt;\n",
    "\n",
    "    mysql -u root -p\n",
    "   \n",
    " \n"
   ]
  },
  {
   "cell_type": "markdown",
   "id": "ce521fb2",
   "metadata": {},
   "source": [
    "#### Database creation\n",
    "\n",
    "```sql\n",
    "CREATE DATABASE IF NOT EXISTS STUDENTS\n",
    "```"
   ]
  },
  {
   "cell_type": "code",
   "execution_count": null,
   "id": "d5d4100c",
   "metadata": {},
   "outputs": [],
   "source": []
  }
 ],
 "metadata": {
  "kernelspec": {
   "display_name": "Python 3 (ipykernel)",
   "language": "python",
   "name": "python3"
  },
  "language_info": {
   "codemirror_mode": {
    "name": "ipython",
    "version": 3
   },
   "file_extension": ".py",
   "mimetype": "text/x-python",
   "name": "python",
   "nbconvert_exporter": "python",
   "pygments_lexer": "ipython3",
   "version": "3.10.9"
  }
 },
 "nbformat": 4,
 "nbformat_minor": 5
}
