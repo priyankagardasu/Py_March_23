{
 "cells": [
  {
   "cell_type": "markdown",
   "metadata": {},
   "source": [
    "## Inheritance\n",
    "\n",
    "- Parent child relationship , in the same way like Class and sub class relationship.\n",
    "\n",
    "- Inheritance is the capability of one class to derive or inherit the properties from another class. The benefits of inheritance are:\n",
    "\n",
    "- The process of driving is called Inheriting .\n",
    "\n",
    "- It represents real-world relationships well.\n",
    "- It provides reusability of a code. We don’t have to write the same code again and again. Also, it allows us to add more features to a class without modifying it.\n",
    "- It is transitive in nature, which means that if class B inherits from another class A, then all the subclasses of B would automatically inherit from class A.\n",
    "\n",
    "\n",
    "Inheritance allows us to define a class that inherits all the methods and properties from another class.\n",
    "\n",
    "Parent class is the class being inherited from, also called base class.\n",
    "\n",
    "Child class is the class that inherits from another class, also called derived class."
   ]
  },
  {
   "cell_type": "markdown",
   "metadata": {},
   "source": [
    "<img src = \"https://scaler.com/topics/images/single-inheritance-in-python-1024x615.webp\" width=\"600\" height=\"600\">"
   ]
  },
  {
   "cell_type": "markdown",
   "metadata": {},
   "source": [
    "syntax :\n",
    "\n",
    "class BaseClassName:\n",
    "\n",
    "    //attributes\n",
    "    \n",
    "    //methods\n",
    "\n",
    "\n",
    "\n",
    "class DerivedClassName(BaseClassName):\n",
    "\n",
    "    pass"
   ]
  },
  {
   "cell_type": "markdown",
   "metadata": {},
   "source": [
    "#### Parent"
   ]
  },
  {
   "cell_type": "code",
   "execution_count": 1,
   "metadata": {},
   "outputs": [],
   "source": [
    "class Person:\n",
    "    def __init__(self, fname, lname):\n",
    "        \n",
    "        #instance attributes -- object var's\n",
    "        self.firstname = fname\n",
    "        self.lastname = lname\n",
    "    \n",
    "    # instance methods\n",
    "    def _printname(self):\n",
    "        print(self.firstname, self.lastname)\n",
    "    def _welcome(self):\n",
    "        print(\"Hello from parent class\")\n",
    "\n",
    "\n",
    "\n",
    "p = Person(\"John\", \"wick\") #object creation\n"
   ]
  },
  {
   "cell_type": "code",
   "execution_count": 2,
   "metadata": {},
   "outputs": [
    {
     "data": {
      "text/plain": [
       "{'firstname': 'John', 'lastname': 'wick'}"
      ]
     },
     "execution_count": 2,
     "metadata": {},
     "output_type": "execute_result"
    }
   ],
   "source": [
    "p.__dict__"
   ]
  },
  {
   "cell_type": "code",
   "execution_count": 3,
   "metadata": {},
   "outputs": [
    {
     "name": "stdout",
     "output_type": "stream",
     "text": [
      "Hello from parent class\n"
     ]
    }
   ],
   "source": [
    "p._welcome()"
   ]
  },
  {
   "cell_type": "code",
   "execution_count": 4,
   "metadata": {},
   "outputs": [
    {
     "name": "stdout",
     "output_type": "stream",
     "text": [
      "John wick\n"
     ]
    }
   ],
   "source": [
    "p._printname()"
   ]
  },
  {
   "cell_type": "code",
   "execution_count": 7,
   "metadata": {},
   "outputs": [
    {
     "name": "stdout",
     "output_type": "stream",
     "text": [
      "John\n",
      "wick\n"
     ]
    }
   ],
   "source": [
    "print(p.firstname)\n",
    "print(p.lastname)"
   ]
  },
  {
   "cell_type": "markdown",
   "metadata": {},
   "source": [
    "##### child\n",
    "\n",
    "- To create a class that inherits the functionality from another class, send the parent class as a parameter when creating the child class:\n",
    "\n",
    "- Note: Use the pass keyword when you do not want to add any other properties or methods to the class."
   ]
  },
  {
   "cell_type": "code",
   "execution_count": null,
   "metadata": {},
   "outputs": [],
   "source": [
    "class Person:\n",
    "    def __init__(self, fname, lname):\n",
    "        self.firstname = fname\n",
    "        self.lastname = lname\n",
    "\n",
    "    def _printname(self):\n",
    "        print(self.firstname, self.lastname)\n",
    "    def _welcome(self):\n",
    "        print(\"Hello from parent class\")"
   ]
  },
  {
   "cell_type": "code",
   "execution_count": 9,
   "metadata": {},
   "outputs": [
    {
     "name": "stdout",
     "output_type": "stream",
     "text": [
      "Ellen Page\n",
      "Ellen\n",
      "Page\n",
      "{'firstname': 'Ellen', 'lastname': 'Page'}\n"
     ]
    }
   ],
   "source": [
    "class Student(Person):\n",
    "    pass\n",
    "\n",
    "\n",
    "s = Student(\"Ellen\" ,\"Page\")\n",
    "\n",
    "s._printname()\n",
    "print(s.firstname)\n",
    "print(s.lastname)\n",
    "print(s.__dict__)\n"
   ]
  },
  {
   "cell_type": "code",
   "execution_count": null,
   "metadata": {},
   "outputs": [],
   "source": []
  },
  {
   "cell_type": "code",
   "execution_count": null,
   "metadata": {},
   "outputs": [],
   "source": []
  },
  {
   "cell_type": "markdown",
   "metadata": {},
   "source": [
    "### __init__() method in child class\n",
    "\n",
    "- When you want to add the init() method in  child  and also in parent class , it will raise to new concept\n",
    "\n",
    "##### Note: The __init__() function is called automatically every time the class is being used to create a new object.\n",
    "\n",
    "- When you add the __init__() function, the child class will no longer inherit the parent's __init__() function.\n",
    "\n",
    "- To keep the inheritance of the parent's __init__() function, add a call to the parent's __init__() function:"
   ]
  },
  {
   "cell_type": "code",
   "execution_count": null,
   "metadata": {},
   "outputs": [],
   "source": [
    "class Person:\n",
    "    def __init__(self, fname, lname):\n",
    "        self.firstname = fname\n",
    "        self.lastname = lname\n",
    "\n",
    "    def _printname(self):\n",
    "        print(self.firstname, self.lastname)\n",
    "    def _welcome(self):\n",
    "        print(\"Hello from parent class\")"
   ]
  },
  {
   "cell_type": "code",
   "execution_count": 12,
   "metadata": {},
   "outputs": [
    {
     "name": "stdout",
     "output_type": "stream",
     "text": [
      "Ellen Page\n",
      "Ellen\n",
      "Page\n"
     ]
    }
   ],
   "source": [
    "class Student(Person):\n",
    "    def __init__(self, fname, lname):\n",
    "        super().__init__(fname,lname)\n",
    "\n",
    "        \n",
    "x = Student(\"Ellen\" ,\"Page\")\n",
    "x._printname()\n",
    "print(x.firstname)\n",
    "print(x.lastname)"
   ]
  },
  {
   "cell_type": "markdown",
   "metadata": {},
   "source": [
    "### why self?"
   ]
  },
  {
   "cell_type": "code",
   "execution_count": null,
   "metadata": {},
   "outputs": [],
   "source": [
    "class Car:\n",
    "    pass\n",
    "\n",
    "c1 = Car()\n",
    "c1.car_name = \"Tata EV\"\n",
    "c1.car_price = \"12L\"\n",
    "\n",
    "c1.__dict__"
   ]
  },
  {
   "cell_type": "code",
   "execution_count": null,
   "metadata": {},
   "outputs": [],
   "source": [
    "c2 = Car()\n",
    "\n",
    "c2.carName = \"Kia\"\n",
    "c2.carType = \"petrol\"\n",
    "\n",
    "c2.__dict__"
   ]
  },
  {
   "cell_type": "code",
   "execution_count": null,
   "metadata": {},
   "outputs": [],
   "source": [
    "class Car:\n",
    "    def __init__(self,a,b):\n",
    "        print(id(self))\n",
    "        self.carName = a\n",
    "        self.carPrice = b\n",
    "        \n",
    "\n",
    "c = Car(\"MG comet\" , 8)\n",
    "print(id(c))\n"
   ]
  },
  {
   "cell_type": "code",
   "execution_count": null,
   "metadata": {},
   "outputs": [],
   "source": [
    "c2 = Car(\"i20\" , 9)\n",
    "print(id(c2))"
   ]
  },
  {
   "cell_type": "code",
   "execution_count": null,
   "metadata": {},
   "outputs": [],
   "source": []
  },
  {
   "cell_type": "code",
   "execution_count": null,
   "metadata": {},
   "outputs": [],
   "source": []
  },
  {
   "cell_type": "markdown",
   "metadata": {},
   "source": [
    "#### Super() method\n",
    "\n",
    "- Python also has a super() function that will make the child class inherit all the methods and properties from its parent:\n",
    "\n",
    "- It is the first method in Child class init() method"
   ]
  },
  {
   "cell_type": "code",
   "execution_count": null,
   "metadata": {},
   "outputs": [],
   "source": []
  },
  {
   "cell_type": "code",
   "execution_count": null,
   "metadata": {},
   "outputs": [],
   "source": [
    "class Person:\n",
    "    def __init__(self, fname, lname):\n",
    "        self.firstname = fname\n",
    "        self.lastname = lname\n",
    "\n",
    "    def _printname(self):\n",
    "        print(self.firstname, self.lastname)\n",
    "    def _welcome(self):\n",
    "        print(\"Hello from parent class\")"
   ]
  },
  {
   "cell_type": "code",
   "execution_count": 13,
   "metadata": {},
   "outputs": [],
   "source": [
    "\n",
    "class Student(Person):\n",
    "    def __init__(self, fname, lname, year):\n",
    "        super().__init__(fname, lname)\n",
    "        self.graduationyear = year\n",
    "    def welcome(self):\n",
    "        print(\"Welcome\", self.firstname, self.lastname, \"to the class of\", self.graduationyear)"
   ]
  },
  {
   "cell_type": "code",
   "execution_count": 16,
   "metadata": {},
   "outputs": [
    {
     "name": "stdout",
     "output_type": "stream",
     "text": [
      "Welcome Java Gosling to the class of 1982\n"
     ]
    }
   ],
   "source": [
    "s = Student(\"Java\", \"Gosling\", 1982)\n",
    "s.welcome()"
   ]
  },
  {
   "cell_type": "code",
   "execution_count": 15,
   "metadata": {},
   "outputs": [
    {
     "data": {
      "text/plain": [
       "{'firstname': 'Java', 'lastname': 'Gosling', 'graduationyear': 1982}"
      ]
     },
     "execution_count": 15,
     "metadata": {},
     "output_type": "execute_result"
    }
   ],
   "source": [
    "s.__dict__"
   ]
  },
  {
   "cell_type": "code",
   "execution_count": 20,
   "metadata": {},
   "outputs": [
    {
     "data": {
      "text/plain": [
       "{'firstname': 'Dennis', 'lastname': 'Ritchie'}"
      ]
     },
     "execution_count": 20,
     "metadata": {},
     "output_type": "execute_result"
    }
   ],
   "source": [
    "p = Person(\"Dennis\",\"Ritchie\")\n",
    "p.__dict__"
   ]
  },
  {
   "cell_type": "code",
   "execution_count": 24,
   "metadata": {},
   "outputs": [
    {
     "ename": "AttributeError",
     "evalue": "'Person' object has no attribute 'graduationyear'",
     "output_type": "error",
     "traceback": [
      "\u001b[1;31m---------------------------------------------------------------------------\u001b[0m",
      "\u001b[1;31mAttributeError\u001b[0m                            Traceback (most recent call last)",
      "Cell \u001b[1;32mIn[24], line 1\u001b[0m\n\u001b[1;32m----> 1\u001b[0m \u001b[38;5;28mprint\u001b[39m(\u001b[43mp\u001b[49m\u001b[38;5;241;43m.\u001b[39;49m\u001b[43mgraduationyear\u001b[49m)\n",
      "\u001b[1;31mAttributeError\u001b[0m: 'Person' object has no attribute 'graduationyear'"
     ]
    }
   ],
   "source": [
    "print(p.graduationyear)"
   ]
  },
  {
   "cell_type": "code",
   "execution_count": null,
   "metadata": {},
   "outputs": [],
   "source": []
  },
  {
   "cell_type": "code",
   "execution_count": null,
   "metadata": {},
   "outputs": [],
   "source": [
    "#If you add a method in the child class \n",
    "# with the same name as a function \n",
    "# in the parent class, the inheritance of the \n",
    "# parent method will be overridden."
   ]
  },
  {
   "cell_type": "code",
   "execution_count": 26,
   "metadata": {},
   "outputs": [
    {
     "name": "stdout",
     "output_type": "stream",
     "text": [
      "hey iam from child\n"
     ]
    }
   ],
   "source": [
    "class A:\n",
    "    def welcome(self):\n",
    "        print(\"Hey Iam from Parent\")\n",
    "        \n",
    "class B(A):\n",
    "    def welcome(self):\n",
    "        print(\"hey iam from child\")\n",
    "        \n",
    "b = B()\n",
    "b.welcome()\n"
   ]
  },
  {
   "cell_type": "markdown",
   "metadata": {},
   "source": [
    "### Single level "
   ]
  },
  {
   "cell_type": "code",
   "execution_count": 27,
   "metadata": {},
   "outputs": [
    {
     "name": "stdout",
     "output_type": "stream",
     "text": [
      "Child Method\n",
      "10 + 20 + 30=80\n",
      "10 * 10 =100\n"
     ]
    }
   ],
   "source": [
    "class A:\n",
    "    def __init__(self,a,b):\n",
    "        self.num1=a\n",
    "        self.num2=b\n",
    "        \n",
    "    def add(self):\n",
    "        print(\"Parent method\")\n",
    "        print(f\"{self.num1} + {self.num2} ={self.num1+self.num2}\")\n",
    "    \n",
    "    def mult(self):\n",
    "        print(f\"{self.num1} * {self.num1} ={self.num1*self.num1}\")\n",
    "    \n",
    "\n",
    "class B(A):\n",
    "    def __init__(self,a,b,c):\n",
    "        super().__init__(a,b)\n",
    "\n",
    "        self.num3=c;\n",
    "        \n",
    "    def add(self):\n",
    "        print(\"Child Method\")\n",
    "        print(f\"{self.num1} + {self.num2} + {self.num3}={self.num1+self.num2+self.num2+self.num3}\")\n",
    "\n",
    "b = B(10,20,30)\n",
    "\n",
    "b.add()\n",
    "b.mult()\n"
   ]
  },
  {
   "cell_type": "markdown",
   "metadata": {},
   "source": [
    "## Guess the output"
   ]
  },
  {
   "cell_type": "code",
   "execution_count": null,
   "metadata": {},
   "outputs": [],
   "source": [
    "class X:\n",
    "    def hi(self):\n",
    "        print(\"Hi from Parent method\")\n",
    "\n",
    "class Y(X):\n",
    "    def hi(self):\n",
    "        print(\"Hi from Child method\")"
   ]
  },
  {
   "cell_type": "code",
   "execution_count": null,
   "metadata": {},
   "outputs": [],
   "source": [
    "x = X()\n",
    "x.hi()"
   ]
  },
  {
   "cell_type": "code",
   "execution_count": null,
   "metadata": {},
   "outputs": [],
   "source": [
    "y= Y()\n",
    "y.hi()"
   ]
  },
  {
   "cell_type": "code",
   "execution_count": null,
   "metadata": {},
   "outputs": [],
   "source": []
  },
  {
   "cell_type": "code",
   "execution_count": 39,
   "metadata": {},
   "outputs": [
    {
     "name": "stdout",
     "output_type": "stream",
     "text": [
      "Rahul\n",
      "23\n"
     ]
    }
   ],
   "source": [
    "class A:\n",
    "      def __init__(self, n = 'Rahul'):\n",
    "              self.name = n\n",
    "class B(A):\n",
    "      def __init__(self, roll):\n",
    "            A.__init__(self)\n",
    "            self.roll = roll\n",
    "  \n",
    "object = B(23)\n",
    "\n",
    "print (object.name)\n",
    "print(object.roll)"
   ]
  },
  {
   "cell_type": "code",
   "execution_count": null,
   "metadata": {},
   "outputs": [],
   "source": []
  },
  {
   "cell_type": "code",
   "execution_count": 42,
   "metadata": {},
   "outputs": [
    {
     "name": "stdout",
     "output_type": "stream",
     "text": [
      "IM displaying private attributes\n",
      "42\n",
      "42\n"
     ]
    }
   ],
   "source": [
    "class C():\n",
    "    def __init__(self):\n",
    "            self.c = 21\n",
    "            self.__d = 42\n",
    "    def display_d(self):\n",
    "        print(\"IM displaying private attributes\")\n",
    "        print(self.__d)\n",
    "class D(C):\n",
    "       def __init__(self):\n",
    "            C.__init__(self)\n",
    "            self.e = 84\n",
    "            \n",
    "\n",
    "#accesing out side            \n",
    "object1 = D()\n",
    "  \n",
    "\n",
    "object1.display_d()\n",
    "\n",
    "print(object1.__d) #private variable"
   ]
  },
  {
   "cell_type": "code",
   "execution_count": null,
   "metadata": {},
   "outputs": [],
   "source": []
  },
  {
   "cell_type": "code",
   "execution_count": null,
   "metadata": {},
   "outputs": [],
   "source": []
  },
  {
   "cell_type": "markdown",
   "metadata": {},
   "source": [
    "### Different forms of Inheritance\n",
    "\n",
    "1. Single inheritance: When a child class inherits from only one parent class, it is called single inheritance. We saw an example above.\n",
    "\n",
    "\n",
    "2. Multilevel inheritance: When we have a child and grandchild relationship.\n",
    "\n",
    "\n",
    "3. Multiple inheritance: When a child class inherits from multiple parent classes, it is called multiple inheritance. \n",
    "\n",
    "\n",
    "4. Hierarchical inheritance More than one derived classes are created from a single base.\n",
    "\n",
    "5. Hybrid inheritance: This form combines more than one form of inheritance. Basically, it is a blend of more than one type of inheritance.\n",
    "\n",
    "\n",
    "Unlike Java and like C++, Python supports multiple inheritance. We specify all parent classes as a comma-separated list in the bracket. "
   ]
  },
  {
   "cell_type": "markdown",
   "metadata": {},
   "source": [
    "###### Mutilevel\n",
    "\n",
    "A\n",
    "\n",
    "^\n",
    "\n",
    "|\n",
    "\n",
    "\n",
    "|\n",
    "\n",
    "B\n",
    "\n",
    "^\n",
    "\n",
    "|\n",
    "\n",
    "|\n",
    "\n",
    "^\n",
    "\n",
    "C\n",
    "\n",
    "|\n",
    "\n",
    "|\n",
    "\n",
    "^\n",
    "\n",
    "D\n",
    "\n"
   ]
  },
  {
   "cell_type": "code",
   "execution_count": 32,
   "metadata": {},
   "outputs": [
    {
     "name": "stdout",
     "output_type": "stream",
     "text": [
      "Iam Child.\n",
      "IAM Parent\n",
      "IAM GRAND\n"
     ]
    }
   ],
   "source": [
    "class GrandP():\n",
    "\n",
    "    def __init__(self, name):\n",
    "        print(\"IAM GRAND\")\n",
    "        self.name = name\n",
    "\n",
    "    def getName(self):\n",
    "        return self.name\n",
    "\n",
    "class Parent(GrandP):\n",
    "\n",
    "    def __init__(self, name, age):\n",
    "        print(\"IAM Parent\")\n",
    "        super().__init__(name)\n",
    "        self.age = age\n",
    "\n",
    "    def getAge(self):\n",
    "        return self.age\n",
    "  \n",
    "\n",
    "class GrandChild(Parent):\n",
    "      \n",
    "\n",
    "    def __init__(self, name, age, address):\n",
    "        print(\"Iam Child.\")\n",
    "        super().__init__(name, age)\n",
    "        self.address = address\n",
    "\n",
    "    def getAddress(self):\n",
    "        return self.address   \n",
    "    \n",
    "    \n",
    "  \n",
    "g = GrandChild(\"Geek1\", 23, \"Noida\")  \n"
   ]
  },
  {
   "cell_type": "code",
   "execution_count": 33,
   "metadata": {},
   "outputs": [
    {
     "name": "stdout",
     "output_type": "stream",
     "text": [
      "Geek1 23 Noida\n"
     ]
    }
   ],
   "source": [
    "print(g.getName(), g.getAge(), g.getAddress())"
   ]
  },
  {
   "cell_type": "code",
   "execution_count": 34,
   "metadata": {},
   "outputs": [
    {
     "data": {
      "text/plain": [
       "[__main__.GrandChild, __main__.Parent, __main__.GrandP, object]"
      ]
     },
     "execution_count": 34,
     "metadata": {},
     "output_type": "execute_result"
    }
   ],
   "source": [
    "GrandChild.mro()\n"
   ]
  },
  {
   "cell_type": "markdown",
   "metadata": {},
   "source": [
    "### Mutliple \n",
    "\n",
    "<img src = \"https://cdn.programiz.com/sites/tutorial2program/files/MultipleInheritance.jpg\"> \n"
   ]
  },
  {
   "cell_type": "code",
   "execution_count": 37,
   "metadata": {},
   "outputs": [
    {
     "name": "stdout",
     "output_type": "stream",
     "text": [
      "Base2\n",
      "Base1\n",
      "Derived\n",
      "Geek1 Geek2\n"
     ]
    }
   ],
   "source": [
    "class Base1():\n",
    "    def __init__(self):\n",
    "        self.str1 = \"Geek1\"\n",
    "        print(\"Base1\")\n",
    "  \n",
    "class Base2():\n",
    "    def __init__(self):\n",
    "        self.str2 = \"Geek2\"        \n",
    "        print(\"Base2\")\n",
    "  \n",
    "class Derived(Base1, Base2):\n",
    "    def __init__(self):\n",
    "        Base2.__init__(self)\n",
    "        Base1.__init__(self)\n",
    "     \n",
    "        print(\"Derived\")\n",
    "          \n",
    "    def printStrs(self):\n",
    "        print(self.str1, self.str2)\n",
    "         \n",
    "  \n",
    "ob = Derived()\n",
    "ob.printStrs()"
   ]
  },
  {
   "cell_type": "code",
   "execution_count": 39,
   "metadata": {},
   "outputs": [
    {
     "name": "stdout",
     "output_type": "stream",
     "text": [
      "Base1\n",
      "Base 1 - Geek1\n"
     ]
    }
   ],
   "source": [
    "\n",
    "\n",
    "class Base1():\n",
    "    def __init__(self):\n",
    "        self.str1 = \"Base 1 - Geek1\"\n",
    "        print(\"Base1\")\n",
    "\n",
    "  \n",
    "class Base2():\n",
    "    def __init__(self):\n",
    "        self.str1 = \"Base2 - Geek2\"        \n",
    "        print(\"Base2\")\n",
    "        \n",
    "class Derived(Base1,Base2):\n",
    "    pass\n",
    "         \n",
    "  \n",
    "ob = Derived()\n",
    "\n",
    "print(ob.str1)"
   ]
  },
  {
   "cell_type": "code",
   "execution_count": 40,
   "metadata": {},
   "outputs": [],
   "source": [
    "class Mi:\n",
    "    def __init__(self,r,p):\n",
    "        print(\"Mi class\")\n",
    "        self.ram = r\n",
    "        self.processor = p\n",
    "        self.model_name = \"Mi\"\n",
    "        \n",
    "    def mobile_description(self):\n",
    "        print(self.model_name)\n",
    "        print(f\"RAM:{self.ram}\\nProcessor: {self.processor}\\n \")\n",
    "\n",
    "class OnePlus:\n",
    "    def __init__(self,r,p):\n",
    "        print(\"One Plus Class\")\n",
    "        self.ram = r\n",
    "        self.processor = p\n",
    "        self.model_name = \"OnePlus\"\n",
    "        \n",
    "    def mobile_description(self):\n",
    "        print(self.model_name)\n",
    "        print(f\"RAM: {self.ram} \\nProcessor: {self.processor}\\n \")\n",
    "        \n",
    "    def print_greet(self):\n",
    "        print(\"Hey Hi Hi\")\n",
    "\n",
    "\n",
    "class NewMobile(Mi,OnePlus): #it will inherit the properties from the first passed parent class.\n",
    "    pass\n",
    "    \n",
    "        "
   ]
  },
  {
   "cell_type": "code",
   "execution_count": 43,
   "metadata": {},
   "outputs": [
    {
     "name": "stdout",
     "output_type": "stream",
     "text": [
      "Mi class\n",
      "Mi\n",
      "RAM:8GB\n",
      "Processor: SanpD\n",
      " \n",
      "Hey Hi Hi\n"
     ]
    }
   ],
   "source": [
    "ob = NewMobile(\"8GB\",'SanpD')\n",
    "ob.mobile_description()\n",
    "\n",
    "\n",
    "\n",
    "ob.print_greet()"
   ]
  },
  {
   "cell_type": "code",
   "execution_count": null,
   "metadata": {},
   "outputs": [],
   "source": []
  },
  {
   "cell_type": "markdown",
   "metadata": {},
   "source": [
    "### Encapsulation\n",
    "\n",
    "<img src = \" https://media.geeksforgeeks.org/wp-content/uploads/20191013164254/encapsulation-in-python.png\">\n",
    "\n",
    "\n",
    "- Wrapping data and the methods of class that work on data within one unit\n",
    "\n",
    "- A class is an example of encapsulation as it encapsulates all the data that is member functions, variables , etc\n",
    "\n",
    "- This Puts the restrictions on accessing variables and methods directly\n",
    "\n",
    "- Prevents accidental modification # private variables\n",
    "\n",
    "- Provides Security\n"
   ]
  },
  {
   "cell_type": "code",
   "execution_count": 46,
   "metadata": {},
   "outputs": [
    {
     "name": "stdout",
     "output_type": "stream",
     "text": [
      "addition of two numbers is 40\n"
     ]
    }
   ],
   "source": [
    "class Addition:\n",
    "    def __init__(self,n1,n2):\n",
    "        self.__num1 = n1\n",
    "        self.__num2 = n2\n",
    "        \n",
    "    def add(self):\n",
    "        return f\"addition of two numbers is {self.__num1 + self.__num2}\"\n",
    "        \n",
    "        \n",
    "a = Addition(20,20)\n",
    "\n",
    "\n",
    "print(a.add())"
   ]
  },
  {
   "cell_type": "code",
   "execution_count": 48,
   "metadata": {},
   "outputs": [
    {
     "ename": "AttributeError",
     "evalue": "'Addition2' object has no attribute '__num1'",
     "output_type": "error",
     "traceback": [
      "\u001b[1;31m---------------------------------------------------------------------------\u001b[0m",
      "\u001b[1;31mAttributeError\u001b[0m                            Traceback (most recent call last)",
      "Cell \u001b[1;32mIn[48], line 6\u001b[0m\n\u001b[0;32m      2\u001b[0m     \u001b[38;5;28;01mpass\u001b[39;00m\n\u001b[0;32m      5\u001b[0m a2 \u001b[38;5;241m=\u001b[39m Addition2(\u001b[38;5;241m40\u001b[39m,\u001b[38;5;241m40\u001b[39m)\n\u001b[1;32m----> 6\u001b[0m \u001b[38;5;28mprint\u001b[39m(\u001b[43ma2\u001b[49m\u001b[38;5;241;43m.\u001b[39;49m\u001b[43m__num1\u001b[49m)\n",
      "\u001b[1;31mAttributeError\u001b[0m: 'Addition2' object has no attribute '__num1'"
     ]
    }
   ],
   "source": [
    "class Addition2(Addition):\n",
    "    pass\n",
    "\n",
    "\n",
    "a2 = Addition2(40,40)\n",
    "print(a2.__num1)"
   ]
  },
  {
   "cell_type": "code",
   "execution_count": null,
   "metadata": {},
   "outputs": [],
   "source": [
    "class Base:\n",
    "    def __init__(self):\n",
    "        self._a = 2 \n",
    " \n",
    "# Creating a derived class   \n",
    "class Derived(Base):\n",
    "    def __init__(self):\n",
    "         \n",
    "        # Calling constructor of\n",
    "        # Base class\n",
    "        Base.__init__(self)\n",
    "        \n",
    "        print(\"Calling protected member of base class: \")\n",
    "        print(self._a)\n",
    " \n",
    "obj1 = Derived()\n",
    "obj2 = Base()"
   ]
  },
  {
   "cell_type": "code",
   "execution_count": null,
   "metadata": {},
   "outputs": [],
   "source": [
    "class Base:\n",
    "    def __init__(self):\n",
    "        self.__a = 2 \n",
    "    def display(self):\n",
    "        print(self.__a)\n",
    " \n",
    "# Creating a derived class   \n",
    "class Derived(Base):\n",
    "    def __init__(self):\n",
    "         \n",
    "        # Calling constructor of\n",
    "        # Base class\n",
    "        Base.__init__(self)\n",
    "        \n",
    "        print(\"Calling protected member of base class: \")\n",
    "        print(self.__a)\n",
    " \n",
    "obj1 = Derived()\n",
    "         \n",
    "obj2 = Base()"
   ]
  },
  {
   "cell_type": "markdown",
   "metadata": {},
   "source": [
    "### Polymorphism\n",
    "\n",
    " - The word polymorphism means having many forms. In programming, polymorphism means same function name \n",
    " (but different signatures) being uses for different types."
   ]
  },
  {
   "cell_type": "code",
   "execution_count": null,
   "metadata": {},
   "outputs": [],
   "source": [
    "# Python program to demonstrate in-built poly-\n",
    "# morphic functions\n",
    "  \n",
    "# len() being used for a string\n",
    "print(len(\"python\"))\n",
    "  \n",
    "# len() being used for a list\n",
    "print(len([10, 20, 30]))\n",
    "\n",
    "print(len({12,3,4,8}))"
   ]
  },
  {
   "cell_type": "code",
   "execution_count": 49,
   "metadata": {},
   "outputs": [
    {
     "name": "stdout",
     "output_type": "stream",
     "text": [
      "30\n",
      "KumarA\n",
      "[10, 230, 20, 30]\n",
      "('r', 'k', 'a', 'k')\n"
     ]
    }
   ],
   "source": [
    "def add(a,b):\n",
    "    print(a+b)\n",
    "\n",
    "    \n",
    "add(10,20)\n",
    "\n",
    "add(\"Kumar\",\"A\")\n",
    "add([10,230],[20,30]) \n",
    "\n",
    "add(('r','k'),('a','k')) "
   ]
  },
  {
   "cell_type": "code",
   "execution_count": 52,
   "metadata": {},
   "outputs": [
    {
     "name": "stdout",
     "output_type": "stream",
     "text": [
      "There are many types of birds.\n",
      "Sparrows can fly.\n"
     ]
    }
   ],
   "source": [
    "class Bird:\n",
    "  def intro(self):\n",
    "    print(\"There are many types of birds.\")\n",
    "      \n",
    "  def flight(self):\n",
    "    print(\"Most of the birds can fly but some cannot.\")\n",
    "    \n",
    "class sparrow(Bird):\n",
    "    #overridding\n",
    "  def flight(self):\n",
    "    print(\"Sparrows can fly.\")\n",
    "      \n",
    "class ostrich(sparrow):\n",
    "    pass\n",
    "      \n",
    "obj_bird = Bird()\n",
    "obj_spr = sparrow()\n",
    "obj_ost = ostrich()\n",
    "  \n",
    "# obj_bird.intro()\n",
    "# obj_bird.flight()\n",
    "  \n",
    "# obj_spr.intro()\n",
    "# obj_spr.flight()\n",
    "  \n",
    "obj_ost.intro()\n",
    "obj_ost.flight()"
   ]
  },
  {
   "cell_type": "markdown",
   "metadata": {},
   "source": [
    "### method overloading\n",
    "\n",
    "- Writing same function names with different signature's\n",
    "\n",
    "- Its is not possible in python\n",
    "\n",
    "\n",
    "- Operator overloading is not supported with the help of class"
   ]
  },
  {
   "cell_type": "code",
   "execution_count": 58,
   "metadata": {},
   "outputs": [],
   "source": [
    "class Calci:\n",
    "    \n",
    "    def add(self,a,b,c,d):\n",
    "        print(\"Four args add() \")\n",
    "        print(a+b+c+d)\n",
    "    def add():\n",
    "        print(\"Empty add\")\n",
    "    def add(self,a,b):\n",
    "        print(\"Two args add() \")\n",
    "        print(a+b)\n",
    "    def add(self,a,b,c):\n",
    "        print(\"Three args add() \")\n",
    "        print(a+b+c)\n",
    "    \n",
    "\n",
    "        "
   ]
  },
  {
   "cell_type": "code",
   "execution_count": 59,
   "metadata": {},
   "outputs": [],
   "source": [
    "c = Calci()"
   ]
  },
  {
   "cell_type": "code",
   "execution_count": 62,
   "metadata": {},
   "outputs": [
    {
     "name": "stdout",
     "output_type": "stream",
     "text": [
      "Three args add() \n",
      "60\n"
     ]
    }
   ],
   "source": [
    "c.add(10,20,30)\n",
    "\n",
    "\n"
   ]
  },
  {
   "cell_type": "code",
   "execution_count": null,
   "metadata": {},
   "outputs": [],
   "source": [
    "#TIP\n",
    "#Variables should be PRIVATE , PROTECTED\n",
    "#methods shouble be PUBLIC"
   ]
  },
  {
   "cell_type": "code",
   "execution_count": null,
   "metadata": {},
   "outputs": [],
   "source": [
    "class Election:\n",
    "    \n",
    "    def __init__(self,name, city,election_id, age):\n",
    "        self._name = name\n",
    "        self._city = city\n",
    "        self._election_id = election_id\n",
    "        self._age = age\n",
    "        \n",
    "    def isEligible(self):\n",
    "        if(self._age>=18):\n",
    "            \n",
    "            #is valid or not\n",
    "            if(self._election_id==\"Yes\"):\n",
    "                print(f\"Hey {self._name} you are Eligible to Vote\")\n",
    "            else:\n",
    "                print(f\"{self._name} Should apply for the ELECTION CARD\")\n",
    "\n",
    "        else:\n",
    "            print(\"NOT ELIGIBLE\")\n",
    "        \n",
    "\n",
    "ob = Election(\"AK\",\"DELHI\",True,26)\n",
    "ob.isEligible()"
   ]
  },
  {
   "cell_type": "code",
   "execution_count": null,
   "metadata": {},
   "outputs": [],
   "source": [
    "name = input(\"Enter the name: \")\n",
    "city= input(\"Enter city name: \")\n",
    "e_id = input(\"Do you have ID Yes or No :\")\n",
    "\n",
    "age = int(input(\"Enter the age: \"))"
   ]
  },
  {
   "cell_type": "code",
   "execution_count": null,
   "metadata": {},
   "outputs": [],
   "source": [
    "ob2 = Election(name ,city,e_id,age)"
   ]
  },
  {
   "cell_type": "code",
   "execution_count": null,
   "metadata": {},
   "outputs": [],
   "source": [
    "ob2.isEligible()"
   ]
  },
  {
   "cell_type": "code",
   "execution_count": null,
   "metadata": {},
   "outputs": [],
   "source": []
  }
 ],
 "metadata": {
  "kernelspec": {
   "display_name": "Python 3 (ipykernel)",
   "language": "python",
   "name": "python3"
  },
  "language_info": {
   "codemirror_mode": {
    "name": "ipython",
    "version": 3
   },
   "file_extension": ".py",
   "mimetype": "text/x-python",
   "name": "python",
   "nbconvert_exporter": "python",
   "pygments_lexer": "ipython3",
   "version": "3.10.9"
  }
 },
 "nbformat": 4,
 "nbformat_minor": 4
}
