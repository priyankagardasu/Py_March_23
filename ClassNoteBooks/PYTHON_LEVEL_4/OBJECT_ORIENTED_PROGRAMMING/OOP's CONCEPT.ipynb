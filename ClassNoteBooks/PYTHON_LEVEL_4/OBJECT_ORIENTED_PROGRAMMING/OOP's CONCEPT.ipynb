{
 "cells": [
  {
   "cell_type": "markdown",
   "metadata": {},
   "source": [
    "### Functional Programming VS Object Oriented Programming (OOP)?"
   ]
  },
  {
   "cell_type": "markdown",
   "metadata": {},
   "source": [
    "**Functional programming** is the form of programming that attempts to avoid changing state and mutable data. In a functional program, the output of a function should always be the same, given the same exact inputs to the function.\n",
    "\n",
    "- outputs of a function in functional programming purely relies on arguments of the function, This is called eliminating side effects in your code.\n",
    "\n",
    "- For example, if you call function getAddition() it calculates the sum of two inputs and returns the sum. Given the same inputs for x and y, we will always get the same output for sum.\n",
    "\n",
    "\n",
    "- Functional programming provides the advantages like \n",
    "    - efficiency, \n",
    "    - lazy evaluation, \n",
    "    - nested functions, \n",
    "    - bug-free code, \n",
    "    - parallel programming. \n",
    "\n",
    "- In simple language, functional programming is to write the function having statements to execute a particular task for the application"
   ]
  },
  {
   "cell_type": "markdown",
   "metadata": {},
   "source": [
    "- **Object oriented programming** is a programming paradigm in which you program using objects & classes  to represent things (real world things). \n",
    "- These objects could be data structures. \n",
    "- The objects hold data about them in attributes. \n",
    "- The attributes in the objects are manipulated through methods or functions that are given to the object.\n",
    "\n",
    "```html\n",
    "For example we have a car object that represents of all it's data , \n",
    "    - like speed , weight , color , horse power , model name , engine type etc\n",
    "\n",
    "```\n",
    "![screenshot](https://cdn.hashnode.com/res/hashnode/image/upload/v1619276176236/FZIPVkzOU.png?w=1600&h=840&fit=crop&crop=entropy&auto=compress,format&format=webp)\n",
    "\n",
    "\n",
    "- The main deal with OOP is the ability to encapsulate data from outsiders. \n",
    "- Encapsulation is the ability to hide variables within the class from outside access — which makes it great for security reasons, along with leaky, unwanted or accidental usage"
   ]
  },
  {
   "cell_type": "code",
   "execution_count": null,
   "metadata": {},
   "outputs": [],
   "source": [
    "a = 10\n",
    "def funa():\n",
    "    global a \n",
    "    a = 100\n",
    "    \n",
    "def funb():\n",
    "    global a \n",
    "    a = 1000\n",
    "\n",
    "\n",
    "funa()\n",
    "funb()\n",
    "\n",
    "print(a)"
   ]
  },
  {
   "cell_type": "code",
   "execution_count": null,
   "metadata": {},
   "outputs": [],
   "source": []
  },
  {
   "cell_type": "markdown",
   "metadata": {},
   "source": [
    "<img src = \"https://scand.com/wp-content/uploads/2022/08/Group-261.jpg\">"
   ]
  },
  {
   "cell_type": "markdown",
   "metadata": {},
   "source": [
    "### OOP's\n",
    "\n",
    "Object means a real-world entity such as a pen, chair, table, computer, watch, etc. Object-Oriented Programming is a methodology or paradigm to design a program using classes and objects. It simplifies software development and maintenance by providing some concepts:\n",
    "\n",
    "- Object\n",
    "- Class\n",
    "- Inheritance\n",
    "- Polymorphism\n",
    "- Abstraction\n",
    "- Encapsulation"
   ]
  },
  {
   "cell_type": "markdown",
   "metadata": {},
   "source": []
  },
  {
   "cell_type": "markdown",
   "metadata": {},
   "source": [
    "### Class & Object\n",
    "\n",
    "- As we know all , Python is an object oriented programming language.\n",
    "- In python almost everything is an object with properties and methods\n",
    "\n",
    "\n",
    "### Class\n",
    "\n",
    "- A class is like a object constuctor \n",
    "- A class defines the specification of the instance ( object) , in simple words it design a blue print ,for the object with all behavourial things defined.\n",
    "\n",
    "- It is like a template\n",
    "\n",
    "- In Python to create a class **class** keyword is used.\n",
    "\n",
    "- Class names should be singular and pascal case style\n",
    "\n",
    "\n",
    "### object :\n",
    "\n",
    "- An object is defined as Real entity derived from class definition\n",
    "\n",
    "- An object is data formatted to represent a real world object that has a state and behavior\n",
    "\n",
    "- State = defined by attributes \n",
    "\n",
    "- Behaviour = defined by methods\n",
    "\n",
    "- An object cant exist without a Class.\n",
    "- Object will have attributes(variables) and methods(functions) and their associated properties\n",
    "\n",
    "- Object expose the data to the outside world using methods\n",
    "- Always attributes are private scope and methods are public scope , bounded together.\n",
    "\n"
   ]
  },
  {
   "cell_type": "markdown",
   "metadata": {},
   "source": [
    "<img src = \"https://appdividend.com/wp-content/uploads/2019/07/Python-Classes-And-Objects-Example-Object-In-Python.png\" \n",
    "     width=\"400\" height=\"400\">"
   ]
  },
  {
   "cell_type": "code",
   "execution_count": null,
   "metadata": {},
   "outputs": [],
   "source": []
  },
  {
   "cell_type": "markdown",
   "metadata": {},
   "source": [
    "<img src = \"http://www.trytoprogram.com/images/python_object_class.jpg\" width=\"600\" height=\"600\">"
   ]
  },
  {
   "cell_type": "code",
   "execution_count": null,
   "metadata": {},
   "outputs": [],
   "source": []
  },
  {
   "cell_type": "code",
   "execution_count": null,
   "metadata": {},
   "outputs": [],
   "source": [
    "a = 10\n",
    "print(type(a))\n",
    "\n",
    "lst = [10,20,30]\n",
    "print(type(lst))\n",
    "\n",
    "\n",
    "def fun():\n",
    "    pass\n",
    "\n",
    "print(type(fun))"
   ]
  },
  {
   "cell_type": "markdown",
   "metadata": {},
   "source": [
    "\n",
    "### Class"
   ]
  },
  {
   "cell_type": "code",
   "execution_count": null,
   "metadata": {},
   "outputs": [],
   "source": [
    "class Car:\n",
    "    speed = '150kmph'\n",
    "    name = 'MG comet'\n",
    "    price = '8L'\n",
    "    \n"
   ]
  },
  {
   "cell_type": "code",
   "execution_count": null,
   "metadata": {},
   "outputs": [],
   "source": [
    "mg = Car()"
   ]
  },
  {
   "cell_type": "code",
   "execution_count": null,
   "metadata": {},
   "outputs": [],
   "source": [
    "print(mg.price)"
   ]
  },
  {
   "cell_type": "code",
   "execution_count": null,
   "metadata": {},
   "outputs": [],
   "source": [
    "# second object, change price and speed..\n",
    "\n",
    "mg2 = Car()\n",
    "mg2.speed = '90kmph'\n",
    "mg2.price = '6L'\n",
    "\n",
    "print(mg2.price)\n",
    "print(mg2.speed)"
   ]
  },
  {
   "cell_type": "code",
   "execution_count": null,
   "metadata": {},
   "outputs": [],
   "source": [
    "class Student:\n",
    "    def __init__(self):\n",
    "        print('hello am constructor...')\n",
    "        \n",
    "        \n"
   ]
  },
  {
   "cell_type": "code",
   "execution_count": null,
   "metadata": {},
   "outputs": [],
   "source": [
    "for i in range(5):\n",
    "    s = Student()\n",
    "\n"
   ]
  },
  {
   "cell_type": "code",
   "execution_count": null,
   "metadata": {},
   "outputs": [],
   "source": [
    "s.name = \"kumar\"\n",
    "print(s.__dict__)\n",
    "s1.name = 'Manoj'\n",
    "print(s1.__dict__)"
   ]
  },
  {
   "cell_type": "code",
   "execution_count": null,
   "metadata": {},
   "outputs": [],
   "source": [
    "# instance variables / object variable"
   ]
  },
  {
   "cell_type": "code",
   "execution_count": null,
   "metadata": {},
   "outputs": [],
   "source": [
    "class Car:\n",
    "    def __init__(self,a,b,c):\n",
    "        print(id(self))\n",
    "        self.name = a\n",
    "        self.price = b\n",
    "        self.speed = c\n",
    "        \n",
    "\n",
    "mg = Car('MG comet','8L' ,'90KMPH')\n",
    "print(id(mg))"
   ]
  },
  {
   "cell_type": "code",
   "execution_count": null,
   "metadata": {},
   "outputs": [],
   "source": [
    "mg2 = Car('MG cometv2' , '6L' , '120KMPH')\n",
    "print(mg2.price)"
   ]
  },
  {
   "cell_type": "code",
   "execution_count": null,
   "metadata": {},
   "outputs": [],
   "source": []
  },
  {
   "cell_type": "code",
   "execution_count": null,
   "metadata": {},
   "outputs": [],
   "source": [
    "\n",
    "\n",
    "class Person:\n",
    "    def __init__(self,a,b,c,d):\n",
    "        self.name = a\n",
    "        self.college = b\n",
    "        self.fee = c\n",
    "        \n",
    "    def display(self):\n",
    "        print(self.name , self.college ,self.fee)\n",
    "        \n",
    "\n",
    "p = Person(\"kumar\",\"UCEOU\",10002.278,3) #Creating a object\n",
    "print(p.name)\n",
    "p.display()\n",
    "\n",
    "\n",
    "p2 = Person(\"Ram\", \"NIT\", 1000.289,2)\n",
    "print(p2.name)\n",
    "p2.display()"
   ]
  },
  {
   "cell_type": "code",
   "execution_count": null,
   "metadata": {},
   "outputs": [],
   "source": [
    "class A:\n",
    "    def __init__(self):\n",
    "        pass\n",
    "        \n",
    "a = A()"
   ]
  },
  {
   "cell_type": "code",
   "execution_count": null,
   "metadata": {},
   "outputs": [],
   "source": [
    "class Fun:\n",
    "    pass\n",
    "\n",
    "\n",
    "f = Fun()"
   ]
  },
  {
   "cell_type": "code",
   "execution_count": null,
   "metadata": {},
   "outputs": [],
   "source": [
    "class Person:\n",
    "    def __init__(dalle,*a):\n",
    "        dalle.name = a[0]\n",
    "        dalle.college = a[1]\n",
    "        dalle.fee = a[2]\n",
    "    def display(dalle):\n",
    "        print(dalle.name , dalle.college ,dalle.fee , sep = \"-->\")\n",
    "        \n",
    "\n",
    "p = Person(\"Ravi\",\"UCEOU\",10002.278,3) #Creating a object\n",
    "print(p.name)\n",
    "p.display()"
   ]
  },
  {
   "cell_type": "code",
   "execution_count": null,
   "metadata": {},
   "outputs": [],
   "source": [
    "p2 = Person(\"Ganesh\",\"Vasavi\",2652) #Creating a object\n",
    "print(p2.name)\n",
    "p2.display()"
   ]
  },
  {
   "cell_type": "code",
   "execution_count": null,
   "metadata": {},
   "outputs": [],
   "source": [
    "print(id(p) , id(p2))"
   ]
  },
  {
   "cell_type": "markdown",
   "metadata": {},
   "source": [
    "### __init__()\n",
    "\n",
    "All classes have a function called __init__(), which is always executed when the class is being initiated (when object is create).\n",
    "- It a constructor called automatically , Note: The __init__() function is called automatically every time the class is being used to create a new object\n",
    "- Use the __init__() function to assign values to object properties, or other operations that are necessary to do when the object is being created:\n",
    "\n",
    "\n",
    "#### self \n",
    "- The self parameter is a reference to the current instance of the class, and is used to access variables that belong to the class.\n",
    "\n",
    "- self ,You can name it in your way , you can call in what ever you like but it has to be first parameter of any class  "
   ]
  },
  {
   "cell_type": "code",
   "execution_count": null,
   "metadata": {},
   "outputs": [],
   "source": [
    "class A:\n",
    "    def __init__(self):\n",
    "        print(\"Object created\",self)\n",
    "        print(id(self))\n",
    "\n",
    "obj = A()\n",
    "print(id(obj))\n"
   ]
  },
  {
   "cell_type": "code",
   "execution_count": null,
   "metadata": {},
   "outputs": [],
   "source": []
  },
  {
   "cell_type": "code",
   "execution_count": null,
   "metadata": {},
   "outputs": [],
   "source": []
  },
  {
   "cell_type": "code",
   "execution_count": null,
   "metadata": {},
   "outputs": [],
   "source": [
    "class Car:\n",
    "    user_name  = \"Ak\" # class variable #created only once \n",
    "    def __init__(self,name,price,color): #constructor \n",
    "        self.carName = name #instance variables/ object variables\n",
    "        self.carPrice = price\n",
    "        self.carColor = color\n",
    "\n",
    "# audi = Car() # error\n",
    "\n",
    "\n",
    "mercedes = Car(input(\"enter the car name\"),int(input(\"enter the price\")),input(\"enter the color car\"))\n",
    "print(mercedes)"
   ]
  },
  {
   "cell_type": "code",
   "execution_count": null,
   "metadata": {},
   "outputs": [],
   "source": [
    "print(mercedes.carName)"
   ]
  },
  {
   "cell_type": "code",
   "execution_count": null,
   "metadata": {},
   "outputs": [],
   "source": [
    "print(mercedes.__dict__)"
   ]
  },
  {
   "cell_type": "code",
   "execution_count": null,
   "metadata": {},
   "outputs": [],
   "source": []
  },
  {
   "cell_type": "code",
   "execution_count": null,
   "metadata": {},
   "outputs": [],
   "source": []
  },
  {
   "cell_type": "code",
   "execution_count": null,
   "metadata": {},
   "outputs": [],
   "source": [
    "audi = Car(\"Audi\",2002802,\"white\")\n",
    "print(audi.__dict__)\n"
   ]
  },
  {
   "cell_type": "code",
   "execution_count": null,
   "metadata": {},
   "outputs": [],
   "source": [
    "print(audi.carName)"
   ]
  },
  {
   "cell_type": "code",
   "execution_count": null,
   "metadata": {},
   "outputs": [],
   "source": [
    "print(audi.user_name)\n",
    "print(mercedes.user_name)"
   ]
  },
  {
   "cell_type": "code",
   "execution_count": null,
   "metadata": {},
   "outputs": [],
   "source": []
  },
  {
   "cell_type": "code",
   "execution_count": null,
   "metadata": {},
   "outputs": [],
   "source": [
    "print(Car.user_name)"
   ]
  },
  {
   "cell_type": "markdown",
   "metadata": {},
   "source": [
    "**NOTE**\n",
    "- with className we can access only class variables\n",
    "- with objName we can access both class and obj variables"
   ]
  },
  {
   "cell_type": "code",
   "execution_count": null,
   "metadata": {},
   "outputs": [],
   "source": [
    "print(audi.carName)\n",
    "print(mercedes.carName)\n",
    "print(Car.carName) #error"
   ]
  },
  {
   "cell_type": "code",
   "execution_count": null,
   "metadata": {},
   "outputs": [],
   "source": [
    "from datetime import datetime\n",
    "\n",
    "a = datetime.now()\n",
    "print(a)"
   ]
  },
  {
   "cell_type": "code",
   "execution_count": null,
   "metadata": {},
   "outputs": [],
   "source": [
    "\n",
    "class Person:\n",
    "    from datetime import datetime\n",
    "    present_date = datetime.now() #class variable\n",
    "    \n",
    "    def __init__(self,name,surname ,yob):\n",
    "        #instance vaiable\n",
    "        self.first_name=name\n",
    "        self.surname=surname\n",
    "        self.birth_date=yob\n",
    "        \n",
    "    def display(self):\n",
    "        print(f\"The Person name is {self.first_name} {self.surname} and  was born in {self.birth_date}\")\n",
    "    \n",
    "\n",
    "    def full_name(self):\n",
    "        print(f\"Full name is {self.first_name + self.surname}\")\n",
    "    \n",
    "    def ageOfPerson(self):\n",
    "        print(f\"{self.first_name} age is {Person.present_date.year - self.birth_date}\")\n",
    "    \n",
    "\n",
    "p1 = Person(\"Debora\",\"Willams\",2009)\n",
    "\n",
    "print(p1.first_name)\n",
    "print(p1.birth_date)\n",
    "print(Person.present_date)\n",
    "\n",
    "p1.display()\n",
    "p1.full_name()\n",
    "p1.ageOfPerson()"
   ]
  },
  {
   "cell_type": "code",
   "execution_count": null,
   "metadata": {},
   "outputs": [],
   "source": [
    "p2 = Person(\"John\",\"Willams\",2013)\n",
    "print(p2.first_name)\n",
    "print(p2.birth_date)\n",
    "print(Person.present_date)\n",
    "\n",
    "p2.display()\n",
    "p2.full_name()\n",
    "p2.ageOfPerson()\n"
   ]
  },
  {
   "cell_type": "code",
   "execution_count": null,
   "metadata": {},
   "outputs": [],
   "source": [
    "print(dir( p2 ))"
   ]
  },
  {
   "cell_type": "code",
   "execution_count": null,
   "metadata": {},
   "outputs": [],
   "source": []
  },
  {
   "cell_type": "code",
   "execution_count": null,
   "metadata": {},
   "outputs": [],
   "source": [
    "class cal:\n",
    "    def __init__(self,a,b):\n",
    "        self.a = a\n",
    "        self.b = b\n",
    "        \n",
    "    def add(self):\n",
    "        return self.a + self.b\n",
    "    def sub(self):\n",
    "        return self.a - self.b\n",
    "    def multiply(self):\n",
    "        return self.a * self.b\n",
    "    def divide(self):\n",
    "        return self.a / self.b\n",
    "\n",
    "# outside    \n",
    "\n",
    "p = cal(10,20)\n",
    "print(p)\n",
    "print(dir(p))\n",
    "print(p.add())\n",
    "print(p.sub())\n",
    "print(p.divide())\n",
    "\n"
   ]
  },
  {
   "cell_type": "code",
   "execution_count": null,
   "metadata": {},
   "outputs": [],
   "source": [
    "p2 = cal(10.21,10.3)\n",
    "print(p2.add())\n",
    "print(p2.sub())\n",
    "print(p2.divide())"
   ]
  },
  {
   "cell_type": "code",
   "execution_count": null,
   "metadata": {},
   "outputs": [],
   "source": [
    "p"
   ]
  },
  {
   "cell_type": "code",
   "execution_count": null,
   "metadata": {},
   "outputs": [],
   "source": [
    "class Son():\n",
    "    def __init__(self,name ,schoolname):\n",
    "        self.sonName = name\n",
    "        self.sonSchool = schoolname\n",
    "    \n",
    "    #instance method\n",
    "    def walk(self,kms):\n",
    "        return f\" {self.Name} walked {kms} kms....\"\n",
    "    \n",
    "    def __str__(self):\n",
    "        return f\"[name ={self.sonName} , schoolname = {self.sonSchool}] \"\n",
    "        \n",
    "s = Son(\"Kumar\",\"Abhiyas\")\n",
    "print(s) \n",
    "\n"
   ]
  },
  {
   "cell_type": "code",
   "execution_count": null,
   "metadata": {},
   "outputs": [],
   "source": []
  },
  {
   "cell_type": "code",
   "execution_count": null,
   "metadata": {},
   "outputs": [],
   "source": [
    "class Account(object):\n",
    "    def __init__(self, name, account_number, initial_amount):\n",
    "        self.name = name\n",
    "        self.no = account_number\n",
    "        self.balance = initial_amount\n",
    "\n",
    "    def deposit(self, amount):\n",
    "        self.balance += amount\n",
    "\n",
    "    def withdraw(self, amount):\n",
    "        if amount <= self.balance:\n",
    "            self.balance -= amount\n",
    "            print(f\" Withdraw completed : {amount} : current balance: {self.balance}\")\n",
    "        else:\n",
    "            print(\"insufficient balance\")\n",
    "\n",
    "    def dump(self):\n",
    "        s = '%s, %s, balance: %s' %(self.name, self.no, self.balance)\n",
    "        print(s)\n",
    "        \n",
    "    \n",
    "\n",
    "a1 = Account('John Olsson', '19371554951', 20000)\n",
    "a2 = Account('Liz Olsson',  '19371564761', 20000)\n",
    "\n"
   ]
  },
  {
   "cell_type": "markdown",
   "metadata": {},
   "source": []
  },
  {
   "cell_type": "markdown",
   "metadata": {},
   "source": [
    "### mutliple init()'s"
   ]
  },
  {
   "cell_type": "code",
   "execution_count": null,
   "metadata": {},
   "outputs": [],
   "source": [
    "class Person1():\n",
    "   \n",
    "     \n",
    "    def __init__(self):\n",
    "        print(\"Hey HI!!\")\n",
    "        \n",
    "    def __init__(self,name):\n",
    "        self.a=name\n",
    "        \n",
    "        \n",
    "    def __init__(self,fullname,year,place):\n",
    "        \"\"\"\n",
    "        constructor\n",
    "        \"\"\"\n",
    "        self.x=fullname\n",
    "        self.y=year\n",
    "        self.z=place\n",
    "            \n",
    "    def __init__(self,surname,age):\n",
    "        self.c=surname\n",
    "        self.d=age\n",
    "        \n",
    "\n",
    "\n",
    "\n",
    "# p = Person1()\n",
    "\n",
    "# p1 = Person1(\"kumar\")\n",
    "\n",
    "# p2 = Person1(\"kumar Raajmoni\" , \"9282\",\"hyd\")\n",
    "\n",
    "# p3 = Person1(\"rajamoni\",367)\n",
    "\n"
   ]
  },
  {
   "cell_type": "markdown",
   "metadata": {},
   "source": [
    "#### NOTE: In Multiple init() methods declaration always it will call/consider recently declared/last delcared method"
   ]
  },
  {
   "cell_type": "code",
   "execution_count": null,
   "metadata": {},
   "outputs": [],
   "source": [
    "#####Simple Handon Question######\n",
    "\n",
    "#attributes\n",
    "name \n",
    "city\n",
    "election_id\n",
    "have_card\n",
    "age\n",
    "#conditions age>=18 allowed and if election card if available ->to vote otherwise -> not allowed to vote. \n",
    "# election_id = 10 digits (A-Z0-9)\n"
   ]
  },
  {
   "cell_type": "markdown",
   "metadata": {},
   "source": [
    "### type of variable\n",
    "\n",
    "- instance variable  (object level)\n",
    "- class variable (class level) also know as static variables\n",
    "- class variable are accessed with both object and class name"
   ]
  },
  {
   "cell_type": "code",
   "execution_count": null,
   "metadata": {},
   "outputs": [],
   "source": [
    "\n",
    "class abc:\n",
    "    \n",
    "    some_var=123\n",
    "    \n",
    "    def __init__(self,name):   \n",
    "        self.a=name \n",
    "        \n",
    "    def __str__(self):\n",
    "        return \"Hello\""
   ]
  },
  {
   "cell_type": "code",
   "execution_count": null,
   "metadata": {},
   "outputs": [],
   "source": [
    "p = abc(\"Ak\")"
   ]
  },
  {
   "cell_type": "code",
   "execution_count": null,
   "metadata": {},
   "outputs": [],
   "source": [
    "print(p)\n",
    "p.__dict__"
   ]
  },
  {
   "cell_type": "code",
   "execution_count": null,
   "metadata": {},
   "outputs": [],
   "source": [
    "p.a"
   ]
  },
  {
   "cell_type": "code",
   "execution_count": null,
   "metadata": {},
   "outputs": [],
   "source": [
    "abc.some_var"
   ]
  },
  {
   "cell_type": "code",
   "execution_count": null,
   "metadata": {},
   "outputs": [],
   "source": [
    "p.some_var\n"
   ]
  },
  {
   "cell_type": "code",
   "execution_count": null,
   "metadata": {},
   "outputs": [],
   "source": []
  },
  {
   "cell_type": "code",
   "execution_count": null,
   "metadata": {},
   "outputs": [],
   "source": []
  },
  {
   "cell_type": "code",
   "execution_count": null,
   "metadata": {},
   "outputs": [],
   "source": [
    "class Student:\n",
    "    college = \"UCEOU\" #private variable \n",
    "    def __init__(self):\n",
    "        self.name = \"Ram\"\n",
    "        self.course = \"OS\"\n",
    "        print(self.name)\n",
    "\n",
    "s = Student()\n",
    "print(s.__dict__)\n",
    "print(s.name)"
   ]
  },
  {
   "cell_type": "code",
   "execution_count": null,
   "metadata": {},
   "outputs": [],
   "source": [
    "print(s.college)"
   ]
  },
  {
   "cell_type": "markdown",
   "metadata": {},
   "source": [
    "### access modifers\n",
    "\n",
    "- Python control access modifications which are used to restrict access to the variables and methods of the class. \n",
    "- Most programming languages has three forms of access modifiers, which are Public, Protected and Private in a class.\n",
    "\n",
    "- A Class in Python has three types of access modifiers –\n",
    "\n",
    "    Public Access Modifier\n",
    "    \n",
    "    Protected Access Modifier\n",
    "    \n",
    "    Private Access Modifier"
   ]
  },
  {
   "cell_type": "markdown",
   "metadata": {},
   "source": [
    "#### public \n",
    "Public Access Modifier:\n",
    "\n",
    "The members of a class that are declared public are easily accessible from any part of the program. All data members and member functions of a class are public by default"
   ]
  },
  {
   "cell_type": "code",
   "execution_count": null,
   "metadata": {},
   "outputs": [],
   "source": [
    "\n"
   ]
  },
  {
   "cell_type": "code",
   "execution_count": null,
   "metadata": {},
   "outputs": [],
   "source": [
    "class Person:\n",
    "    def __init__(self,name,sname,year_of_birth):\n",
    "        #public \n",
    "        self.name=name\n",
    "        self.surname=sname\n",
    "        self.yob=year_of_birth\n",
    "        \n",
    "    def age(self,current_year): #public\n",
    "        \"\"\"\n",
    "        caculating the age\n",
    "        \"\"\"\n",
    "        return current_year-self.yob\n",
    "    def __str__(self):\n",
    "        return f'{self.name} {self.surname} was born in {self.yob}'\n",
    "    \n"
   ]
  },
  {
   "cell_type": "code",
   "execution_count": null,
   "metadata": {},
   "outputs": [],
   "source": [
    "p = Person(\"AK\",\"Rajamoni\",1900)\n",
    "\n",
    "#if it is possible only if is public \n",
    "print(p.name)\n",
    "print(p.surname)\n",
    "print(p.yob)\n",
    "print(p)"
   ]
  },
  {
   "cell_type": "code",
   "execution_count": null,
   "metadata": {},
   "outputs": [],
   "source": [
    "p.age(2000)"
   ]
  },
  {
   "cell_type": "markdown",
   "metadata": {},
   "source": [
    "#### protected\n",
    "\n",
    "Protected Access Modifier:\n",
    "\n",
    "- The members of a class that are declared protected are only accessible to a class derived from it. (same package)\n",
    "\n",
    "- Data members of a class are declared protected by adding a single underscore ‘_’ symbol before the data member of that class."
   ]
  },
  {
   "cell_type": "code",
   "execution_count": null,
   "metadata": {},
   "outputs": [],
   "source": [
    "# super class\n",
    "class Student:\n",
    "    def __init__(self, name, roll, branch):\n",
    "            #proctected variables\n",
    "        print(\"Base\")\n",
    "        self._name = name\n",
    "        self._roll = roll\n",
    "        self._branch = branch\n",
    "    def _displayRollAndBranch(self):\n",
    "        print(\"Name: \", self._name)\n",
    "        print(\"Roll: \", self._roll)\n",
    "        print(\"Branch: \", self._branch)\n",
    "\n"
   ]
  },
  {
   "cell_type": "code",
   "execution_count": null,
   "metadata": {},
   "outputs": [],
   "source": [
    "# derived class\n",
    "class Geek(Student):\n",
    "    def __init__(self,a,b,c,clg):\n",
    "        print('Derived Class')\n",
    "        Student.__init__(self,a,b,c)\n",
    "        self.college = clg\n",
    "    \n",
    "    def display(self):\n",
    "        print(self._name)\n",
    "        self._displayRollAndBranch()\n",
    "    \n",
    "\n",
    "\n",
    "g = Geek('kumar','3096','IT','UCEOU')\n"
   ]
  },
  {
   "cell_type": "code",
   "execution_count": null,
   "metadata": {},
   "outputs": [],
   "source": [
    "g.display()"
   ]
  },
  {
   "cell_type": "code",
   "execution_count": null,
   "metadata": {},
   "outputs": [],
   "source": [
    "g.__dict__"
   ]
  },
  {
   "cell_type": "code",
   "execution_count": null,
   "metadata": {},
   "outputs": [],
   "source": []
  },
  {
   "cell_type": "markdown",
   "metadata": {},
   "source": [
    "### private\n",
    "\n",
    "Private Access Modifier:\n",
    "\n",
    "- The members of a class that are declared private are accessible within the class only, \n",
    "\n",
    "\n",
    "\n",
    "- private access modifier is the most secure access modifier. Data members of a class are declared private by adding a double underscore ‘__’ symbol before the data member of that class."
   ]
  },
  {
   "cell_type": "code",
   "execution_count": 13,
   "metadata": {},
   "outputs": [
    {
     "ename": "AttributeError",
     "evalue": "'A' object has no attribute '_display'",
     "output_type": "error",
     "traceback": [
      "\u001b[1;31m---------------------------------------------------------------------------\u001b[0m",
      "\u001b[1;31mAttributeError\u001b[0m                            Traceback (most recent call last)",
      "Cell \u001b[1;32mIn[13], line 16\u001b[0m\n\u001b[0;32m     12\u001b[0m a \u001b[38;5;241m=\u001b[39m A()\n\u001b[0;32m     13\u001b[0m \u001b[38;5;66;03m# print(a.__name)\u001b[39;00m\n\u001b[0;32m     14\u001b[0m \u001b[38;5;66;03m# print(A.__username)\u001b[39;00m\n\u001b[1;32m---> 16\u001b[0m \u001b[43ma\u001b[49m\u001b[38;5;241;43m.\u001b[39;49m\u001b[43m_display\u001b[49m()\n",
      "\u001b[1;31mAttributeError\u001b[0m: 'A' object has no attribute '_display'"
     ]
    }
   ],
   "source": [
    "class A:\n",
    "    __username = 'ram'\n",
    "    def __init__(self):\n",
    "        self.__name = \"Python\"\n",
    "        self.__duration = 2\n",
    "        \n",
    "    def __display(self):\n",
    "        print(\"display method ...\")\n",
    "        print(self.__name,self.__duration)\n",
    "        \n",
    "\n",
    "a = A()\n",
    "# print(a.__name)\n",
    "# print(A.__username)\n",
    "\n",
    "a._display()\n"
   ]
  },
  {
   "cell_type": "code",
   "execution_count": null,
   "metadata": {},
   "outputs": [],
   "source": [
    "#  variables --> private\n",
    "# methods ----> public or protected."
   ]
  },
  {
   "cell_type": "code",
   "execution_count": null,
   "metadata": {},
   "outputs": [],
   "source": []
  },
  {
   "cell_type": "code",
   "execution_count": 14,
   "metadata": {},
   "outputs": [],
   "source": [
    "class Parent:\n",
    "    name = None #public\n",
    "    _year = None #protected\n",
    "    __ceo =None #private\n",
    "    \n",
    "    def __init__(self,a,b,c):\n",
    "        self.name = a\n",
    "        self._age= b\n",
    "        self.__ceo = c\n",
    "\n",
    "    #public \n",
    "    def displayPublicMembers(self):\n",
    "        print(\"Accessing public variable \",self.name)\n",
    "\n",
    "        # protected member function   \n",
    "    def _displayProtectedMembers(self):\n",
    "        print(\"Protected Data Member: \", self._age)\n",
    "\n",
    "    # private member function   \n",
    "    def __displayPrivateMembers(self):\n",
    "        # accessing private data members\n",
    "        print(\"Private Data Member: \", self.__ceo)\n",
    "        \n",
    "    #public member function\n",
    "    def accessPrivateMembers(self):\n",
    "        self.__displayPrivateMembers()"
   ]
  },
  {
   "cell_type": "code",
   "execution_count": 16,
   "metadata": {},
   "outputs": [],
   "source": [
    "# derived class\n",
    "class Child(Parent):\n",
    "   \n",
    "      # constructor \n",
    "       def __init__(self, var1, var2, var3): \n",
    "                Parent.__init__(self, var1, var2, var3)\n",
    "            \n",
    "      # public member function \n",
    "       def accessProtectedMemebers(self):  \n",
    "                # accessing protected member functions of super class \n",
    "                self._displayProtectedMembers()"
   ]
  },
  {
   "cell_type": "code",
   "execution_count": 17,
   "metadata": {},
   "outputs": [],
   "source": [
    "obj = Child(\"Tesla\",1390,\"Elon Musk\")"
   ]
  },
  {
   "cell_type": "code",
   "execution_count": 20,
   "metadata": {},
   "outputs": [
    {
     "name": "stdout",
     "output_type": "stream",
     "text": [
      "Accessing public variable  Tesla\n",
      "Protected Data Member:  1390\n",
      "Private Data Member:  Elon Musk\n"
     ]
    }
   ],
   "source": [
    "  \n",
    "# calling public member functions of the class\n",
    "obj.displayPublicMembers()\n",
    "\n",
    "obj.accessProtectedMemebers()\n",
    "obj.accessPrivateMembers() "
   ]
  },
  {
   "cell_type": "code",
   "execution_count": null,
   "metadata": {},
   "outputs": [],
   "source": [
    "obj._displayProtectedMembers() #protected"
   ]
  },
  {
   "cell_type": "code",
   "execution_count": 60,
   "metadata": {},
   "outputs": [
    {
     "name": "stdout",
     "output_type": "stream",
     "text": [
      "Sharan is eligible to vote\n"
     ]
    }
   ],
   "source": [
    "import re\n",
    "class Voter:\n",
    "   \n",
    "    def __init__(self,vname,vage,vid,vcity):\n",
    "        self.vname=vname\n",
    "        self.vage=vage\n",
    "        self.vid=vid\n",
    "        self.vcity=vcity\n",
    "  \n",
    "    def isEligibleToVote(self):\n",
    "     \n",
    "        if self.vage>=18:\n",
    "            if re.search(\"[A-Z 0-9]\",self.vid):\n",
    "                print(f\"{self.vname} is eligible to vote\")\n",
    "            else:\n",
    "                print(f\"invalid voter id\")\n",
    "        else:\n",
    "            print(f\"{self.vname} is not eligible to vote\")\n",
    "\n",
    "            \n",
    "v1 = Voter(\"Sharan\",25,\"AHSHS 133893\",\"hyderabad\")  \n",
    "\n",
    "v1.isEligibleToVote()"
   ]
  },
  {
   "cell_type": "code",
   "execution_count": 39,
   "metadata": {},
   "outputs": [
    {
     "name": "stdout",
     "output_type": "stream",
     "text": [
      "['A', 'ASCII', 'DEBUG', 'DOTALL', 'I', 'IGNORECASE', 'L', 'LOCALE', 'M', 'MULTILINE', 'Match', 'Pattern', 'RegexFlag', 'S', 'Scanner', 'T', 'TEMPLATE', 'U', 'UNICODE', 'VERBOSE', 'X', '_MAXCACHE', '__all__', '__builtins__', '__cached__', '__doc__', '__file__', '__loader__', '__name__', '__package__', '__spec__', '__version__', '_cache', '_compile', '_compile_repl', '_expand', '_locale', '_pickle', '_special_chars_map', '_subx', 'compile', 'copyreg', 'enum', 'error', 'escape', 'findall', 'finditer', 'fullmatch', 'functools', 'match', 'purge', 'search', 'split', 'sre_compile', 'sre_parse', 'sub', 'subn', 'template']\n"
     ]
    }
   ],
   "source": [
    "import re\n",
    "\n",
    "print(dir(re))\n"
   ]
  },
  {
   "cell_type": "code",
   "execution_count": 61,
   "metadata": {},
   "outputs": [
    {
     "name": "stdout",
     "output_type": "stream",
     "text": [
      "<re.Match object; span=(0, 2), match='AH'>\n"
     ]
    }
   ],
   "source": [
    "print(re.search('[A-Z 0-9]+',\"AHaHS 133893\"))"
   ]
  },
  {
   "cell_type": "code",
   "execution_count": null,
   "metadata": {},
   "outputs": [],
   "source": [
    "\n",
    "#CLASS \n",
    "#OBJECT\n",
    "    # 4 WAYS  of class \n",
    "        \n",
    "    # INT()\n",
    "    # Types of variable \n",
    "        - class var\n",
    "        - instance var \n",
    "    # access modifies\n",
    "        - public \n",
    "        - protected\n",
    "        - private "
   ]
  },
  {
   "cell_type": "code",
   "execution_count": null,
   "metadata": {},
   "outputs": [],
   "source": [
    "# BANKING APPLIACATION\n",
    "1. CREATE/LOGIN ACCOUNT\n",
    "2. DEPOSIT / WITHDRAW \n",
    "3. MODIFY ACCOUNT DETAILS\n",
    "4. BALANCE ENQ\n",
    "5. DISPLAY ACCOUNT DETAILS.\n",
    "\n",
    "files ---> DB"
   ]
  },
  {
   "cell_type": "code",
   "execution_count": null,
   "metadata": {},
   "outputs": [],
   "source": [
    "sys\n",
    "os\n",
    "random\n",
    "math\n",
    "array\n",
    "hashlib\n",
    "re\n",
    "collections\n"
   ]
  },
  {
   "cell_type": "code",
   "execution_count": 63,
   "metadata": {},
   "outputs": [
    {
     "name": "stdout",
     "output_type": "stream",
     "text": [
      "<_io.TextIOWrapper name='PersonDetails.txt' mode='r' encoding='cp1252'>\n"
     ]
    }
   ],
   "source": [
    "fo = open('PersonDetails.txt' , mode = 'r')\n",
    "print(fo)"
   ]
  },
  {
   "cell_type": "code",
   "execution_count": 64,
   "metadata": {},
   "outputs": [
    {
     "name": "stdout",
     "output_type": "stream",
     "text": [
      "name = 'kumar'\n",
      "balance = 20000\n",
      "bankname = 'SBI'\n"
     ]
    }
   ],
   "source": [
    "print(fo.read())"
   ]
  },
  {
   "cell_type": "code",
   "execution_count": 69,
   "metadata": {},
   "outputs": [
    {
     "ename": "FileNotFoundError",
     "evalue": "[Errno 2] No such file or directory: 'PersonDetails4.txt'",
     "output_type": "error",
     "traceback": [
      "\u001b[1;31m---------------------------------------------------------------------------\u001b[0m",
      "\u001b[1;31mFileNotFoundError\u001b[0m                         Traceback (most recent call last)",
      "Cell \u001b[1;32mIn[69], line 1\u001b[0m\n\u001b[1;32m----> 1\u001b[0m fo1 \u001b[38;5;241m=\u001b[39m \u001b[38;5;28;43mopen\u001b[39;49m\u001b[43m(\u001b[49m\u001b[38;5;124;43m'\u001b[39;49m\u001b[38;5;124;43mPersonDetails4.txt\u001b[39;49m\u001b[38;5;124;43m'\u001b[39;49m\u001b[43m)\u001b[49m\n\u001b[0;32m      2\u001b[0m fo1\u001b[38;5;241m.\u001b[39mwrite(\u001b[38;5;124m\"\u001b[39m\u001b[38;5;124mname = \u001b[39m\u001b[38;5;124m'\u001b[39m\u001b[38;5;124mmanoj\u001b[39m\u001b[38;5;124m'\u001b[39m\u001b[38;5;130;01m\\n\u001b[39;00m\u001b[38;5;124m\"\u001b[39m)\n\u001b[0;32m      3\u001b[0m fo1\u001b[38;5;241m.\u001b[39mwrite(\u001b[38;5;124m\"\u001b[39m\u001b[38;5;124mbalance = 3000\u001b[39m\u001b[38;5;130;01m\\n\u001b[39;00m\u001b[38;5;124m\"\u001b[39m)\n",
      "File \u001b[1;32m~\\anaconda3\\lib\\site-packages\\IPython\\core\\interactiveshell.py:282\u001b[0m, in \u001b[0;36m_modified_open\u001b[1;34m(file, *args, **kwargs)\u001b[0m\n\u001b[0;32m    275\u001b[0m \u001b[38;5;28;01mif\u001b[39;00m file \u001b[38;5;129;01min\u001b[39;00m {\u001b[38;5;241m0\u001b[39m, \u001b[38;5;241m1\u001b[39m, \u001b[38;5;241m2\u001b[39m}:\n\u001b[0;32m    276\u001b[0m     \u001b[38;5;28;01mraise\u001b[39;00m \u001b[38;5;167;01mValueError\u001b[39;00m(\n\u001b[0;32m    277\u001b[0m         \u001b[38;5;124mf\u001b[39m\u001b[38;5;124m\"\u001b[39m\u001b[38;5;124mIPython won\u001b[39m\u001b[38;5;124m'\u001b[39m\u001b[38;5;124mt let you open fd=\u001b[39m\u001b[38;5;132;01m{\u001b[39;00mfile\u001b[38;5;132;01m}\u001b[39;00m\u001b[38;5;124m by default \u001b[39m\u001b[38;5;124m\"\u001b[39m\n\u001b[0;32m    278\u001b[0m         \u001b[38;5;124m\"\u001b[39m\u001b[38;5;124mas it is likely to crash IPython. If you know what you are doing, \u001b[39m\u001b[38;5;124m\"\u001b[39m\n\u001b[0;32m    279\u001b[0m         \u001b[38;5;124m\"\u001b[39m\u001b[38;5;124myou can use builtins\u001b[39m\u001b[38;5;124m'\u001b[39m\u001b[38;5;124m open.\u001b[39m\u001b[38;5;124m\"\u001b[39m\n\u001b[0;32m    280\u001b[0m     )\n\u001b[1;32m--> 282\u001b[0m \u001b[38;5;28;01mreturn\u001b[39;00m io_open(file, \u001b[38;5;241m*\u001b[39margs, \u001b[38;5;241m*\u001b[39m\u001b[38;5;241m*\u001b[39mkwargs)\n",
      "\u001b[1;31mFileNotFoundError\u001b[0m: [Errno 2] No such file or directory: 'PersonDetails4.txt'"
     ]
    }
   ],
   "source": [
    "fo1 = open('PersonDetails4.txt')\n",
    "fo1.write(\"name = 'manoj'\\n\")\n",
    "fo1.write(\"balance = 3000\\n\")\n",
    "fo1.write(\"bankname = 'ICICI'\\n\")\n",
    "\n",
    "fo1.close()"
   ]
  },
  {
   "cell_type": "code",
   "execution_count": null,
   "metadata": {},
   "outputs": [],
   "source": []
  }
 ],
 "metadata": {
  "kernelspec": {
   "display_name": "Python 3 (ipykernel)",
   "language": "python",
   "name": "python3"
  },
  "language_info": {
   "codemirror_mode": {
    "name": "ipython",
    "version": 3
   },
   "file_extension": ".py",
   "mimetype": "text/x-python",
   "name": "python",
   "nbconvert_exporter": "python",
   "pygments_lexer": "ipython3",
   "version": "3.10.9"
  }
 },
 "nbformat": 4,
 "nbformat_minor": 4
}
